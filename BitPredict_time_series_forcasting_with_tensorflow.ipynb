{
  "nbformat": 4,
  "nbformat_minor": 0,
  "metadata": {
    "colab": {
      "name": "BitPredict_time_series_forcasting_with_tensorflow.ipynb",
      "provenance": [],
      "toc_visible": true
    },
    "kernelspec": {
      "name": "python3",
      "display_name": "Python 3"
    },
    "language_info": {
      "name": "python"
    },
    "accelerator": "GPU"
  },
  "cells": [
    {
      "cell_type": "markdown",
      "source": [
        "## Get Data"
      ],
      "metadata": {
        "id": "Np0sGGbqwv9Y"
      }
    },
    {
      "cell_type": "code",
      "execution_count": 1,
      "metadata": {
        "colab": {
          "base_uri": "https://localhost:8080/"
        },
        "id": "eh-_oCoRwa6O",
        "outputId": "8a2e9bee-9f60-4a65-c5c0-3655e04c0895"
      },
      "outputs": [
        {
          "output_type": "stream",
          "name": "stdout",
          "text": [
            "--2021-12-30 18:03:29--  https://raw.githubusercontent.com/mrdbourke/tensorflow-deep-learning/main/extras/BTC_USD_2013-10-01_2021-05-18-CoinDesk.csv\n",
            "Resolving raw.githubusercontent.com (raw.githubusercontent.com)... 185.199.108.133, 185.199.109.133, 185.199.110.133, ...\n",
            "Connecting to raw.githubusercontent.com (raw.githubusercontent.com)|185.199.108.133|:443... connected.\n",
            "HTTP request sent, awaiting response... 200 OK\n",
            "Length: 178509 (174K) [text/plain]\n",
            "Saving to: ‘BTC_USD_2013-10-01_2021-05-18-CoinDesk.csv’\n",
            "\n",
            "BTC_USD_2013-10-01_ 100%[===================>] 174.33K  --.-KB/s    in 0.02s   \n",
            "\n",
            "2021-12-30 18:03:29 (10.7 MB/s) - ‘BTC_USD_2013-10-01_2021-05-18-CoinDesk.csv’ saved [178509/178509]\n",
            "\n"
          ]
        }
      ],
      "source": [
        "!wget https://raw.githubusercontent.com/mrdbourke/tensorflow-deep-learning/main/extras/BTC_USD_2013-10-01_2021-05-18-CoinDesk.csv"
      ]
    },
    {
      "cell_type": "markdown",
      "source": [
        "## Import time series data with Pandas"
      ],
      "metadata": {
        "id": "zqyAfJ4jxSmP"
      }
    },
    {
      "cell_type": "code",
      "source": [
        "import pandas as pd\n",
        "\n",
        "df = pd.read_csv(\"BTC_USD_2013-10-01_2021-05-18-CoinDesk.csv\",\n",
        "                 parse_dates=[\"Date\"],\n",
        "                 index_col=['Date'])"
      ],
      "metadata": {
        "id": "vVnKiNZmxSOl"
      },
      "execution_count": 2,
      "outputs": []
    },
    {
      "cell_type": "code",
      "source": [
        "df.head()"
      ],
      "metadata": {
        "colab": {
          "base_uri": "https://localhost:8080/",
          "height": 238
        },
        "id": "8XPJCxAtxyJ3",
        "outputId": "a3a426c2-e36f-458c-9c13-e0699f80f97e"
      },
      "execution_count": 3,
      "outputs": [
        {
          "output_type": "execute_result",
          "data": {
            "text/html": [
              "\n",
              "  <div id=\"df-e232180e-9a03-4f8a-ab22-882b4492cef0\">\n",
              "    <div class=\"colab-df-container\">\n",
              "      <div>\n",
              "<style scoped>\n",
              "    .dataframe tbody tr th:only-of-type {\n",
              "        vertical-align: middle;\n",
              "    }\n",
              "\n",
              "    .dataframe tbody tr th {\n",
              "        vertical-align: top;\n",
              "    }\n",
              "\n",
              "    .dataframe thead th {\n",
              "        text-align: right;\n",
              "    }\n",
              "</style>\n",
              "<table border=\"1\" class=\"dataframe\">\n",
              "  <thead>\n",
              "    <tr style=\"text-align: right;\">\n",
              "      <th></th>\n",
              "      <th>Currency</th>\n",
              "      <th>Closing Price (USD)</th>\n",
              "      <th>24h Open (USD)</th>\n",
              "      <th>24h High (USD)</th>\n",
              "      <th>24h Low (USD)</th>\n",
              "    </tr>\n",
              "    <tr>\n",
              "      <th>Date</th>\n",
              "      <th></th>\n",
              "      <th></th>\n",
              "      <th></th>\n",
              "      <th></th>\n",
              "      <th></th>\n",
              "    </tr>\n",
              "  </thead>\n",
              "  <tbody>\n",
              "    <tr>\n",
              "      <th>2013-10-01</th>\n",
              "      <td>BTC</td>\n",
              "      <td>123.65499</td>\n",
              "      <td>124.30466</td>\n",
              "      <td>124.75166</td>\n",
              "      <td>122.56349</td>\n",
              "    </tr>\n",
              "    <tr>\n",
              "      <th>2013-10-02</th>\n",
              "      <td>BTC</td>\n",
              "      <td>125.45500</td>\n",
              "      <td>123.65499</td>\n",
              "      <td>125.75850</td>\n",
              "      <td>123.63383</td>\n",
              "    </tr>\n",
              "    <tr>\n",
              "      <th>2013-10-03</th>\n",
              "      <td>BTC</td>\n",
              "      <td>108.58483</td>\n",
              "      <td>125.45500</td>\n",
              "      <td>125.66566</td>\n",
              "      <td>83.32833</td>\n",
              "    </tr>\n",
              "    <tr>\n",
              "      <th>2013-10-04</th>\n",
              "      <td>BTC</td>\n",
              "      <td>118.67466</td>\n",
              "      <td>108.58483</td>\n",
              "      <td>118.67500</td>\n",
              "      <td>107.05816</td>\n",
              "    </tr>\n",
              "    <tr>\n",
              "      <th>2013-10-05</th>\n",
              "      <td>BTC</td>\n",
              "      <td>121.33866</td>\n",
              "      <td>118.67466</td>\n",
              "      <td>121.93633</td>\n",
              "      <td>118.00566</td>\n",
              "    </tr>\n",
              "  </tbody>\n",
              "</table>\n",
              "</div>\n",
              "      <button class=\"colab-df-convert\" onclick=\"convertToInteractive('df-e232180e-9a03-4f8a-ab22-882b4492cef0')\"\n",
              "              title=\"Convert this dataframe to an interactive table.\"\n",
              "              style=\"display:none;\">\n",
              "        \n",
              "  <svg xmlns=\"http://www.w3.org/2000/svg\" height=\"24px\"viewBox=\"0 0 24 24\"\n",
              "       width=\"24px\">\n",
              "    <path d=\"M0 0h24v24H0V0z\" fill=\"none\"/>\n",
              "    <path d=\"M18.56 5.44l.94 2.06.94-2.06 2.06-.94-2.06-.94-.94-2.06-.94 2.06-2.06.94zm-11 1L8.5 8.5l.94-2.06 2.06-.94-2.06-.94L8.5 2.5l-.94 2.06-2.06.94zm10 10l.94 2.06.94-2.06 2.06-.94-2.06-.94-.94-2.06-.94 2.06-2.06.94z\"/><path d=\"M17.41 7.96l-1.37-1.37c-.4-.4-.92-.59-1.43-.59-.52 0-1.04.2-1.43.59L10.3 9.45l-7.72 7.72c-.78.78-.78 2.05 0 2.83L4 21.41c.39.39.9.59 1.41.59.51 0 1.02-.2 1.41-.59l7.78-7.78 2.81-2.81c.8-.78.8-2.07 0-2.86zM5.41 20L4 18.59l7.72-7.72 1.47 1.35L5.41 20z\"/>\n",
              "  </svg>\n",
              "      </button>\n",
              "      \n",
              "  <style>\n",
              "    .colab-df-container {\n",
              "      display:flex;\n",
              "      flex-wrap:wrap;\n",
              "      gap: 12px;\n",
              "    }\n",
              "\n",
              "    .colab-df-convert {\n",
              "      background-color: #E8F0FE;\n",
              "      border: none;\n",
              "      border-radius: 50%;\n",
              "      cursor: pointer;\n",
              "      display: none;\n",
              "      fill: #1967D2;\n",
              "      height: 32px;\n",
              "      padding: 0 0 0 0;\n",
              "      width: 32px;\n",
              "    }\n",
              "\n",
              "    .colab-df-convert:hover {\n",
              "      background-color: #E2EBFA;\n",
              "      box-shadow: 0px 1px 2px rgba(60, 64, 67, 0.3), 0px 1px 3px 1px rgba(60, 64, 67, 0.15);\n",
              "      fill: #174EA6;\n",
              "    }\n",
              "\n",
              "    [theme=dark] .colab-df-convert {\n",
              "      background-color: #3B4455;\n",
              "      fill: #D2E3FC;\n",
              "    }\n",
              "\n",
              "    [theme=dark] .colab-df-convert:hover {\n",
              "      background-color: #434B5C;\n",
              "      box-shadow: 0px 1px 3px 1px rgba(0, 0, 0, 0.15);\n",
              "      filter: drop-shadow(0px 1px 2px rgba(0, 0, 0, 0.3));\n",
              "      fill: #FFFFFF;\n",
              "    }\n",
              "  </style>\n",
              "\n",
              "      <script>\n",
              "        const buttonEl =\n",
              "          document.querySelector('#df-e232180e-9a03-4f8a-ab22-882b4492cef0 button.colab-df-convert');\n",
              "        buttonEl.style.display =\n",
              "          google.colab.kernel.accessAllowed ? 'block' : 'none';\n",
              "\n",
              "        async function convertToInteractive(key) {\n",
              "          const element = document.querySelector('#df-e232180e-9a03-4f8a-ab22-882b4492cef0');\n",
              "          const dataTable =\n",
              "            await google.colab.kernel.invokeFunction('convertToInteractive',\n",
              "                                                     [key], {});\n",
              "          if (!dataTable) return;\n",
              "\n",
              "          const docLinkHtml = 'Like what you see? Visit the ' +\n",
              "            '<a target=\"_blank\" href=https://colab.research.google.com/notebooks/data_table.ipynb>data table notebook</a>'\n",
              "            + ' to learn more about interactive tables.';\n",
              "          element.innerHTML = '';\n",
              "          dataTable['output_type'] = 'display_data';\n",
              "          await google.colab.output.renderOutput(dataTable, element);\n",
              "          const docLink = document.createElement('div');\n",
              "          docLink.innerHTML = docLinkHtml;\n",
              "          element.appendChild(docLink);\n",
              "        }\n",
              "      </script>\n",
              "    </div>\n",
              "  </div>\n",
              "  "
            ],
            "text/plain": [
              "           Currency  Closing Price (USD)  ...  24h High (USD)  24h Low (USD)\n",
              "Date                                      ...                               \n",
              "2013-10-01      BTC            123.65499  ...       124.75166      122.56349\n",
              "2013-10-02      BTC            125.45500  ...       125.75850      123.63383\n",
              "2013-10-03      BTC            108.58483  ...       125.66566       83.32833\n",
              "2013-10-04      BTC            118.67466  ...       118.67500      107.05816\n",
              "2013-10-05      BTC            121.33866  ...       121.93633      118.00566\n",
              "\n",
              "[5 rows x 5 columns]"
            ]
          },
          "metadata": {},
          "execution_count": 3
        }
      ]
    },
    {
      "cell_type": "code",
      "source": [
        "# extract closing price column and rename \n",
        "bitcoin_prices = pd.DataFrame(df['Closing Price (USD)']).rename(columns={\"Closing Price (USD)\":\"Price\"})"
      ],
      "metadata": {
        "id": "NBqUZxDLzxNn"
      },
      "execution_count": 4,
      "outputs": []
    },
    {
      "cell_type": "code",
      "source": [
        "bitcoin_prices.head()"
      ],
      "metadata": {
        "colab": {
          "base_uri": "https://localhost:8080/",
          "height": 238
        },
        "id": "Q1aSDQCL0Hrz",
        "outputId": "8763fae8-99bc-4359-cc59-09774904bb8c"
      },
      "execution_count": 5,
      "outputs": [
        {
          "output_type": "execute_result",
          "data": {
            "text/html": [
              "\n",
              "  <div id=\"df-8069f907-e5e3-4cf0-b102-1f93f022923c\">\n",
              "    <div class=\"colab-df-container\">\n",
              "      <div>\n",
              "<style scoped>\n",
              "    .dataframe tbody tr th:only-of-type {\n",
              "        vertical-align: middle;\n",
              "    }\n",
              "\n",
              "    .dataframe tbody tr th {\n",
              "        vertical-align: top;\n",
              "    }\n",
              "\n",
              "    .dataframe thead th {\n",
              "        text-align: right;\n",
              "    }\n",
              "</style>\n",
              "<table border=\"1\" class=\"dataframe\">\n",
              "  <thead>\n",
              "    <tr style=\"text-align: right;\">\n",
              "      <th></th>\n",
              "      <th>Price</th>\n",
              "    </tr>\n",
              "    <tr>\n",
              "      <th>Date</th>\n",
              "      <th></th>\n",
              "    </tr>\n",
              "  </thead>\n",
              "  <tbody>\n",
              "    <tr>\n",
              "      <th>2013-10-01</th>\n",
              "      <td>123.65499</td>\n",
              "    </tr>\n",
              "    <tr>\n",
              "      <th>2013-10-02</th>\n",
              "      <td>125.45500</td>\n",
              "    </tr>\n",
              "    <tr>\n",
              "      <th>2013-10-03</th>\n",
              "      <td>108.58483</td>\n",
              "    </tr>\n",
              "    <tr>\n",
              "      <th>2013-10-04</th>\n",
              "      <td>118.67466</td>\n",
              "    </tr>\n",
              "    <tr>\n",
              "      <th>2013-10-05</th>\n",
              "      <td>121.33866</td>\n",
              "    </tr>\n",
              "  </tbody>\n",
              "</table>\n",
              "</div>\n",
              "      <button class=\"colab-df-convert\" onclick=\"convertToInteractive('df-8069f907-e5e3-4cf0-b102-1f93f022923c')\"\n",
              "              title=\"Convert this dataframe to an interactive table.\"\n",
              "              style=\"display:none;\">\n",
              "        \n",
              "  <svg xmlns=\"http://www.w3.org/2000/svg\" height=\"24px\"viewBox=\"0 0 24 24\"\n",
              "       width=\"24px\">\n",
              "    <path d=\"M0 0h24v24H0V0z\" fill=\"none\"/>\n",
              "    <path d=\"M18.56 5.44l.94 2.06.94-2.06 2.06-.94-2.06-.94-.94-2.06-.94 2.06-2.06.94zm-11 1L8.5 8.5l.94-2.06 2.06-.94-2.06-.94L8.5 2.5l-.94 2.06-2.06.94zm10 10l.94 2.06.94-2.06 2.06-.94-2.06-.94-.94-2.06-.94 2.06-2.06.94z\"/><path d=\"M17.41 7.96l-1.37-1.37c-.4-.4-.92-.59-1.43-.59-.52 0-1.04.2-1.43.59L10.3 9.45l-7.72 7.72c-.78.78-.78 2.05 0 2.83L4 21.41c.39.39.9.59 1.41.59.51 0 1.02-.2 1.41-.59l7.78-7.78 2.81-2.81c.8-.78.8-2.07 0-2.86zM5.41 20L4 18.59l7.72-7.72 1.47 1.35L5.41 20z\"/>\n",
              "  </svg>\n",
              "      </button>\n",
              "      \n",
              "  <style>\n",
              "    .colab-df-container {\n",
              "      display:flex;\n",
              "      flex-wrap:wrap;\n",
              "      gap: 12px;\n",
              "    }\n",
              "\n",
              "    .colab-df-convert {\n",
              "      background-color: #E8F0FE;\n",
              "      border: none;\n",
              "      border-radius: 50%;\n",
              "      cursor: pointer;\n",
              "      display: none;\n",
              "      fill: #1967D2;\n",
              "      height: 32px;\n",
              "      padding: 0 0 0 0;\n",
              "      width: 32px;\n",
              "    }\n",
              "\n",
              "    .colab-df-convert:hover {\n",
              "      background-color: #E2EBFA;\n",
              "      box-shadow: 0px 1px 2px rgba(60, 64, 67, 0.3), 0px 1px 3px 1px rgba(60, 64, 67, 0.15);\n",
              "      fill: #174EA6;\n",
              "    }\n",
              "\n",
              "    [theme=dark] .colab-df-convert {\n",
              "      background-color: #3B4455;\n",
              "      fill: #D2E3FC;\n",
              "    }\n",
              "\n",
              "    [theme=dark] .colab-df-convert:hover {\n",
              "      background-color: #434B5C;\n",
              "      box-shadow: 0px 1px 3px 1px rgba(0, 0, 0, 0.15);\n",
              "      filter: drop-shadow(0px 1px 2px rgba(0, 0, 0, 0.3));\n",
              "      fill: #FFFFFF;\n",
              "    }\n",
              "  </style>\n",
              "\n",
              "      <script>\n",
              "        const buttonEl =\n",
              "          document.querySelector('#df-8069f907-e5e3-4cf0-b102-1f93f022923c button.colab-df-convert');\n",
              "        buttonEl.style.display =\n",
              "          google.colab.kernel.accessAllowed ? 'block' : 'none';\n",
              "\n",
              "        async function convertToInteractive(key) {\n",
              "          const element = document.querySelector('#df-8069f907-e5e3-4cf0-b102-1f93f022923c');\n",
              "          const dataTable =\n",
              "            await google.colab.kernel.invokeFunction('convertToInteractive',\n",
              "                                                     [key], {});\n",
              "          if (!dataTable) return;\n",
              "\n",
              "          const docLinkHtml = 'Like what you see? Visit the ' +\n",
              "            '<a target=\"_blank\" href=https://colab.research.google.com/notebooks/data_table.ipynb>data table notebook</a>'\n",
              "            + ' to learn more about interactive tables.';\n",
              "          element.innerHTML = '';\n",
              "          dataTable['output_type'] = 'display_data';\n",
              "          await google.colab.output.renderOutput(dataTable, element);\n",
              "          const docLink = document.createElement('div');\n",
              "          docLink.innerHTML = docLinkHtml;\n",
              "          element.appendChild(docLink);\n",
              "        }\n",
              "      </script>\n",
              "    </div>\n",
              "  </div>\n",
              "  "
            ],
            "text/plain": [
              "                Price\n",
              "Date                 \n",
              "2013-10-01  123.65499\n",
              "2013-10-02  125.45500\n",
              "2013-10-03  108.58483\n",
              "2013-10-04  118.67466\n",
              "2013-10-05  121.33866"
            ]
          },
          "metadata": {},
          "execution_count": 5
        }
      ]
    },
    {
      "cell_type": "code",
      "source": [
        "import matplotlib.pyplot as plt\n",
        "bitcoin_prices.plot(figsize=(10,7))\n",
        "plt.ylabel(\"BTC Price\")\n",
        "plt.title(\"Price of Bitcoin from 1 Oct 2013 to 18 May 2021\", fontsize=16)\n",
        "plt.legend(fontsize=14);"
      ],
      "metadata": {
        "colab": {
          "base_uri": "https://localhost:8080/",
          "height": 460
        },
        "id": "jQ5cXvSt0RcI",
        "outputId": "bba79bdb-3e1c-4497-a2c7-958f5f36678b"
      },
      "execution_count": 6,
      "outputs": [
        {
          "output_type": "display_data",
          "data": {
            "image/png": "[encoded data removed]",
            "text/plain": [
              "<Figure size 720x504 with 1 Axes>"
            ]
          },
          "metadata": {
            "needs_background": "light"
          }
        }
      ]
    },
    {
      "cell_type": "markdown",
      "source": [
        "## Create train and test splits for time series"
      ],
      "metadata": {
        "id": "imcySYN-2hKx"
      }
    },
    {
      "cell_type": "code",
      "source": [
        "timesteps = bitcoin_prices.index.to_numpy()\n",
        "prices = bitcoin_prices[\"Price\"].to_numpy()"
      ],
      "metadata": {
        "id": "KsZyLqVF5jwe"
      },
      "execution_count": 7,
      "outputs": []
    },
    {
      "cell_type": "code",
      "source": [
        "split_size = int(0.8 * len(bitcoin_prices))\n",
        "\n",
        "# Create train data splits (everything before the split)\n",
        "X_train, y_train = timesteps[:split_size], prices[:split_size]\n",
        "\n",
        "# Create test data splits (everything after the split)\n",
        "X_test, y_test = timesteps[split_size:], prices[split_size:]\n",
        "\n",
        "len(X_train), len(X_test), len(y_train), len(y_test)"
      ],
      "metadata": {
        "colab": {
          "base_uri": "https://localhost:8080/"
        },
        "id": "W6X6O5i82nZQ",
        "outputId": "61701efe-8351-4b53-af20-e74598d6b39d"
      },
      "execution_count": 8,
      "outputs": [
        {
          "output_type": "execute_result",
          "data": {
            "text/plain": [
              "(2229, 558, 2229, 558)"
            ]
          },
          "metadata": {},
          "execution_count": 8
        }
      ]
    },
    {
      "cell_type": "code",
      "source": [
        "# Plot splits\n",
        "plt.figure(figsize=(10, 7))\n",
        "plt.scatter(X_train, y_train, s=5, label=\"Train data\")\n",
        "plt.scatter(X_test, y_test, s=5, label=\"Test data\")\n",
        "plt.xlabel(\"Date\")\n",
        "plt.ylabel(\"BTC Price\")\n",
        "plt.legend(fontsize=14)\n",
        "plt.show();"
      ],
      "metadata": {
        "colab": {
          "base_uri": "https://localhost:8080/",
          "height": 442
        },
        "id": "hqm6UhLS4HDN",
        "outputId": "f534c00d-2776-45c3-ded5-fb5d96403d25"
      },
      "execution_count": 9,
      "outputs": [
        {
          "output_type": "display_data",
          "data": {
            "image/png": "[encoded data removed]",
            "text/plain": [
              "<Figure size 720x504 with 1 Axes>"
            ]
          },
          "metadata": {
            "needs_background": "light"
          }
        }
      ]
    },
    {
      "cell_type": "markdown",
      "source": [
        "## Create plotting fucntion"
      ],
      "metadata": {
        "id": "2YyyWQcB52Iz"
      }
    },
    {
      "cell_type": "code",
      "source": [
        "# Create a function to plot time series data\n",
        "def plot_time_series(timesteps, values, format='.', start=0, end=None, label=None):\n",
        "  \"\"\"\n",
        "  Plots a timesteps (a series of points in time) against values (a series of values across timesteps).\n",
        "  \n",
        "  Parameters\n",
        "  ---------\n",
        "  timesteps : array of timesteps\n",
        "  values : array of values across time\n",
        "  format : style of plot, default \".\"\n",
        "  start : where to start the plot (setting a value will index from start of timesteps & values)\n",
        "  end : where to end the plot (setting a value will index from end of timesteps & values)\n",
        "  label : label to show on plot of values\n",
        "  \"\"\"\n",
        "  # Plot the series\n",
        "  plt.plot(timesteps[start:end], values[start:end], format, label=label)\n",
        "  plt.xlabel(\"Time\")\n",
        "  plt.ylabel(\"BTC Price\")\n",
        "  if label:\n",
        "    plt.legend(fontsize=14) # make label bigger\n",
        "  plt.grid(True)"
      ],
      "metadata": {
        "id": "vR2tHi0A55R-"
      },
      "execution_count": 10,
      "outputs": []
    },
    {
      "cell_type": "code",
      "source": [
        "# Try out our plotting function\n",
        "plt.figure(figsize=(10, 7))\n",
        "plot_time_series(timesteps=X_train, values=y_train, label=\"Train data\")\n",
        "plot_time_series(timesteps=X_test, values=y_test, label=\"Test data\")"
      ],
      "metadata": {
        "colab": {
          "base_uri": "https://localhost:8080/",
          "height": 442
        },
        "id": "zmsol5sJ6APB",
        "outputId": "4e6e49fb-cde8-48d7-8e34-005e7d024374"
      },
      "execution_count": 11,
      "outputs": [
        {
          "output_type": "display_data",
          "data": {
            "image/png": "[encoded data removed]",
            "text/plain": [
              "<Figure size 720x504 with 1 Axes>"
            ]
          },
          "metadata": {
            "needs_background": "light"
          }
        }
      ]
    },
    {
      "cell_type": "markdown",
      "source": [
        "## Model 0: Naive forcast model (baseline)"
      ],
      "metadata": {
        "id": "UCCC6dRX6LD5"
      }
    },
    {
      "cell_type": "code",
      "source": [
        "# Create a naïve forecast\n",
        "naive_forecast = y_test[:-1]\n",
        "naive_forecast[:10], naive_forecast[-10:] "
      ],
      "metadata": {
        "colab": {
          "base_uri": "https://localhost:8080/"
        },
        "id": "9TC97Cjc8z-K",
        "outputId": "984bcf9e-3e35-451d-e6ad-67ebc96f3e44"
      },
      "execution_count": 12,
      "outputs": [
        {
          "output_type": "execute_result",
          "data": {
            "text/plain": [
              "(array([9226.48582088, 8794.35864452, 8798.04205463, 9081.18687849,\n",
              "        8711.53433917, 8760.89271814, 8749.52059102, 8656.97092235,\n",
              "        8500.64355816, 8469.2608989 ]),\n",
              " array([57107.12067189, 58788.20967893, 58102.19142623, 55715.54665129,\n",
              "        56573.5554719 , 52147.82118698, 49764.1320816 , 50032.69313676,\n",
              "        47885.62525472, 45604.61575361]))"
            ]
          },
          "metadata": {},
          "execution_count": 12
        }
      ]
    },
    {
      "cell_type": "code",
      "source": [
        "# Plot naive forecast\n",
        "plt.figure(figsize=(10, 7))\n",
        "plot_time_series(timesteps=X_train, values=y_train, label=\"Train data\")\n",
        "plot_time_series(timesteps=X_test, values=y_test, label=\"Test data\")\n",
        "plot_time_series(timesteps=X_test[1:], values=naive_forecast, format=\"-\", label=\"Naive forecast\");"
      ],
      "metadata": {
        "colab": {
          "base_uri": "https://localhost:8080/",
          "height": 442
        },
        "id": "PHcbkI8R-Hz4",
        "outputId": "ac72857c-3cc8-43f6-e7b3-e78790503143"
      },
      "execution_count": 13,
      "outputs": [
        {
          "output_type": "display_data",
          "data": {
            "image/png": "[encoded data removed]",
            "text/plain": [
              "<Figure size 720x504 with 1 Axes>"
            ]
          },
          "metadata": {
            "needs_background": "light"
          }
        }
      ]
    },
    {
      "cell_type": "code",
      "source": [
        "plt.figure(figsize=(10, 7))\n",
        "offset = 300 # offset the values by 300 timesteps \n",
        "plot_time_series(timesteps=X_test, values=y_test, start=offset, label=\"Test data\")\n",
        "plot_time_series(timesteps=X_test[1:], values=naive_forecast, format=\"-\", start=offset, label=\"Naive forecast\");"
      ],
      "metadata": {
        "id": "z_M-ikTY-Mw_",
        "outputId": "109ccc86-4130-4a5b-a552-5d85d6cf06c4",
        "colab": {
          "base_uri": "https://localhost:8080/",
          "height": 442
        }
      },
      "execution_count": 14,
      "outputs": [
        {
          "output_type": "display_data",
          "data": {
            "image/png": "[encoded data removed]",
            "text/plain": [
              "<Figure size 720x504 with 1 Axes>"
            ]
          },
          "metadata": {
            "needs_background": "light"
          }
        }
      ]
    },
    {
      "cell_type": "markdown",
      "source": [
        "## Crreate a function that takes true and pred values and return evaluation metrics"
      ],
      "metadata": {
        "id": "tSnRehe45NSU"
      }
    },
    {
      "cell_type": "code",
      "source": [
        "import tensorflow as tf\n",
        "import numpy as np"
      ],
      "metadata": {
        "id": "LX5lopbi5nO0"
      },
      "execution_count": 15,
      "outputs": []
    },
    {
      "cell_type": "code",
      "source": [
        "# MASE implemented courtesy of sktime - https://github.com/alan-turing-institute/sktime/blob/ee7a06843a44f4aaec7582d847e36073a9ab0566/sktime/performance_metrics/forecasting/_functions.py#L16\n",
        "def mean_absolute_scaled_error(y_true, y_pred):\n",
        "  \"\"\"\n",
        "  Implement MASE (assuming no seasonality of data).\n",
        "  \"\"\"\n",
        "  mae = tf.reduce_mean(tf.abs(y_true - y_pred))\n",
        "\n",
        "  # Find MAE of naive forecast (no seasonality)\n",
        "  mae_naive_no_season = tf.reduce_mean(tf.abs(y_true[1:] - y_true[:-1])) # our seasonality is 1 day (hence the shifting of 1 day)\n",
        "\n",
        "  return mae / mae_naive_no_season"
      ],
      "metadata": {
        "id": "Eq0Tr0Ci6Eha"
      },
      "execution_count": 16,
      "outputs": []
    },
    {
      "cell_type": "code",
      "source": [
        "def evaluate_preds(y_true, y_pred):\n",
        "  y_true = tf.cast(y_true, dtype=tf.float32)\n",
        "  y_pred = tf.cast(y_pred, dtype=tf.float32)\n",
        "\n",
        "  mae = tf.keras.metrics.mean_absolute_error(y_true, y_pred)\n",
        "  mse = tf.keras.metrics.mean_absolute_error(y_true, y_pred)\n",
        "  rmse = tf.sqrt(mse)\n",
        "  mape = tf.keras.metrics.mean_absolute_percentage_error(y_true, y_pred)\n",
        "  mase = mean_absolute_scaled_error(y_true, y_pred)\n",
        "\n",
        "  return {\"mae\": mae.numpy(),\n",
        "          \"mse\": mse.numpy(),\n",
        "          \"rmse\": rmse.numpy(),\n",
        "          \"mape\": mape.numpy(),\n",
        "          \"mase\": mase.numpy()}\n"
      ],
      "metadata": {
        "id": "lI8NFceD5VPY"
      },
      "execution_count": 17,
      "outputs": []
    },
    {
      "cell_type": "code",
      "source": [
        "# test the funcion using model 0 results\n",
        "model_0_results = evaluate_preds(y_true=y_test[1:], y_pred=naive_forecast)\n",
        "model_0_results"
      ],
      "metadata": {
        "colab": {
          "base_uri": "https://localhost:8080/"
        },
        "id": "9E9S4OLj67Qy",
        "outputId": "e4a047e8-78b7-4f7f-afc5-81010b2c4e27"
      },
      "execution_count": 18,
      "outputs": [
        {
          "output_type": "execute_result",
          "data": {
            "text/plain": [
              "{'mae': 567.9802,\n",
              " 'mape': 2.516525,\n",
              " 'mase': 0.99957,\n",
              " 'mse': 567.9802,\n",
              " 'rmse': 23.832336}"
            ]
          },
          "metadata": {},
          "execution_count": 18
        }
      ]
    },
    {
      "cell_type": "markdown",
      "source": [
        "## Format data: window the dataset"
      ],
      "metadata": {
        "id": "voex0mUn9lHt"
      }
    },
    {
      "cell_type": "code",
      "source": [
        "# set global variables \n",
        "HORIZON = 1 \n",
        "WINDOW_SIZE = 7"
      ],
      "metadata": {
        "id": "kCLcRkLg9oHe"
      },
      "execution_count": 19,
      "outputs": []
    },
    {
      "cell_type": "code",
      "source": [
        "# Create function to label windowed data\n",
        "def get_labelled_windows(x, horizon=1):\n",
        "  \"\"\"\n",
        "  Creates labels for windowed dataset.\n",
        "\n",
        "  E.g. if horizon=1 (default)\n",
        "  Input: [1, 2, 3, 4, 5, 6] -> Output: ([1, 2, 3, 4, 5], [6])\n",
        "  \"\"\"\n",
        "  return x[:, :-horizon], x[:, -horizon:]"
      ],
      "metadata": {
        "id": "Km_UnGzu_Ea4"
      },
      "execution_count": 20,
      "outputs": []
    },
    {
      "cell_type": "code",
      "source": [
        "# create function to iew numpy arrays as windows\n",
        "def make_windows(x, window_size=7, horizon=1):\n",
        "  \"\"\"\n",
        "  turn an 1D array into a 2D array of sequential windows of window_size\n",
        "  \"\"\"\n",
        "  window_step = np.expand_dims(np.arange(window_size+horizon), axis=0)\n",
        "  window_indexes = window_step + np.expand_dims(np.arange(len(x)-(window_size+horizon-1)), axis=0).T\n",
        "  windowed_array = x[window_indexes]\n",
        "  windows, labels = get_labelled_windows(windowed_array, horizon=horizon)\n",
        "  return windows, labels"
      ],
      "metadata": {
        "id": "LQkpMIm__X52"
      },
      "execution_count": 21,
      "outputs": []
    },
    {
      "cell_type": "code",
      "source": [
        "# test the function\n",
        "full_windows, full_labels = make_windows(prices, window_size=WINDOW_SIZE, horizon=HORIZON)\n",
        "len(full_windows), len(full_labels)"
      ],
      "metadata": {
        "colab": {
          "base_uri": "https://localhost:8080/"
        },
        "id": "UR5emFBRBjd3",
        "outputId": "3d134ac3-4507-4fde-da89-7f3a7d90561c"
      },
      "execution_count": 22,
      "outputs": [
        {
          "output_type": "execute_result",
          "data": {
            "text/plain": [
              "(2780, 2780)"
            ]
          },
          "metadata": {},
          "execution_count": 22
        }
      ]
    },
    {
      "cell_type": "code",
      "source": [
        "for i in range(3):\n",
        "  print(f\"Window: {full_windows[i]} -> Label: {full_labels[i]}\")"
      ],
      "metadata": {
        "colab": {
          "base_uri": "https://localhost:8080/"
        },
        "id": "pNq1l9neBsaM",
        "outputId": "2b90a4e0-74a8-4038-d597-a9e0def7ea2f"
      },
      "execution_count": 23,
      "outputs": [
        {
          "output_type": "stream",
          "name": "stdout",
          "text": [
            "Window: [123.65499 125.455   108.58483 118.67466 121.33866 120.65533 121.795  ] -> Label: [123.033]\n",
            "Window: [125.455   108.58483 118.67466 121.33866 120.65533 121.795   123.033  ] -> Label: [124.049]\n",
            "Window: [108.58483 118.67466 121.33866 120.65533 121.795   123.033   124.049  ] -> Label: [125.96116]\n"
          ]
        }
      ]
    },
    {
      "cell_type": "markdown",
      "source": [
        "## Turning windows into training and test sets"
      ],
      "metadata": {
        "id": "eN7ALiwXEvu1"
      }
    },
    {
      "cell_type": "code",
      "source": [
        "# make train test splits\n",
        "def make_train_test_splits(windows, labels, test_split=0.2):\n",
        "  \"\"\"\n",
        "  Splits matching pairs of windows and labels into train and test splits.\n",
        "  \"\"\"\n",
        "  split_size = int(len(windows) * (1-test_split))\n",
        "  train_windows = windows[:split_size]\n",
        "  train_labels = labels[:split_size]\n",
        "  test_windows = windows[split_size:]\n",
        "  test_labels = labels[split_size:]\n",
        "  return train_windows, test_windows, train_labels, test_labels"
      ],
      "metadata": {
        "id": "4YIod9hbExoT"
      },
      "execution_count": 24,
      "outputs": []
    },
    {
      "cell_type": "code",
      "source": [
        "train_windows, test_windows, train_labels, test_labels = make_train_test_splits(full_windows, full_labels)\n",
        "len(train_windows), len(test_windows), len(train_labels), len(test_labels)"
      ],
      "metadata": {
        "colab": {
          "base_uri": "https://localhost:8080/"
        },
        "id": "w3qsucItFKdV",
        "outputId": "07125f52-3b23-4aa0-9867-6a174c243e03"
      },
      "execution_count": 25,
      "outputs": [
        {
          "output_type": "execute_result",
          "data": {
            "text/plain": [
              "(2224, 556, 2224, 556)"
            ]
          },
          "metadata": {},
          "execution_count": 25
        }
      ]
    },
    {
      "cell_type": "code",
      "source": [
        "train_windows[:5], train_labels[:5]"
      ],
      "metadata": {
        "colab": {
          "base_uri": "https://localhost:8080/"
        },
        "id": "qtKfzYUoFWDQ",
        "outputId": "c61dcc71-4987-4bd9-9808-e2ad6c59e200"
      },
      "execution_count": 26,
      "outputs": [
        {
          "output_type": "execute_result",
          "data": {
            "text/plain": [
              "(array([[123.65499, 125.455  , 108.58483, 118.67466, 121.33866, 120.65533,\n",
              "         121.795  ],\n",
              "        [125.455  , 108.58483, 118.67466, 121.33866, 120.65533, 121.795  ,\n",
              "         123.033  ],\n",
              "        [108.58483, 118.67466, 121.33866, 120.65533, 121.795  , 123.033  ,\n",
              "         124.049  ],\n",
              "        [118.67466, 121.33866, 120.65533, 121.795  , 123.033  , 124.049  ,\n",
              "         125.96116],\n",
              "        [121.33866, 120.65533, 121.795  , 123.033  , 124.049  , 125.96116,\n",
              "         125.27966]]), array([[123.033  ],\n",
              "        [124.049  ],\n",
              "        [125.96116],\n",
              "        [125.27966],\n",
              "        [125.9275 ]]))"
            ]
          },
          "metadata": {},
          "execution_count": 26
        }
      ]
    },
    {
      "cell_type": "markdown",
      "source": [
        "## make modeling checkpoint"
      ],
      "metadata": {
        "id": "Hmn6hWqdFbSi"
      }
    },
    {
      "cell_type": "code",
      "source": [
        "import os\n",
        "\n",
        "# Create a function to implement a ModelCheckpoint callback with a specific filename \n",
        "def create_model_checkpoint(model_name, save_path=\"model_experiments\"):\n",
        "  return tf.keras.callbacks.ModelCheckpoint(filepath=os.path.join(save_path, model_name), # create filepath to save model\n",
        "                                            verbose=0, # only output a limited amount of text\n",
        "                                            save_best_only=True) # save only the best model to file\n",
        "                                          "
      ],
      "metadata": {
        "id": "I54OG5n8Fdcy"
      },
      "execution_count": 27,
      "outputs": []
    },
    {
      "cell_type": "markdown",
      "source": [
        "## Model 1: Dense model (window = 7, horizon = 1)"
      ],
      "metadata": {
        "id": "7l4HSXhZFg2b"
      }
    },
    {
      "cell_type": "code",
      "source": [
        "import tensorflow as tf\n",
        "from tensorflow.keras import layers\n",
        "\n",
        "# set random seed for reproductability\n",
        "tf.random.set_seed(42)\n",
        "\n",
        "#construct model\n",
        "model_1 = tf.keras.Sequential([\n",
        "                               layers.Dense(128, activation=\"relu\"),\n",
        "                               layers.Dense(HORIZON, activation=\"linear\")\n",
        "], name=\"model_1_dense\")\n",
        "\n",
        "# compile model\n",
        "model_1.compile(loss=\"mae\",\n",
        "                optimizer=tf.keras.optimizers.Adam(),\n",
        "                metrics=['mae'])\n",
        "\n",
        "# fit the model\n",
        "model_1.fit(x=train_windows,\n",
        "            y=train_labels,\n",
        "            epochs=100,\n",
        "            verbose=1,\n",
        "            batch_size=128,\n",
        "            validation_data=(test_windows, test_labels),\n",
        "            callbacks=[create_model_checkpoint(model_name=model_1.name)])"
      ],
      "metadata": {
        "colab": {
          "base_uri": "https://localhost:8080/"
        },
        "id": "fYBExCf6FjZ3",
        "outputId": "426d4b30-f1cf-4091-db6a-fcb4b3f52eb0"
      },
      "execution_count": 28,
      "outputs": [
        {
          "output_type": "stream",
          "name": "stdout",
          "text": [
            "Epoch 1/100\n",
            "10/18 [===============>..............] - ETA: 0s - loss: 1095.4896 - mae: 1095.4896 INFO:tensorflow:Assets written to: model_experiments/model_1_dense/assets\n",
            "18/18 [==============================] - 4s 110ms/step - loss: 780.3455 - mae: 780.3455 - val_loss: 2279.6528 - val_mae: 2279.6528\n",
            "Epoch 2/100\n",
            "15/18 [========================>.....] - ETA: 0s - loss: 259.9721 - mae: 259.9721INFO:tensorflow:Assets written to: model_experiments/model_1_dense/assets\n",
            "18/18 [==============================] - 1s 57ms/step - loss: 247.6756 - mae: 247.6756 - val_loss: 1005.9992 - val_mae: 1005.9992\n",
            "Epoch 3/100\n",
            "15/18 [========================>.....] - ETA: 0s - loss: 192.9411 - mae: 192.9411INFO:tensorflow:Assets written to: model_experiments/model_1_dense/assets\n",
            "18/18 [==============================] - 1s 52ms/step - loss: 188.4116 - mae: 188.4116 - val_loss: 923.2863 - val_mae: 923.2863\n",
            "Epoch 4/100\n",
            "11/18 [=================>............] - ETA: 0s - loss: 181.6264 - mae: 181.6264INFO:tensorflow:Assets written to: model_experiments/model_1_dense/assets\n",
            "18/18 [==============================] - 1s 68ms/step - loss: 169.4340 - mae: 169.4340 - val_loss: 900.5872 - val_mae: 900.5872\n",
            "Epoch 5/100\n",
            "10/18 [===============>..............] - ETA: 0s - loss: 170.0863 - mae: 170.0863INFO:tensorflow:Assets written to: model_experiments/model_1_dense/assets\n",
            "18/18 [==============================] - 1s 76ms/step - loss: 165.0895 - mae: 165.0895 - val_loss: 895.2236 - val_mae: 895.2236\n",
            "Epoch 6/100\n",
            "18/18 [==============================] - ETA: 0s - loss: 158.5210 - mae: 158.5210INFO:tensorflow:Assets written to: model_experiments/model_1_dense/assets\n",
            "18/18 [==============================] - 1s 53ms/step - loss: 158.5210 - mae: 158.5210 - val_loss: 855.1985 - val_mae: 855.1985\n",
            "Epoch 7/100\n",
            "13/18 [====================>.........] - ETA: 0s - loss: 159.4054 - mae: 159.4054INFO:tensorflow:Assets written to: model_experiments/model_1_dense/assets\n",
            "18/18 [==============================] - 1s 56ms/step - loss: 151.3566 - mae: 151.3566 - val_loss: 840.9167 - val_mae: 840.9166\n",
            "Epoch 8/100\n",
            "15/18 [========================>.....] - ETA: 0s - loss: 143.4757 - mae: 143.4757INFO:tensorflow:Assets written to: model_experiments/model_1_dense/assets\n",
            "18/18 [==============================] - 1s 47ms/step - loss: 145.2560 - mae: 145.2560 - val_loss: 803.5959 - val_mae: 803.5959\n",
            "Epoch 9/100\n",
            "14/18 [======================>.......] - ETA: 0s - loss: 140.2921 - mae: 140.2921INFO:tensorflow:Assets written to: model_experiments/model_1_dense/assets\n",
            "18/18 [==============================] - 1s 52ms/step - loss: 144.3546 - mae: 144.3546 - val_loss: 799.5455 - val_mae: 799.5455\n",
            "Epoch 10/100\n",
            " 1/18 [>.............................] - ETA: 0s - loss: 148.4501 - mae: 148.4501INFO:tensorflow:Assets written to: model_experiments/model_1_dense/assets\n",
            "18/18 [==============================] - 0s 28ms/step - loss: 141.2943 - mae: 141.2943 - val_loss: 763.5010 - val_mae: 763.5010\n",
            "Epoch 11/100\n",
            "18/18 [==============================] - 0s 4ms/step - loss: 135.6595 - mae: 135.6595 - val_loss: 771.3354 - val_mae: 771.3354\n",
            "Epoch 12/100\n",
            "18/18 [==============================] - 0s 5ms/step - loss: 134.1700 - mae: 134.1700 - val_loss: 782.8077 - val_mae: 782.8077\n",
            "Epoch 13/100\n",
            "18/18 [==============================] - 0s 4ms/step - loss: 134.6015 - mae: 134.6015 - val_loss: 784.4446 - val_mae: 784.4446\n",
            "Epoch 14/100\n",
            " 1/18 [>.............................] - ETA: 0s - loss: 136.5593 - mae: 136.5593INFO:tensorflow:Assets written to: model_experiments/model_1_dense/assets\n",
            "18/18 [==============================] - 0s 27ms/step - loss: 130.6127 - mae: 130.6127 - val_loss: 751.3230 - val_mae: 751.3231\n",
            "Epoch 15/100\n",
            " 1/18 [>.............................] - ETA: 0s - loss: 131.5350 - mae: 131.5350INFO:tensorflow:Assets written to: model_experiments/model_1_dense/assets\n",
            "18/18 [==============================] - 0s 27ms/step - loss: 128.8347 - mae: 128.8347 - val_loss: 696.5756 - val_mae: 696.5756\n",
            "Epoch 16/100\n",
            "18/18 [==============================] - 0s 3ms/step - loss: 124.7738 - mae: 124.7738 - val_loss: 702.4695 - val_mae: 702.4695\n",
            "Epoch 17/100\n",
            "18/18 [==============================] - 0s 4ms/step - loss: 123.4474 - mae: 123.4474 - val_loss: 704.9236 - val_mae: 704.9236\n",
            "Epoch 18/100\n",
            " 1/18 [>.............................] - ETA: 0s - loss: 137.2540 - mae: 137.2540INFO:tensorflow:Assets written to: model_experiments/model_1_dense/assets\n",
            "18/18 [==============================] - 0s 27ms/step - loss: 122.2105 - mae: 122.2105 - val_loss: 667.9723 - val_mae: 667.9723\n",
            "Epoch 19/100\n",
            "18/18 [==============================] - 0s 4ms/step - loss: 121.7262 - mae: 121.7262 - val_loss: 718.8792 - val_mae: 718.8792\n",
            "Epoch 20/100\n",
            " 1/18 [>.............................] - ETA: 0s - loss: 135.2646 - mae: 135.2646INFO:tensorflow:Assets written to: model_experiments/model_1_dense/assets\n",
            "18/18 [==============================] - 0s 28ms/step - loss: 119.2420 - mae: 119.2420 - val_loss: 657.0665 - val_mae: 657.0665\n",
            "Epoch 21/100\n",
            " 1/18 [>.............................] - ETA: 0s - loss: 129.2765 - mae: 129.2765INFO:tensorflow:Assets written to: model_experiments/model_1_dense/assets\n",
            "18/18 [==============================] - 1s 38ms/step - loss: 121.2275 - mae: 121.2275 - val_loss: 637.0330 - val_mae: 637.0330\n",
            "Epoch 22/100\n",
            "18/18 [==============================] - 0s 5ms/step - loss: 119.9544 - mae: 119.9544 - val_loss: 671.2486 - val_mae: 671.2486\n",
            "Epoch 23/100\n",
            " 1/18 [>.............................] - ETA: 0s - loss: 116.0426 - mae: 116.0426INFO:tensorflow:Assets written to: model_experiments/model_1_dense/assets\n",
            "18/18 [==============================] - 0s 27ms/step - loss: 121.9248 - mae: 121.9248 - val_loss: 633.3590 - val_mae: 633.3590\n",
            "Epoch 24/100\n",
            " 1/18 [>.............................] - ETA: 0s - loss: 124.4803 - mae: 124.4803INFO:tensorflow:Assets written to: model_experiments/model_1_dense/assets\n",
            "18/18 [==============================] - 0s 27ms/step - loss: 116.3665 - mae: 116.3665 - val_loss: 624.4853 - val_mae: 624.4853\n",
            "Epoch 25/100\n",
            " 1/18 [>.............................] - ETA: 0s - loss: 123.8925 - mae: 123.8925INFO:tensorflow:Assets written to: model_experiments/model_1_dense/assets\n",
            "18/18 [==============================] - 0s 26ms/step - loss: 114.6816 - mae: 114.6816 - val_loss: 619.7573 - val_mae: 619.7573\n",
            "Epoch 26/100\n",
            " 1/18 [>.............................] - ETA: 0s - loss: 110.2667 - mae: 110.2667INFO:tensorflow:Assets written to: model_experiments/model_1_dense/assets\n",
            "18/18 [==============================] - 0s 29ms/step - loss: 116.4456 - mae: 116.4456 - val_loss: 615.6364 - val_mae: 615.6364\n",
            "Epoch 27/100\n",
            "18/18 [==============================] - 0s 4ms/step - loss: 116.5868 - mae: 116.5868 - val_loss: 615.9629 - val_mae: 615.9629\n",
            "Epoch 28/100\n",
            " 1/18 [>.............................] - ETA: 0s - loss: 102.5481 - mae: 102.5481INFO:tensorflow:Assets written to: model_experiments/model_1_dense/assets\n",
            "18/18 [==============================] - 0s 28ms/step - loss: 113.4691 - mae: 113.4691 - val_loss: 608.0922 - val_mae: 608.0922\n",
            "Epoch 29/100\n",
            "18/18 [==============================] - 0s 4ms/step - loss: 113.7598 - mae: 113.7598 - val_loss: 621.9301 - val_mae: 621.9301\n",
            "Epoch 30/100\n",
            " 1/18 [>.............................] - ETA: 0s - loss: 124.9584 - mae: 124.9584INFO:tensorflow:Assets written to: model_experiments/model_1_dense/assets\n",
            "18/18 [==============================] - 0s 27ms/step - loss: 116.8613 - mae: 116.8613 - val_loss: 604.4055 - val_mae: 604.4055\n",
            "Epoch 31/100\n",
            "18/18 [==============================] - 0s 4ms/step - loss: 111.9375 - mae: 111.9375 - val_loss: 609.3879 - val_mae: 609.3879\n",
            "Epoch 32/100\n",
            " 1/18 [>.............................] - ETA: 0s - loss: 107.0552 - mae: 107.0552INFO:tensorflow:Assets written to: model_experiments/model_1_dense/assets\n",
            "18/18 [==============================] - 0s 27ms/step - loss: 112.4175 - mae: 112.4175 - val_loss: 603.0585 - val_mae: 603.0585\n",
            "Epoch 33/100\n",
            "18/18 [==============================] - 0s 4ms/step - loss: 112.6697 - mae: 112.6697 - val_loss: 645.6965 - val_mae: 645.6965\n",
            "Epoch 34/100\n",
            "18/18 [==============================] - 0s 3ms/step - loss: 111.9867 - mae: 111.9867 - val_loss: 604.7639 - val_mae: 604.7639\n",
            "Epoch 35/100\n",
            " 1/18 [>.............................] - ETA: 0s - loss: 103.6645 - mae: 103.6645INFO:tensorflow:Assets written to: model_experiments/model_1_dense/assets\n",
            "18/18 [==============================] - 0s 27ms/step - loss: 110.9451 - mae: 110.9451 - val_loss: 593.4648 - val_mae: 593.4648\n",
            "Epoch 36/100\n",
            "18/18 [==============================] - 0s 5ms/step - loss: 114.4816 - mae: 114.4816 - val_loss: 608.0067 - val_mae: 608.0067\n",
            "Epoch 37/100\n",
            "18/18 [==============================] - 0s 4ms/step - loss: 110.2016 - mae: 110.2016 - val_loss: 597.2306 - val_mae: 597.2306\n",
            "Epoch 38/100\n",
            "18/18 [==============================] - 0s 4ms/step - loss: 112.2371 - mae: 112.2371 - val_loss: 637.9808 - val_mae: 637.9808\n",
            "Epoch 39/100\n",
            " 1/18 [>.............................] - ETA: 0s - loss: 131.5379 - mae: 131.5379INFO:tensorflow:Assets written to: model_experiments/model_1_dense/assets\n",
            "18/18 [==============================] - 0s 28ms/step - loss: 115.1290 - mae: 115.1290 - val_loss: 587.4678 - val_mae: 587.4678\n",
            "Epoch 40/100\n",
            "18/18 [==============================] - 0s 4ms/step - loss: 110.0854 - mae: 110.0854 - val_loss: 592.7120 - val_mae: 592.7120\n",
            "Epoch 41/100\n",
            "18/18 [==============================] - 0s 5ms/step - loss: 110.6344 - mae: 110.6344 - val_loss: 593.9002 - val_mae: 593.9002\n",
            "Epoch 42/100\n",
            "18/18 [==============================] - 0s 5ms/step - loss: 113.5762 - mae: 113.5762 - val_loss: 636.3661 - val_mae: 636.3661\n",
            "Epoch 43/100\n",
            "18/18 [==============================] - 0s 4ms/step - loss: 116.2285 - mae: 116.2285 - val_loss: 662.9277 - val_mae: 662.9277\n",
            "Epoch 44/100\n",
            "18/18 [==============================] - 0s 4ms/step - loss: 120.0193 - mae: 120.0193 - val_loss: 635.6375 - val_mae: 635.6375\n",
            "Epoch 45/100\n",
            "18/18 [==============================] - 0s 4ms/step - loss: 110.9675 - mae: 110.9675 - val_loss: 601.9918 - val_mae: 601.9918\n",
            "Epoch 46/100\n",
            "18/18 [==============================] - 0s 4ms/step - loss: 111.6012 - mae: 111.6012 - val_loss: 593.3539 - val_mae: 593.3539\n",
            "Epoch 47/100\n",
            "18/18 [==============================] - 0s 4ms/step - loss: 109.6161 - mae: 109.6161 - val_loss: 637.0000 - val_mae: 637.0000\n",
            "Epoch 48/100\n",
            "18/18 [==============================] - 0s 4ms/step - loss: 109.1368 - mae: 109.1368 - val_loss: 598.4189 - val_mae: 598.4189\n",
            "Epoch 49/100\n",
            " 1/18 [>.............................] - ETA: 0s - loss: 159.5529 - mae: 159.5529INFO:tensorflow:Assets written to: model_experiments/model_1_dense/assets\n",
            "18/18 [==============================] - 0s 27ms/step - loss: 112.4355 - mae: 112.4355 - val_loss: 579.7040 - val_mae: 579.7040\n",
            "Epoch 50/100\n",
            "18/18 [==============================] - 0s 4ms/step - loss: 110.2108 - mae: 110.2108 - val_loss: 639.2337 - val_mae: 639.2337\n",
            "Epoch 51/100\n",
            "18/18 [==============================] - 0s 4ms/step - loss: 111.0958 - mae: 111.0958 - val_loss: 597.3566 - val_mae: 597.3566\n",
            "Epoch 52/100\n",
            "18/18 [==============================] - 0s 4ms/step - loss: 110.7351 - mae: 110.7351 - val_loss: 580.7230 - val_mae: 580.7230\n",
            "Epoch 53/100\n",
            "18/18 [==============================] - 0s 4ms/step - loss: 111.1785 - mae: 111.1785 - val_loss: 648.3575 - val_mae: 648.3575\n",
            "Epoch 54/100\n",
            "18/18 [==============================] - 0s 5ms/step - loss: 114.0831 - mae: 114.0831 - val_loss: 593.2001 - val_mae: 593.2001\n",
            "Epoch 55/100\n",
            " 1/18 [>.............................] - ETA: 0s - loss: 128.6371 - mae: 128.6371INFO:tensorflow:Assets written to: model_experiments/model_1_dense/assets\n",
            "18/18 [==============================] - 0s 29ms/step - loss: 110.4910 - mae: 110.4910 - val_loss: 579.5068 - val_mae: 579.5068\n",
            "Epoch 56/100\n",
            "18/18 [==============================] - 0s 4ms/step - loss: 108.0488 - mae: 108.0488 - val_loss: 807.3871 - val_mae: 807.3871\n",
            "Epoch 57/100\n",
            "18/18 [==============================] - 0s 4ms/step - loss: 125.0614 - mae: 125.0614 - val_loss: 674.1669 - val_mae: 674.1669\n",
            "Epoch 58/100\n",
            "18/18 [==============================] - 0s 4ms/step - loss: 115.4340 - mae: 115.4340 - val_loss: 582.2692 - val_mae: 582.2692\n",
            "Epoch 59/100\n",
            "18/18 [==============================] - 0s 4ms/step - loss: 110.0881 - mae: 110.0881 - val_loss: 606.7650 - val_mae: 606.7650\n",
            "Epoch 60/100\n",
            "18/18 [==============================] - 0s 4ms/step - loss: 108.7156 - mae: 108.7156 - val_loss: 602.3090 - val_mae: 602.3090\n",
            "Epoch 61/100\n",
            " 1/18 [>.............................] - ETA: 0s - loss: 133.4815 - mae: 133.4815INFO:tensorflow:Assets written to: model_experiments/model_1_dense/assets\n",
            "18/18 [==============================] - 0s 28ms/step - loss: 108.1525 - mae: 108.1525 - val_loss: 573.9988 - val_mae: 573.9988\n",
            "Epoch 62/100\n",
            "18/18 [==============================] - 0s 5ms/step - loss: 107.3727 - mae: 107.3727 - val_loss: 581.7021 - val_mae: 581.7021\n",
            "Epoch 63/100\n",
            "18/18 [==============================] - 0s 4ms/step - loss: 110.7667 - mae: 110.7667 - val_loss: 637.5234 - val_mae: 637.5234\n",
            "Epoch 64/100\n",
            "18/18 [==============================] - 0s 3ms/step - loss: 110.1539 - mae: 110.1539 - val_loss: 586.6592 - val_mae: 586.6592\n",
            "Epoch 65/100\n",
            " 1/18 [>.............................] - ETA: 0s - loss: 127.0229 - mae: 127.0229INFO:tensorflow:Assets written to: model_experiments/model_1_dense/assets\n",
            "18/18 [==============================] - 0s 28ms/step - loss: 108.2325 - mae: 108.2325 - val_loss: 573.5617 - val_mae: 573.5617\n",
            "Epoch 66/100\n",
            " 1/18 [>.............................] - ETA: 0s - loss: 112.6008 - mae: 112.6008INFO:tensorflow:Assets written to: model_experiments/model_1_dense/assets\n",
            "18/18 [==============================] - 0s 28ms/step - loss: 108.6825 - mae: 108.6825 - val_loss: 572.2206 - val_mae: 572.2206\n",
            "Epoch 67/100\n",
            "18/18 [==============================] - 0s 4ms/step - loss: 106.6371 - mae: 106.6371 - val_loss: 646.6371 - val_mae: 646.6371\n",
            "Epoch 68/100\n",
            "18/18 [==============================] - 0s 5ms/step - loss: 114.1603 - mae: 114.1603 - val_loss: 681.8581 - val_mae: 681.8581\n",
            "Epoch 69/100\n",
            "18/18 [==============================] - 0s 4ms/step - loss: 124.5514 - mae: 124.5514 - val_loss: 655.9902 - val_mae: 655.9902\n",
            "Epoch 70/100\n",
            "18/18 [==============================] - 0s 4ms/step - loss: 125.0234 - mae: 125.0234 - val_loss: 601.0046 - val_mae: 601.0046\n",
            "Epoch 71/100\n",
            "18/18 [==============================] - 0s 4ms/step - loss: 110.3651 - mae: 110.3651 - val_loss: 595.3952 - val_mae: 595.3952\n",
            "Epoch 72/100\n",
            "18/18 [==============================] - 0s 4ms/step - loss: 107.9285 - mae: 107.9285 - val_loss: 573.7084 - val_mae: 573.7084\n",
            "Epoch 73/100\n",
            "18/18 [==============================] - 0s 4ms/step - loss: 109.5085 - mae: 109.5085 - val_loss: 580.4187 - val_mae: 580.4187\n",
            "Epoch 74/100\n",
            "18/18 [==============================] - 0s 4ms/step - loss: 108.7380 - mae: 108.7380 - val_loss: 576.1218 - val_mae: 576.1218\n",
            "Epoch 75/100\n",
            "18/18 [==============================] - 0s 4ms/step - loss: 107.9404 - mae: 107.9404 - val_loss: 591.1465 - val_mae: 591.1465\n",
            "Epoch 76/100\n",
            "18/18 [==============================] - 0s 4ms/step - loss: 109.4232 - mae: 109.4232 - val_loss: 597.8621 - val_mae: 597.8621\n",
            "Epoch 77/100\n",
            " 1/18 [>.............................] - ETA: 0s - loss: 85.1159 - mae: 85.1159INFO:tensorflow:Assets written to: model_experiments/model_1_dense/assets\n",
            "18/18 [==============================] - 0s 27ms/step - loss: 107.5879 - mae: 107.5879 - val_loss: 571.9301 - val_mae: 571.9301\n",
            "Epoch 78/100\n",
            "18/18 [==============================] - 0s 4ms/step - loss: 108.1598 - mae: 108.1598 - val_loss: 575.2389 - val_mae: 575.2389\n",
            "Epoch 79/100\n",
            "18/18 [==============================] - 0s 4ms/step - loss: 107.9175 - mae: 107.9175 - val_loss: 617.3091 - val_mae: 617.3091\n",
            "Epoch 80/100\n",
            "18/18 [==============================] - 0s 3ms/step - loss: 108.9510 - mae: 108.9510 - val_loss: 583.4837 - val_mae: 583.4837\n",
            "Epoch 81/100\n",
            " 1/18 [>.............................] - ETA: 0s - loss: 96.3486 - mae: 96.3486INFO:tensorflow:Assets written to: model_experiments/model_1_dense/assets\n",
            "18/18 [==============================] - 1s 38ms/step - loss: 106.0505 - mae: 106.0505 - val_loss: 570.0801 - val_mae: 570.0801\n",
            "Epoch 82/100\n",
            "18/18 [==============================] - 0s 4ms/step - loss: 115.6827 - mae: 115.6827 - val_loss: 575.7390 - val_mae: 575.7390\n",
            "Epoch 83/100\n",
            "18/18 [==============================] - 0s 4ms/step - loss: 110.9379 - mae: 110.9379 - val_loss: 659.6589 - val_mae: 659.6589\n",
            "Epoch 84/100\n",
            "18/18 [==============================] - 0s 4ms/step - loss: 111.4837 - mae: 111.4837 - val_loss: 570.1957 - val_mae: 570.1957\n",
            "Epoch 85/100\n",
            "18/18 [==============================] - 0s 5ms/step - loss: 107.5949 - mae: 107.5949 - val_loss: 601.5933 - val_mae: 601.5933\n",
            "Epoch 86/100\n",
            "18/18 [==============================] - 0s 5ms/step - loss: 108.9426 - mae: 108.9426 - val_loss: 592.8096 - val_mae: 592.8096\n",
            "Epoch 87/100\n",
            "18/18 [==============================] - 0s 4ms/step - loss: 105.7717 - mae: 105.7717 - val_loss: 603.6180 - val_mae: 603.6180\n",
            "Epoch 88/100\n",
            " 1/18 [>.............................] - ETA: 0s - loss: 135.4519 - mae: 135.4519INFO:tensorflow:Assets written to: model_experiments/model_1_dense/assets\n",
            "18/18 [==============================] - 0s 27ms/step - loss: 107.9218 - mae: 107.9218 - val_loss: 569.0501 - val_mae: 569.0501\n",
            "Epoch 89/100\n",
            " 1/18 [>.............................] - ETA: 0s - loss: 101.8745 - mae: 101.8745INFO:tensorflow:Assets written to: model_experiments/model_1_dense/assets\n",
            "18/18 [==============================] - 0s 28ms/step - loss: 106.0344 - mae: 106.0344 - val_loss: 568.9511 - val_mae: 568.9511\n",
            "Epoch 90/100\n",
            "18/18 [==============================] - 0s 4ms/step - loss: 105.4977 - mae: 105.4977 - val_loss: 581.7675 - val_mae: 581.7675\n",
            "Epoch 91/100\n",
            "18/18 [==============================] - 0s 4ms/step - loss: 108.8468 - mae: 108.8468 - val_loss: 573.6027 - val_mae: 573.6027\n",
            "Epoch 92/100\n",
            "18/18 [==============================] - 0s 4ms/step - loss: 110.8884 - mae: 110.8884 - val_loss: 576.8241 - val_mae: 576.8241\n",
            "Epoch 93/100\n",
            "18/18 [==============================] - 0s 4ms/step - loss: 113.8781 - mae: 113.8781 - val_loss: 608.3030 - val_mae: 608.3030\n",
            "Epoch 94/100\n",
            "18/18 [==============================] - 0s 3ms/step - loss: 110.5763 - mae: 110.5763 - val_loss: 601.6036 - val_mae: 601.6036\n",
            "Epoch 95/100\n",
            "18/18 [==============================] - 0s 4ms/step - loss: 106.5906 - mae: 106.5906 - val_loss: 570.3649 - val_mae: 570.3649\n",
            "Epoch 96/100\n",
            "18/18 [==============================] - 0s 5ms/step - loss: 116.9515 - mae: 116.9515 - val_loss: 615.2593 - val_mae: 615.2593\n",
            "Epoch 97/100\n",
            "18/18 [==============================] - 0s 4ms/step - loss: 108.0739 - mae: 108.0739 - val_loss: 580.3079 - val_mae: 580.3079\n",
            "Epoch 98/100\n",
            "18/18 [==============================] - 0s 4ms/step - loss: 108.7102 - mae: 108.7102 - val_loss: 586.6506 - val_mae: 586.6506\n",
            "Epoch 99/100\n",
            "18/18 [==============================] - 0s 4ms/step - loss: 109.0488 - mae: 109.0488 - val_loss: 570.0629 - val_mae: 570.0629\n",
            "Epoch 100/100\n",
            "18/18 [==============================] - 0s 3ms/step - loss: 106.1845 - mae: 106.1845 - val_loss: 585.9753 - val_mae: 585.9753\n"
          ]
        },
        {
          "output_type": "execute_result",
          "data": {
            "text/plain": [
              "<keras.callbacks.History at 0x7fd35467e710>"
            ]
          },
          "metadata": {},
          "execution_count": 28
        }
      ]
    },
    {
      "cell_type": "code",
      "source": [
        "# Evaluate model on test data\n",
        "model_1.evaluate(test_windows, test_labels)"
      ],
      "metadata": {
        "colab": {
          "base_uri": "https://localhost:8080/"
        },
        "id": "AsXoKCLPRfP4",
        "outputId": "15ed6c27-3d08-4626-d5ec-32fd69186db7"
      },
      "execution_count": 29,
      "outputs": [
        {
          "output_type": "stream",
          "name": "stdout",
          "text": [
            "18/18 [==============================] - 0s 2ms/step - loss: 585.9752 - mae: 585.9752\n"
          ]
        },
        {
          "output_type": "execute_result",
          "data": {
            "text/plain": [
              "[585.9752197265625, 585.9752197265625]"
            ]
          },
          "metadata": {},
          "execution_count": 29
        }
      ]
    },
    {
      "cell_type": "code",
      "source": [
        "# Making forecasts with a model (on the test dataset)\n",
        "def make_preds(model, input_data):\n",
        "  \"\"\"\n",
        "  Uses model to make predictions on input_data.\n",
        "\n",
        "  Parameters\n",
        "  ----------\n",
        "  model: trained model \n",
        "  input_data: windowed input data (same kind of data model was trained on)\n",
        "\n",
        "  Returns model predictions on input_data.\n",
        "  \"\"\"\n",
        "  forecast = model.predict(input_data)\n",
        "  return tf.squeeze(forecast) # return 1D array of predictions"
      ],
      "metadata": {
        "id": "DRA8kQtyRles"
      },
      "execution_count": 30,
      "outputs": []
    },
    {
      "cell_type": "code",
      "source": [
        "# Make predictions using model_1 on the test dataset and view the results\n",
        "model_1_preds = make_preds(model_1, test_windows)\n",
        "len(model_1_preds), model_1_preds[:10]"
      ],
      "metadata": {
        "colab": {
          "base_uri": "https://localhost:8080/"
        },
        "id": "ESzlc-pZRxo2",
        "outputId": "73de5c8e-04a6-4ded-a090-c8028868cbde"
      },
      "execution_count": 31,
      "outputs": [
        {
          "output_type": "execute_result",
          "data": {
            "text/plain": [
              "(556, <tf.Tensor: shape=(10,), dtype=float32, numpy=\n",
              " array([8801.184, 8714.926, 8972.654, 8760.343, 8676.047, 8679.056,\n",
              "        8641.019, 8451.335, 8412.065, 8468.017], dtype=float32)>)"
            ]
          },
          "metadata": {},
          "execution_count": 31
        }
      ]
    },
    {
      "cell_type": "code",
      "source": [
        "# Evaluate preds\n",
        "model_1_results = evaluate_preds(y_true=tf.squeeze(test_labels), # reduce to right shape\n",
        "                                 y_pred=model_1_preds)\n",
        "model_1_results"
      ],
      "metadata": {
        "colab": {
          "base_uri": "https://localhost:8080/"
        },
        "id": "SpbtahfqRzqv",
        "outputId": "83c1a5ca-385a-4d29-cd3a-3b208559c785"
      },
      "execution_count": 32,
      "outputs": [
        {
          "output_type": "execute_result",
          "data": {
            "text/plain": [
              "{'mae': 585.9753,\n",
              " 'mape': 2.6149077,\n",
              " 'mase': 1.0293963,\n",
              " 'mse': 585.9753,\n",
              " 'rmse': 24.206926}"
            ]
          },
          "metadata": {},
          "execution_count": 32
        }
      ]
    },
    {
      "cell_type": "code",
      "source": [
        "offset = 300\n",
        "plt.figure(figsize=(10, 7))\n",
        "# Account for the test_window offset and index into test_labels to ensure correct plotting\n",
        "plot_time_series(timesteps=X_test[-len(test_windows):], values=test_labels[:, 0], start=offset, label=\"Test_data\")\n",
        "plot_time_series(timesteps=X_test[-len(test_windows):], values=model_1_preds, start=offset, format=\"-\", label=\"model_1_preds\")"
      ],
      "metadata": {
        "colab": {
          "base_uri": "https://localhost:8080/",
          "height": 442
        },
        "id": "y_rsC8FySHpU",
        "outputId": "28878e74-2960-4626-cecb-e8fd1fbf2b3b"
      },
      "execution_count": 33,
      "outputs": [
        {
          "output_type": "display_data",
          "data": {
            "image/png": "[encoded data removed]",
            "text/plain": [
              "<Figure size 720x504 with 1 Axes>"
            ]
          },
          "metadata": {
            "needs_background": "light"
          }
        }
      ]
    },
    {
      "cell_type": "markdown",
      "source": [
        "## Model 2: Dense (window = 30, horizon = 1)"
      ],
      "metadata": {
        "id": "RuM1j3EuSZUa"
      }
    },
    {
      "cell_type": "code",
      "source": [
        "HORIZON = 1 \n",
        "WINDOW_SIZE = 30"
      ],
      "metadata": {
        "id": "FD934YMASYlo"
      },
      "execution_count": 34,
      "outputs": []
    },
    {
      "cell_type": "code",
      "source": [
        "full_windows, full_labels = make_windows(prices, window_size=WINDOW_SIZE, horizon=HORIZON)\n",
        "len(full_windows), len(full_labels)"
      ],
      "metadata": {
        "colab": {
          "base_uri": "https://localhost:8080/"
        },
        "id": "NaEDze6PSe0I",
        "outputId": "e791119d-9768-4888-d494-c45808199e47"
      },
      "execution_count": 35,
      "outputs": [
        {
          "output_type": "execute_result",
          "data": {
            "text/plain": [
              "(2757, 2757)"
            ]
          },
          "metadata": {},
          "execution_count": 35
        }
      ]
    },
    {
      "cell_type": "code",
      "source": [
        "train_windows, test_windows, train_labels, test_labels = make_train_test_splits(windows=full_windows, labels=full_labels)\n",
        "len(train_windows), len(test_windows), len(train_labels), len(test_labels)"
      ],
      "metadata": {
        "colab": {
          "base_uri": "https://localhost:8080/"
        },
        "id": "W4m5vYsmShPg",
        "outputId": "6b684ed6-8aba-44ea-f961-e3649c1b868d"
      },
      "execution_count": 36,
      "outputs": [
        {
          "output_type": "execute_result",
          "data": {
            "text/plain": [
              "(2205, 552, 2205, 552)"
            ]
          },
          "metadata": {},
          "execution_count": 36
        }
      ]
    },
    {
      "cell_type": "code",
      "source": [
        "# set random seed for reproductability\n",
        "tf.random.set_seed(42)\n",
        "\n",
        "#construct model\n",
        "model_2 = tf.keras.Sequential([\n",
        "                               layers.Dense(128, activation=\"relu\"),\n",
        "                               layers.Dense(HORIZON, activation=\"linear\")\n",
        "], name=\"model_2_dense\")\n",
        "\n",
        "# compile model\n",
        "model_2.compile(loss=\"mae\",\n",
        "                optimizer=tf.keras.optimizers.Adam(),\n",
        "                metrics=['mae'])\n",
        "\n",
        "# fit the model\n",
        "model_2.fit(x=train_windows,\n",
        "            y=train_labels,\n",
        "            epochs=100,\n",
        "            verbose=0,\n",
        "            batch_size=128,\n",
        "            validation_data=(test_windows, test_labels),\n",
        "            callbacks=[create_model_checkpoint(model_name=model_2.name)])"
      ],
      "metadata": {
        "colab": {
          "base_uri": "https://localhost:8080/"
        },
        "id": "w4RjhMxRSqvf",
        "outputId": "88e12f69-a729-4e94-8a09-441b0fe44227"
      },
      "execution_count": 37,
      "outputs": [
        {
          "output_type": "stream",
          "name": "stdout",
          "text": [
            "INFO:tensorflow:Assets written to: model_experiments/model_2_dense/assets\n",
            "INFO:tensorflow:Assets written to: model_experiments/model_2_dense/assets\n",
            "INFO:tensorflow:Assets written to: model_experiments/model_2_dense/assets\n",
            "INFO:tensorflow:Assets written to: model_experiments/model_2_dense/assets\n",
            "INFO:tensorflow:Assets written to: model_experiments/model_2_dense/assets\n",
            "INFO:tensorflow:Assets written to: model_experiments/model_2_dense/assets\n",
            "INFO:tensorflow:Assets written to: model_experiments/model_2_dense/assets\n",
            "INFO:tensorflow:Assets written to: model_experiments/model_2_dense/assets\n",
            "INFO:tensorflow:Assets written to: model_experiments/model_2_dense/assets\n",
            "INFO:tensorflow:Assets written to: model_experiments/model_2_dense/assets\n",
            "INFO:tensorflow:Assets written to: model_experiments/model_2_dense/assets\n",
            "INFO:tensorflow:Assets written to: model_experiments/model_2_dense/assets\n",
            "INFO:tensorflow:Assets written to: model_experiments/model_2_dense/assets\n",
            "INFO:tensorflow:Assets written to: model_experiments/model_2_dense/assets\n",
            "INFO:tensorflow:Assets written to: model_experiments/model_2_dense/assets\n",
            "INFO:tensorflow:Assets written to: model_experiments/model_2_dense/assets\n",
            "INFO:tensorflow:Assets written to: model_experiments/model_2_dense/assets\n",
            "INFO:tensorflow:Assets written to: model_experiments/model_2_dense/assets\n",
            "INFO:tensorflow:Assets written to: model_experiments/model_2_dense/assets\n",
            "INFO:tensorflow:Assets written to: model_experiments/model_2_dense/assets\n",
            "INFO:tensorflow:Assets written to: model_experiments/model_2_dense/assets\n",
            "INFO:tensorflow:Assets written to: model_experiments/model_2_dense/assets\n",
            "INFO:tensorflow:Assets written to: model_experiments/model_2_dense/assets\n",
            "INFO:tensorflow:Assets written to: model_experiments/model_2_dense/assets\n",
            "INFO:tensorflow:Assets written to: model_experiments/model_2_dense/assets\n",
            "INFO:tensorflow:Assets written to: model_experiments/model_2_dense/assets\n",
            "INFO:tensorflow:Assets written to: model_experiments/model_2_dense/assets\n"
          ]
        },
        {
          "output_type": "execute_result",
          "data": {
            "text/plain": [
              "<keras.callbacks.History at 0x7fd354405350>"
            ]
          },
          "metadata": {},
          "execution_count": 37
        }
      ]
    },
    {
      "cell_type": "code",
      "source": [
        "# Evaluate model 2 preds\n",
        "model_2.evaluate(test_windows, test_labels)"
      ],
      "metadata": {
        "colab": {
          "base_uri": "https://localhost:8080/"
        },
        "id": "OIX7SfGBS39r",
        "outputId": "2d2e3370-802c-406b-e9d4-37062af661c2"
      },
      "execution_count": 38,
      "outputs": [
        {
          "output_type": "stream",
          "name": "stdout",
          "text": [
            "18/18 [==============================] - 0s 2ms/step - loss: 608.9620 - mae: 608.9620\n"
          ]
        },
        {
          "output_type": "execute_result",
          "data": {
            "text/plain": [
              "[608.9619750976562, 608.9619750976562]"
            ]
          },
          "metadata": {},
          "execution_count": 38
        }
      ]
    },
    {
      "cell_type": "code",
      "source": [
        "# Load in best performing model\n",
        "model_2 = tf.keras.models.load_model(\"model_experiments/model_2_dense/\")\n",
        "model_2.evaluate(test_windows, test_labels)"
      ],
      "metadata": {
        "colab": {
          "base_uri": "https://localhost:8080/"
        },
        "id": "f-uWDDRfTDK0",
        "outputId": "3bd04cee-32e5-485e-9afb-ca4d208de253"
      },
      "execution_count": 39,
      "outputs": [
        {
          "output_type": "stream",
          "name": "stdout",
          "text": [
            "18/18 [==============================] - 0s 2ms/step - loss: 608.9620 - mae: 608.9620\n"
          ]
        },
        {
          "output_type": "execute_result",
          "data": {
            "text/plain": [
              "[608.9619750976562, 608.9619750976562]"
            ]
          },
          "metadata": {},
          "execution_count": 39
        }
      ]
    },
    {
      "cell_type": "code",
      "source": [
        "# Get forecast predictions\n",
        "model_2_preds = make_preds(model_2,\n",
        "                           input_data=test_windows)"
      ],
      "metadata": {
        "id": "vvjoJ2YnTJmJ"
      },
      "execution_count": 40,
      "outputs": []
    },
    {
      "cell_type": "code",
      "source": [
        "# Evaluate results for model 2 predictions\n",
        "model_2_results = evaluate_preds(y_true=tf.squeeze(test_labels), # remove 1 dimension of test labels\n",
        "                                 y_pred=model_2_preds)\n",
        "model_2_results"
      ],
      "metadata": {
        "colab": {
          "base_uri": "https://localhost:8080/"
        },
        "id": "PNhjLRrDTFBH",
        "outputId": "1685218a-ed15-4d30-c88d-94f0e85eea1c"
      },
      "execution_count": 41,
      "outputs": [
        {
          "output_type": "execute_result",
          "data": {
            "text/plain": [
              "{'mae': 608.962,\n",
              " 'mape': 2.769341,\n",
              " 'mase': 1.0644715,\n",
              " 'mse': 608.962,\n",
              " 'rmse': 24.677155}"
            ]
          },
          "metadata": {},
          "execution_count": 41
        }
      ]
    },
    {
      "cell_type": "code",
      "source": [
        "offset = 300\n",
        "plt.figure(figsize=(10, 7))\n",
        "# Account for the test_window offset\n",
        "plot_time_series(timesteps=X_test[-len(test_windows):], values=test_labels[:, 0], start=offset, label=\"test_data\")\n",
        "plot_time_series(timesteps=X_test[-len(test_windows):], values=model_2_preds, start=offset, format=\"-\", label=\"model_2_preds\") "
      ],
      "metadata": {
        "colab": {
          "base_uri": "https://localhost:8080/",
          "height": 442
        },
        "id": "zv51lpJzTNm7",
        "outputId": "98b6458a-dc14-4091-c2d1-50e7eae19bef"
      },
      "execution_count": 42,
      "outputs": [
        {
          "output_type": "display_data",
          "data": {
            "image/png": "[encoded data removed]",
            "text/plain": [
              "<Figure size 720x504 with 1 Axes>"
            ]
          },
          "metadata": {
            "needs_background": "light"
          }
        }
      ]
    },
    {
      "cell_type": "markdown",
      "source": [
        "## Model 3: Dense (window = 30, horizon = 7)"
      ],
      "metadata": {
        "id": "YLPE9yKMhy5c"
      }
    },
    {
      "cell_type": "code",
      "source": [
        "HORIZON = 7\n",
        "WINDOW_SIZE = 30\n",
        "\n",
        "full_windows, full_labels = make_windows(prices, window_size=WINDOW_SIZE, horizon=HORIZON)\n",
        "len(full_windows), len(full_labels)"
      ],
      "metadata": {
        "colab": {
          "base_uri": "https://localhost:8080/"
        },
        "id": "DPr3cpr0hygh",
        "outputId": "ccbf4a6d-c8a2-471e-eb52-a1ae0393869b"
      },
      "execution_count": 43,
      "outputs": [
        {
          "output_type": "execute_result",
          "data": {
            "text/plain": [
              "(2751, 2751)"
            ]
          },
          "metadata": {},
          "execution_count": 43
        }
      ]
    },
    {
      "cell_type": "code",
      "source": [
        "train_windows, test_windows, train_labels, test_labels = make_train_test_splits(windows=full_windows, labels=full_labels, test_split=0.2)\n",
        "len(train_windows), len(test_windows), len(train_labels), len(test_labels)"
      ],
      "metadata": {
        "colab": {
          "base_uri": "https://localhost:8080/"
        },
        "id": "sm5k5U1ph_Rr",
        "outputId": "3137dada-ff76-4dac-edca-9bb24f70030b"
      },
      "execution_count": 44,
      "outputs": [
        {
          "output_type": "execute_result",
          "data": {
            "text/plain": [
              "(2200, 551, 2200, 551)"
            ]
          },
          "metadata": {},
          "execution_count": 44
        }
      ]
    },
    {
      "cell_type": "code",
      "source": [
        "tf.random.set_seed(42)\n",
        "\n",
        "model_3 = tf.keras.Sequential([\n",
        "                               layers.Dense(128, activation=\"relu\"),\n",
        "                               layers.Dense(HORIZON)\n",
        "], name=\"model_3_dense\")\n",
        "\n",
        "model_3.compile(loss=\"mae\",\n",
        "                optimizer=tf.keras.optimizers.Adam(),\n",
        "                metrics=['mae'])\n",
        "\n",
        "model_3.fit(train_windows,\n",
        "            train_labels,\n",
        "            batch_size=128,\n",
        "            epochs=100,\n",
        "            verbose=0,\n",
        "            validation_data=(test_windows, test_labels),\n",
        "            callbacks=[create_model_checkpoint(model_name=model_3.name)])"
      ],
      "metadata": {
        "colab": {
          "base_uri": "https://localhost:8080/"
        },
        "id": "3iF6F5wMiA6R",
        "outputId": "e0af2dcb-1b18-4953-81fa-d7ff75d3e7dd"
      },
      "execution_count": 45,
      "outputs": [
        {
          "output_type": "stream",
          "name": "stdout",
          "text": [
            "INFO:tensorflow:Assets written to: model_experiments/model_3_dense/assets\n",
            "INFO:tensorflow:Assets written to: model_experiments/model_3_dense/assets\n",
            "INFO:tensorflow:Assets written to: model_experiments/model_3_dense/assets\n",
            "INFO:tensorflow:Assets written to: model_experiments/model_3_dense/assets\n",
            "INFO:tensorflow:Assets written to: model_experiments/model_3_dense/assets\n",
            "INFO:tensorflow:Assets written to: model_experiments/model_3_dense/assets\n",
            "INFO:tensorflow:Assets written to: model_experiments/model_3_dense/assets\n",
            "INFO:tensorflow:Assets written to: model_experiments/model_3_dense/assets\n",
            "INFO:tensorflow:Assets written to: model_experiments/model_3_dense/assets\n",
            "INFO:tensorflow:Assets written to: model_experiments/model_3_dense/assets\n",
            "INFO:tensorflow:Assets written to: model_experiments/model_3_dense/assets\n",
            "INFO:tensorflow:Assets written to: model_experiments/model_3_dense/assets\n",
            "INFO:tensorflow:Assets written to: model_experiments/model_3_dense/assets\n",
            "INFO:tensorflow:Assets written to: model_experiments/model_3_dense/assets\n",
            "INFO:tensorflow:Assets written to: model_experiments/model_3_dense/assets\n",
            "INFO:tensorflow:Assets written to: model_experiments/model_3_dense/assets\n",
            "INFO:tensorflow:Assets written to: model_experiments/model_3_dense/assets\n",
            "INFO:tensorflow:Assets written to: model_experiments/model_3_dense/assets\n",
            "INFO:tensorflow:Assets written to: model_experiments/model_3_dense/assets\n",
            "INFO:tensorflow:Assets written to: model_experiments/model_3_dense/assets\n",
            "INFO:tensorflow:Assets written to: model_experiments/model_3_dense/assets\n",
            "INFO:tensorflow:Assets written to: model_experiments/model_3_dense/assets\n",
            "INFO:tensorflow:Assets written to: model_experiments/model_3_dense/assets\n",
            "INFO:tensorflow:Assets written to: model_experiments/model_3_dense/assets\n"
          ]
        },
        {
          "output_type": "execute_result",
          "data": {
            "text/plain": [
              "<keras.callbacks.History at 0x7fd33cf803d0>"
            ]
          },
          "metadata": {},
          "execution_count": 45
        }
      ]
    },
    {
      "cell_type": "code",
      "source": [
        "model_3.evaluate(test_windows, test_labels)"
      ],
      "metadata": {
        "colab": {
          "base_uri": "https://localhost:8080/"
        },
        "id": "ESJAH-MFiurj",
        "outputId": "f3100fa0-efea-4edd-db5b-745ed527807f"
      },
      "execution_count": 46,
      "outputs": [
        {
          "output_type": "stream",
          "name": "stdout",
          "text": [
            "18/18 [==============================] - 0s 2ms/step - loss: 1340.4274 - mae: 1340.4274\n"
          ]
        },
        {
          "output_type": "execute_result",
          "data": {
            "text/plain": [
              "[1340.4273681640625, 1340.4273681640625]"
            ]
          },
          "metadata": {},
          "execution_count": 46
        }
      ]
    },
    {
      "cell_type": "code",
      "source": [
        "# Load in best version of model_3 and evaluate\n",
        "model_3 = tf.keras.models.load_model(\"model_experiments/model_3_dense/\")\n",
        "model_3.evaluate(test_windows, test_labels)"
      ],
      "metadata": {
        "colab": {
          "base_uri": "https://localhost:8080/"
        },
        "id": "U-H3PMT4ixOo",
        "outputId": "7d5023b6-3f6d-4eab-bbaa-68e37159c4aa"
      },
      "execution_count": 47,
      "outputs": [
        {
          "output_type": "stream",
          "name": "stdout",
          "text": [
            "18/18 [==============================] - 0s 2ms/step - loss: 1234.8838 - mae: 1234.8838\n"
          ]
        },
        {
          "output_type": "execute_result",
          "data": {
            "text/plain": [
              "[1234.8837890625, 1234.8837890625]"
            ]
          },
          "metadata": {},
          "execution_count": 47
        }
      ]
    },
    {
      "cell_type": "code",
      "source": [
        "# The predictions are going to be 7 steps at a time (this is the HORIZON size)\n",
        "model_3_preds = make_preds(model_3,\n",
        "                           input_data=test_windows)\n",
        "model_3_preds[:5]"
      ],
      "metadata": {
        "colab": {
          "base_uri": "https://localhost:8080/"
        },
        "id": "8fC6llNBi1QV",
        "outputId": "37ef28f6-7777-431a-9311-14ba8bb27001"
      },
      "execution_count": 48,
      "outputs": [
        {
          "output_type": "execute_result",
          "data": {
            "text/plain": [
              "<tf.Tensor: shape=(5, 7), dtype=float32, numpy=\n",
              "array([[9250.798 , 9279.124 , 9394.038 , 9400.203 , 9479.183 , 9375.264 ,\n",
              "        9302.472 ],\n",
              "       [8945.557 , 9029.439 , 9164.761 , 8997.948 , 9077.654 , 8971.883 ,\n",
              "        9081.854 ],\n",
              "       [8883.711 , 8987.258 , 9057.07  , 8901.714 , 9001.872 , 8817.509 ,\n",
              "        8971.558 ],\n",
              "       [9090.947 , 9014.501 , 9010.567 , 9096.448 , 9052.973 , 9016.151 ,\n",
              "        9001.476 ],\n",
              "       [9002.045 , 8972.497 , 8869.7705, 8980.389 , 9212.569 , 9072.293 ,\n",
              "        8887.335 ]], dtype=float32)>"
            ]
          },
          "metadata": {},
          "execution_count": 48
        }
      ]
    },
    {
      "cell_type": "code",
      "source": [
        "# Calculate model_3 results - these are going to be multi-dimensional because\n",
        "# we're trying to predict more than one step at a time.\n",
        "model_3_results = evaluate_preds(y_true=tf.squeeze(test_labels),\n",
        "                                 y_pred=model_3_preds)\n",
        "model_3_results"
      ],
      "metadata": {
        "colab": {
          "base_uri": "https://localhost:8080/"
        },
        "id": "fZJ_wIiui40q",
        "outputId": "bfe8f014-22b3-4d3b-c762-7e81156ee6ac"
      },
      "execution_count": 49,
      "outputs": [
        {
          "output_type": "execute_result",
          "data": {
            "text/plain": [
              "{'mae': array([  561.22516 ,   301.9714  ,   297.9477  ,   413.84305 ,\n",
              "          445.20914 ,   540.59717 ,   527.2284  ,   441.84564 ,\n",
              "          498.77365 ,   639.1921  ,   803.132   ,   731.72614 ,\n",
              "          678.6172  ,   797.18567 ,   575.3339  ,   280.21136 ,\n",
              "          239.9216  ,   246.152   ,   276.387   ,   285.75482 ,\n",
              "          118.80413 ,   135.45549 ,   191.11852 ,   251.82576 ,\n",
              "          170.28928 ,   154.20027 ,   107.244835,    97.66267 ,\n",
              "          111.26409 ,   139.85393 ,   269.1739  ,   369.812   ,\n",
              "          270.48096 ,   263.1211  ,   247.72252 ,   255.50523 ,\n",
              "          298.48172 ,   245.26395 ,   243.13072 ,   255.7583  ,\n",
              "          416.6257  ,   150.97021 ,    94.16581 ,   101.62012 ,\n",
              "           93.76967 ,    86.75328 ,    73.27923 ,    79.04513 ,\n",
              "           89.541084,    93.11977 ,   106.798546,   141.09578 ,\n",
              "          178.73668 ,   145.46994 ,   256.4566  ,   392.8164  ,\n",
              "          560.91174 ,   552.8188  ,   536.1548  ,   535.2687  ,\n",
              "          448.70444 ,   267.23297 ,   286.56223 ,   320.78613 ,\n",
              "          430.7768  ,   472.82574 ,   523.67267 ,   519.4371  ,\n",
              "          138.85701 ,   239.4022  ,   224.78543 ,   415.00668 ,\n",
              "          534.72894 ,   394.11887 ,   295.50418 ,   370.85757 ,\n",
              "          338.87027 ,   389.1006  ,   508.34222 ,   640.41925 ,\n",
              "          802.7973  ,   636.00824 ,   290.3602  ,   165.47195 ,\n",
              "          232.60547 ,   207.31906 ,   235.00334 ,   301.6727  ,\n",
              "          355.21024 ,   553.64856 ,   428.6024  ,   428.93344 ,\n",
              "          347.44308 ,   230.37932 ,   159.03293 ,   270.9191  ,\n",
              "          293.357   ,   511.3838  ,   631.4808  ,   789.19324 ,\n",
              "          536.7949  ,   321.4195  ,   224.59836 ,   344.917   ,\n",
              "          372.03558 ,   370.5837  ,   460.56528 ,   568.79504 ,\n",
              "          946.44794 ,   925.5293  ,   857.27875 ,   375.33035 ,\n",
              "          180.05984 ,   221.4407  ,   203.34612 ,   361.68842 ,\n",
              "          294.16092 ,   421.7731  ,   553.40106 ,   975.4743  ,\n",
              "         1585.9314  ,  2153.3953  ,  1954.6543  ,  2105.9724  ,\n",
              "         2259.2856  ,  2632.2498  ,  1333.1326  ,   703.96027 ,\n",
              "          434.42084 ,   391.2357  ,   521.8068  ,   439.03006 ,\n",
              "          501.90506 ,   309.0523  ,   324.98862 ,   299.01395 ,\n",
              "          346.7885  ,   293.72543 ,   316.86078 ,   323.07275 ,\n",
              "          344.85233 ,   371.3056  ,   278.71094 ,   582.9794  ,\n",
              "          689.01117 ,   443.01947 ,   378.4691  ,   223.80371 ,\n",
              "          291.30865 ,   195.35316 ,   248.76457 ,   507.26596 ,\n",
              "          341.92465 ,   543.29156 ,   418.87027 ,   382.89438 ,\n",
              "          180.1898  ,   199.54192 ,   199.46227 ,   154.98473 ,\n",
              "          269.20187 ,   259.35324 ,   238.77637 ,   267.38477 ,\n",
              "          324.7892  ,   360.8395  ,   507.24603 ,   700.3563  ,\n",
              "          530.32526 ,   612.0954  ,   830.4459  ,   884.72455 ,\n",
              "          982.63226 ,  1086.1188  ,   503.73257 ,   266.38727 ,\n",
              "          341.75168 ,   403.29672 ,   413.48117 ,   389.9781  ,\n",
              "          480.06625 ,   466.98703 ,   606.72864 ,   970.3312  ,\n",
              "          874.8507  ,   292.2521  ,   491.87695 ,   725.58734 ,\n",
              "          363.09738 ,   230.4036  ,   267.63727 ,   226.10672 ,\n",
              "          364.41754 ,   435.15445 ,   659.5251  ,   633.8714  ,\n",
              "          382.49078 ,   288.37613 ,   300.929   ,   289.74136 ,\n",
              "          524.566   ,   748.52094 ,   712.2687  ,   468.8443  ,\n",
              "          281.65723 ,   128.74721 ,   196.07701 ,   298.2405  ,\n",
              "          144.90514 ,   144.90945 ,   311.81305 ,   164.77637 ,\n",
              "          190.95424 ,   203.23381 ,   282.59402 ,   371.06976 ,\n",
              "          524.85126 ,   136.68527 ,   126.04701 ,   143.39928 ,\n",
              "          135.35197 ,   187.13058 ,   178.33315 ,   164.73479 ,\n",
              "          134.88924 ,   144.69797 ,   173.16881 ,   189.59445 ,\n",
              "          260.71246 ,   562.91254 ,   267.06332 ,   274.8934  ,\n",
              "          132.04549 ,    73.82366 ,    53.49149 ,    89.57701 ,\n",
              "          114.22224 ,   150.2698  ,   126.19308 ,   172.46889 ,\n",
              "           94.38393 ,   179.96596 ,    71.33427 ,    70.93095 ,\n",
              "          197.24791 ,   138.7772  ,   137.05482 ,    75.782646,\n",
              "           75.475586,   117.95048 ,   160.43918 ,   150.30734 ,\n",
              "          144.7694  ,   187.9269  ,   260.4305  ,   324.55273 ,\n",
              "          612.9022  ,   711.0587  ,   817.63715 ,   921.0967  ,\n",
              "         1136.7289  ,  1354.3524  ,  1324.7188  ,   531.8509  ,\n",
              "          235.42383 ,   246.95801 ,   255.00056 ,   280.46527 ,\n",
              "          381.0982  ,   126.34947 ,   107.87946 ,   198.59348 ,\n",
              "          115.717354,   279.292   ,   292.4764  ,   283.1822  ,\n",
              "          247.37486 ,   335.7147  ,   197.911   ,   173.42076 ,\n",
              "          151.9502  ,   197.1942  ,   171.21848 ,   266.2034  ,\n",
              "          445.23898 ,   626.52496 ,   296.1638  ,   304.2422  ,\n",
              "          185.74289 ,   258.2899  ,   351.0088  ,   294.51785 ,\n",
              "          138.96889 ,   195.71191 ,   253.21861 ,   376.6956  ,\n",
              "          578.7729  ,   779.92316 ,  1034.1581  ,  1459.0443  ,\n",
              "         1371.5557  ,   888.55597 ,   575.3118  ,   137.59068 ,\n",
              "          196.6995  ,   197.15764 ,   315.0357  ,   421.34515 ,\n",
              "          432.91965 ,   431.11734 ,   468.19977 ,   411.50586 ,\n",
              "          237.40709 ,   110.6695  ,   297.33023 ,   438.86203 ,\n",
              "          356.8439  ,   492.67215 ,   312.7596  ,   146.44504 ,\n",
              "          175.33873 ,   319.6395  ,   170.95996 ,    99.01214 ,\n",
              "          135.8256  ,   215.45773 ,   316.37152 ,   267.53265 ,\n",
              "          172.05371 ,   149.94908 ,   164.11496 ,   242.63588 ,\n",
              "          319.56918 ,   442.6137  ,   552.08234 ,   660.8864  ,\n",
              "          608.4819  ,   512.04645 ,   167.54283 ,    93.320595,\n",
              "          306.3821  ,   248.24289 ,   407.00125 ,   600.6367  ,\n",
              "          734.3605  ,  1024.6749  ,  1189.7373  ,  1191.9965  ,\n",
              "         1213.8351  ,   414.75864 ,   238.51883 ,   254.38142 ,\n",
              "          320.94977 ,   282.3909  ,   257.53934 ,   229.8072  ,\n",
              "          169.95145 ,   396.17075 ,   586.7235  ,   697.4233  ,\n",
              "          865.0866  ,  1101.0883  ,  1164.0701  ,  1168.6115  ,\n",
              "          440.2775  ,   518.7567  ,   384.29156 ,   318.33383 ,\n",
              "          531.3942  ,   789.1124  ,   777.889   ,   805.1823  ,\n",
              "         1074.3625  ,  1294.0443  ,  1792.1757  ,  1516.3978  ,\n",
              "          989.6607  ,   514.30164 ,   450.96652 ,   611.9632  ,\n",
              "          922.9542  ,  1132.9227  ,  1093.5826  ,  1153.0228  ,\n",
              "          952.3594  ,   743.63196 ,  1142.7494  ,  1314.8292  ,\n",
              "         1269.1663  ,   325.77008 ,   256.58035 ,   492.59125 ,\n",
              "          828.8976  ,   637.94617 ,   678.0993  ,   596.0165  ,\n",
              "          603.78546 ,   600.04407 ,   788.31415 ,  1474.5625  ,\n",
              "         2504.6133  ,  2764.2915  ,  3115.9556  ,  3350.7385  ,\n",
              "         3558.936   ,  2359.0298  ,   956.7651  ,   536.6685  ,\n",
              "          992.6755  ,  1291.6934  ,  1389.5912  ,  1696.4174  ,\n",
              "         2485.2366  ,  3017.9568  ,  2985.4885  ,  2384.554   ,\n",
              "         2572.5842  ,  2860.401   ,  3514.916   ,  3310.3806  ,\n",
              "         4064.0735  ,  4992.681   ,  4371.6753  ,  4108.116   ,\n",
              "         4344.4614  ,  3016.4275  ,  2627.2456  ,  2377.2131  ,\n",
              "         4406.5283  ,  5825.09    ,  5359.434   ,  1512.5876  ,\n",
              "          998.8549  ,   853.38055 ,  2798.1128  ,  3251.1172  ,\n",
              "         3368.8538  ,  3257.3845  ,  3149.0945  ,  3699.1616  ,\n",
              "         3922.4187  ,  1093.8826  ,  1413.7168  ,  1229.8223  ,\n",
              "         1252.4481  ,  1244.62    ,  2318.2559  ,  3654.8645  ,\n",
              "         3421.887   ,  2468.0347  ,  2857.668   ,  3193.1658  ,\n",
              "         4877.4453  ,  5430.5938  ,  4569.6694  ,  4913.6104  ,\n",
              "         6024.833   ,  6040.84    ,  8098.107   ,  4656.5737  ,\n",
              "         1519.6523  ,  1565.0603  ,  1623.0022  ,  2473.966   ,\n",
              "         2522.4944  ,  3345.5295  ,  2859.8064  ,  3505.7366  ,\n",
              "         2622.5999  ,  3181.4487  ,  5686.222   ,  7068.962   ,\n",
              "        10159.011   ,  9195.29    ,  5213.328   ,  3096.9458  ,\n",
              "         2172.101   ,  1295.8214  ,  2360.0286  ,  3748.7122  ,\n",
              "         2681.0413  ,  2770.8425  ,  3032.559   ,  3957.7869  ,\n",
              "         5340.59    ,  6390.0913  ,  6141.483   ,  5543.7495  ,\n",
              "         4377.4814  ,  2162.284   ,  1958.875   ,  1428.2272  ,\n",
              "         1494.9537  ,  2972.1653  ,  1756.8058  ,  1585.6752  ,\n",
              "         2969.3777  ,  4168.249   ,  5691.253   ,  5425.8086  ,\n",
              "         5282.3745  ,  1467.7908  ,  2095.7935  ,  2822.6753  ,\n",
              "         3762.4565  ,  4497.3774  ,  2443.27    ,  2640.0364  ,\n",
              "         1537.1741  ,   712.88837 ,   712.52344 ,   827.51843 ,\n",
              "          839.1774  ,   657.03906 ,  1154.592   ,  1314.6825  ,\n",
              "         1498.0039  ,  2523.2175  ,  3304.8203  ,  3580.2083  ,\n",
              "         2486.023   ,  2461.557   ,  2453.1472  ,  3343.5754  ,\n",
              "         5525.0317  ,  7342.497   ,  8799.321   ,  8409.528   ,\n",
              "         6354.384   ,  4577.6826  ,  4530.3354  ,  2686.8325  ,\n",
              "         1951.0658  ,  2977.4683  ,  4358.714   ,  6178.878   ,\n",
              "         3880.2908  ,  1868.25    ,  2122.1106  ,  2401.5017  ,\n",
              "         1403.178   ,  1713.0636  ,  1281.6619  ,  1998.3867  ,\n",
              "         1947.087   ,  1843.4381  ,  2305.3845  ,  3362.2043  ,\n",
              "         5559.337   ,  7160.6357  ,  7830.984   ], dtype=float32),\n",
              " 'mape': array([ 6.402214  ,  3.4828815 ,  3.4431689 ,  4.814514  ,  5.250119  ,\n",
              "         6.4475975 ,  6.36366   ,  5.504966  ,  6.453085  ,  8.412183  ,\n",
              "        10.812407  , 10.018681  ,  9.390734  , 10.984663  ,  7.969258  ,\n",
              "         3.8788419 ,  3.2717135 ,  3.2767992 ,  3.680485  ,  3.8053174 ,\n",
              "         1.577782  ,  1.8264433 ,  2.6076572 ,  3.4431148 ,  2.323637  ,\n",
              "         2.0961525 ,  1.4504983 ,  1.3202919 ,  1.5050796 ,  1.9309843 ,\n",
              "         3.7361302 ,  5.1435447 ,  3.8183842 ,  3.8403716 ,  3.6166575 ,\n",
              "         3.7264552 ,  4.3471136 ,  3.565405  ,  3.5185246 ,  3.6079187 ,\n",
              "         5.740896  ,  2.0916014 ,  1.3064927 ,  1.4054013 ,  1.3008797 ,\n",
              "         1.1899002 ,  1.0046678 ,  1.0865254 ,  1.2365253 ,  1.3051628 ,\n",
              "         1.4897225 ,  1.978061  ,  2.499533  ,  1.9876529 ,  3.336764  ,\n",
              "         5.0422044 ,  7.1869416 ,  6.977991  ,  6.702786  ,  6.6651807 ,\n",
              "         5.553593  ,  3.181154  ,  3.346138  ,  3.679969  ,  4.893989  ,\n",
              "         5.362765  ,  5.9489946 ,  5.903404  ,  1.5691576 ,  2.752611  ,\n",
              "         2.6124153 ,  4.841758  ,  6.283616  ,  4.6467524 ,  3.493743  ,\n",
              "         4.357769  ,  3.8951643 ,  4.2588763 ,  5.4910593 ,  6.870596  ,\n",
              "         8.600202  ,  6.795106  ,  3.0961006 ,  1.7480325 ,  2.4826975 ,\n",
              "         2.199186  ,  2.4712372 ,  3.0934827 ,  3.6075335 ,  5.565586  ,\n",
              "         4.2267113 ,  4.217011  ,  3.3967535 ,  2.24352   ,  1.5774562 ,\n",
              "         2.6919284 ,  2.968511  ,  5.1926727 ,  6.443034  ,  8.086339  ,\n",
              "         5.5283093 ,  3.3189085 ,  2.2886488 ,  3.583926  ,  4.0196753 ,\n",
              "         4.113002  ,  5.1569986 ,  6.4264307 , 10.78317   , 10.567293  ,\n",
              "         9.819861  ,  4.309626  ,  2.0667822 ,  2.4875412 ,  2.2791946 ,\n",
              "         4.089552  ,  3.4803514 ,  5.0765166 ,  6.7296305 , 14.254506  ,\n",
              "        24.419422  , 35.145283  , 33.97126   , 38.66389   , 41.849747  ,\n",
              "        48.970966  , 24.795246  , 13.221221  ,  7.808541  ,  6.771596  ,\n",
              "         8.515182  ,  6.9728336 ,  7.77132   ,  4.6685796 ,  5.153042  ,\n",
              "         4.640524  ,  5.256141  ,  4.4815097 ,  5.0253844 ,  5.1926    ,\n",
              "         5.557058  ,  5.9186425 ,  4.318839  ,  8.669056  , 10.030428  ,\n",
              "         6.3234577 ,  5.359075  ,  3.1647005 ,  4.050002  ,  2.7812736 ,\n",
              "         3.4750276 ,  7.211811  ,  4.929823  ,  7.876942  ,  6.0926514 ,\n",
              "         5.546615  ,  2.5615258 ,  2.8352401 ,  2.8009768 ,  2.1997566 ,\n",
              "         3.767797  ,  3.599779  ,  3.281972  ,  3.685752  ,  4.481377  ,\n",
              "         4.768122  ,  6.6396275 ,  8.726228  ,  6.2781916 ,  7.0761375 ,\n",
              "         9.485286  , 10.01832   , 11.098317  , 12.231512  ,  5.565991  ,\n",
              "         2.7756512 ,  3.500035  ,  4.2158875 ,  4.3586617 ,  4.179993  ,\n",
              "         5.1347475 ,  5.1729517 ,  6.8602047 , 10.774761  ,  9.741141  ,\n",
              "         3.2845378 ,  5.127909  ,  7.544136  ,  3.7667997 ,  2.4416876 ,\n",
              "         2.8712425 ,  2.4297316 ,  3.9688506 ,  4.763288  ,  7.2815695 ,\n",
              "         7.0167093 ,  4.2479477 ,  3.1550097 ,  3.2721367 ,  3.101149  ,\n",
              "         5.3963594 ,  7.699846  ,  7.3331423 ,  4.7631598 ,  2.816652  ,\n",
              "         1.2909509 ,  1.9594301 ,  3.0859206 ,  1.4951551 ,  1.4875942 ,\n",
              "         3.255343  ,  1.7390487 ,  2.005551  ,  2.1535234 ,  2.9998384 ,\n",
              "         3.9502594 ,  5.578895  ,  1.4510117 ,  1.343199  ,  1.5289481 ,\n",
              "         1.4513825 ,  1.9947838 ,  1.895986  ,  1.7524998 ,  1.4290482 ,\n",
              "         1.5443323 ,  1.8393692 ,  2.0262854 ,  2.8496866 ,  6.1434097 ,\n",
              "         2.9179592 ,  3.013359  ,  1.4513718 ,  0.8062296 ,  0.5856781 ,\n",
              "         0.9755166 ,  1.2496895 ,  1.632818  ,  1.3588635 ,  1.8587917 ,\n",
              "         1.016422  ,  1.9338545 ,  0.76604384,  0.7613722 ,  2.1339874 ,\n",
              "         1.5049397 ,  1.4876472 ,  0.8236735 ,  0.82198   ,  1.2857286 ,\n",
              "         1.7466615 ,  1.6188232 ,  1.522662  ,  1.9710739 ,  2.7174342 ,\n",
              "         3.3450274 ,  5.9319973 ,  6.6759205 ,  7.4671693 ,  8.338855  ,\n",
              "        10.214082  , 12.002156  , 11.7236395 ,  4.679185  ,  2.0538    ,\n",
              "         2.1624131 ,  2.2227643 ,  2.442202  ,  3.3622172 ,  1.1063685 ,\n",
              "         0.93746036,  1.6955471 ,  1.0021045 ,  2.4178262 ,  2.5291371 ,\n",
              "         2.449822  ,  2.1346407 ,  2.8605516 ,  1.6263386 ,  1.4222116 ,\n",
              "         1.252562  ,  1.6541815 ,  1.4312794 ,  2.2483723 ,  3.7983809 ,\n",
              "         5.3823733 ,  2.5632617 ,  2.6514978 ,  1.6168703 ,  2.2624955 ,\n",
              "         3.0703886 ,  2.572759  ,  1.1891351 ,  1.666384  ,  2.2252057 ,\n",
              "         3.392915  ,  5.40227   ,  7.45392   ,  9.941701  , 14.118745  ,\n",
              "        13.346375  ,  8.691144  ,  5.6362424 ,  1.3427958 ,  1.9050764 ,\n",
              "         1.8971828 ,  2.9675512 ,  3.914798  ,  3.9951417 ,  3.9610815 ,\n",
              "         4.2889814 ,  3.7648115 ,  2.1690722 ,  1.0335467 ,  2.8200283 ,\n",
              "         4.1567326 ,  3.3976858 ,  4.678816  ,  2.9806447 ,  1.3975667 ,\n",
              "         1.6483104 ,  2.9721785 ,  1.58853   ,  0.9248038 ,  1.276741  ,\n",
              "         2.0297167 ,  2.9757273 ,  2.5210547 ,  1.6239319 ,  1.4070543 ,\n",
              "         1.5125965 ,  2.1878903 ,  2.8571823 ,  3.909338  ,  4.851466  ,\n",
              "         5.805891  ,  5.316625  ,  4.4664717 ,  1.4555005 ,  0.81144285,\n",
              "         2.6826189 ,  2.1527636 ,  3.297301  ,  4.7313056 ,  5.7233324 ,\n",
              "         7.9325213 ,  9.18386   ,  9.1527815 ,  9.196856  ,  3.1121776 ,\n",
              "         1.7977009 ,  1.9023778 ,  2.3827326 ,  2.0674813 ,  1.8813803 ,\n",
              "         1.6977559 ,  1.2270117 ,  2.6628716 ,  3.8428247 ,  4.629812  ,\n",
              "         5.709029  ,  7.2109685 ,  7.5990334 ,  7.5568333 ,  2.7865524 ,\n",
              "         3.3382387 ,  2.3976934 ,  2.0094888 ,  3.2599967 ,  4.69113   ,\n",
              "         4.494813  ,  4.6255646 ,  6.0892463 ,  7.179712  ,  9.83978   ,\n",
              "         8.266897  ,  5.318736  ,  2.743976  ,  2.4733753 ,  3.5107613 ,\n",
              "         5.2569437 ,  6.452813  ,  6.2210374 ,  6.5662494 ,  5.44809   ,\n",
              "         3.9997835 ,  5.9628596 ,  6.879171  ,  6.6124268 ,  1.7025063 ,\n",
              "         1.3503834 ,  2.6160398 ,  4.423634  ,  3.4458988 ,  3.6616855 ,\n",
              "         3.2289808 ,  3.2606993 ,  3.2204964 ,  3.9875221 ,  6.9387035 ,\n",
              "        11.624277  , 12.298483  , 13.599433  , 14.515331  , 15.360525  ,\n",
              "        10.099567  ,  4.068152  ,  2.2315607 ,  4.054519  ,  5.2055597 ,\n",
              "         5.4062443 ,  6.4725614 ,  9.172667  , 10.942374  , 10.613153  ,\n",
              "         7.9582863 ,  8.244558  ,  9.144945  , 10.903899  ,  9.740186  ,\n",
              "        11.297314  , 13.340826  , 11.247776  , 10.67007   , 11.147956  ,\n",
              "         7.6491156 ,  6.866442  ,  6.6784034 , 12.243648  , 16.208025  ,\n",
              "        14.951216  ,  4.207533  ,  2.6856244 ,  2.3191185 ,  8.15719   ,\n",
              "         9.668839  , 10.254631  , 10.080647  ,  9.740136  , 11.513623  ,\n",
              "        12.358547  ,  3.412747  ,  4.3834615 ,  3.7224135 ,  3.757688  ,\n",
              "         3.7642162 ,  6.770426  , 10.383636  ,  9.506482  ,  6.720391  ,\n",
              "         7.6151123 ,  8.350168  , 12.150838  , 12.733213  , 10.302471  ,\n",
              "        10.816615  , 13.041726  , 12.998533  , 17.210749  ,  9.764074  ,\n",
              "         3.1822193 ,  3.1218848 ,  3.2214012 ,  4.736365  ,  4.7192683 ,\n",
              "         6.1523414 ,  5.218858  ,  6.4583874 ,  4.990052  ,  6.193294  ,\n",
              "        11.75486   , 14.816992  , 21.48871   , 19.504026  , 11.145401  ,\n",
              "         6.672235  ,  4.6338086 ,  2.6931677 ,  4.8198333 ,  7.5707445 ,\n",
              "         5.318615  ,  5.346155  ,  5.6070814 ,  7.168313  ,  9.590031  ,\n",
              "        11.162836  , 10.50085   ,  9.507164  ,  7.5070596 ,  3.6392622 ,\n",
              "         3.3445194 ,  2.4078    ,  2.6060457 ,  5.1649323 ,  3.1383116 ,\n",
              "         2.8420477 ,  5.4313416 ,  7.7314005 , 10.53613   , 10.046468  ,\n",
              "         9.802414  ,  2.7302206 ,  3.833476  ,  4.92407   ,  6.5090365 ,\n",
              "         7.732568  ,  4.1993046 ,  4.5184026 ,  2.6188672 ,  1.2180879 ,\n",
              "         1.2371453 ,  1.4383229 ,  1.4578974 ,  1.1382282 ,  1.9892576 ,\n",
              "         2.2655976 ,  2.4883645 ,  4.0949287 ,  5.315863  ,  5.746708  ,\n",
              "         3.984756  ,  3.9883215 ,  4.0904284 ,  5.8275647 ,  9.767983  ,\n",
              "        13.2319975 , 16.274822  , 15.870044  , 12.382068  ,  8.973194  ,\n",
              "         8.880301  ,  5.290676  ,  3.8085976 ,  5.524464  ,  7.881207  ,\n",
              "        11.078926  ,  6.873392  ,  3.3009703 ,  3.761163  ,  4.2070994 ,\n",
              "         2.5168717 ,  3.0634851 ,  2.2868152 ,  3.5653017 ,  3.3792694 ,\n",
              "         3.3126872 ,  4.3336215 ,  6.570369  , 11.058972  , 14.624603  ,\n",
              "        16.685299  ], dtype=float32),\n",
              " 'mase': 2.1974063,\n",
              " 'mse': array([  561.22516 ,   301.9714  ,   297.9477  ,   413.84305 ,\n",
              "          445.20914 ,   540.59717 ,   527.2284  ,   441.84564 ,\n",
              "          498.77365 ,   639.1921  ,   803.132   ,   731.72614 ,\n",
              "          678.6172  ,   797.18567 ,   575.3339  ,   280.21136 ,\n",
              "          239.9216  ,   246.152   ,   276.387   ,   285.75482 ,\n",
              "          118.80413 ,   135.45549 ,   191.11852 ,   251.82576 ,\n",
              "          170.28928 ,   154.20027 ,   107.244835,    97.66267 ,\n",
              "          111.26409 ,   139.85393 ,   269.1739  ,   369.812   ,\n",
              "          270.48096 ,   263.1211  ,   247.72252 ,   255.50523 ,\n",
              "          298.48172 ,   245.26395 ,   243.13072 ,   255.7583  ,\n",
              "          416.6257  ,   150.97021 ,    94.16581 ,   101.62012 ,\n",
              "           93.76967 ,    86.75328 ,    73.27923 ,    79.04513 ,\n",
              "           89.541084,    93.11977 ,   106.798546,   141.09578 ,\n",
              "          178.73668 ,   145.46994 ,   256.4566  ,   392.8164  ,\n",
              "          560.91174 ,   552.8188  ,   536.1548  ,   535.2687  ,\n",
              "          448.70444 ,   267.23297 ,   286.56223 ,   320.78613 ,\n",
              "          430.7768  ,   472.82574 ,   523.67267 ,   519.4371  ,\n",
              "          138.85701 ,   239.4022  ,   224.78543 ,   415.00668 ,\n",
              "          534.72894 ,   394.11887 ,   295.50418 ,   370.85757 ,\n",
              "          338.87027 ,   389.1006  ,   508.34222 ,   640.41925 ,\n",
              "          802.7973  ,   636.00824 ,   290.3602  ,   165.47195 ,\n",
              "          232.60547 ,   207.31906 ,   235.00334 ,   301.6727  ,\n",
              "          355.21024 ,   553.64856 ,   428.6024  ,   428.93344 ,\n",
              "          347.44308 ,   230.37932 ,   159.03293 ,   270.9191  ,\n",
              "          293.357   ,   511.3838  ,   631.4808  ,   789.19324 ,\n",
              "          536.7949  ,   321.4195  ,   224.59836 ,   344.917   ,\n",
              "          372.03558 ,   370.5837  ,   460.56528 ,   568.79504 ,\n",
              "          946.44794 ,   925.5293  ,   857.27875 ,   375.33035 ,\n",
              "          180.05984 ,   221.4407  ,   203.34612 ,   361.68842 ,\n",
              "          294.16092 ,   421.7731  ,   553.40106 ,   975.4743  ,\n",
              "         1585.9314  ,  2153.3953  ,  1954.6543  ,  2105.9724  ,\n",
              "         2259.2856  ,  2632.2498  ,  1333.1326  ,   703.96027 ,\n",
              "          434.42084 ,   391.2357  ,   521.8068  ,   439.03006 ,\n",
              "          501.90506 ,   309.0523  ,   324.98862 ,   299.01395 ,\n",
              "          346.7885  ,   293.72543 ,   316.86078 ,   323.07275 ,\n",
              "          344.85233 ,   371.3056  ,   278.71094 ,   582.9794  ,\n",
              "          689.01117 ,   443.01947 ,   378.4691  ,   223.80371 ,\n",
              "          291.30865 ,   195.35316 ,   248.76457 ,   507.26596 ,\n",
              "          341.92465 ,   543.29156 ,   418.87027 ,   382.89438 ,\n",
              "          180.1898  ,   199.54192 ,   199.46227 ,   154.98473 ,\n",
              "          269.20187 ,   259.35324 ,   238.77637 ,   267.38477 ,\n",
              "          324.7892  ,   360.8395  ,   507.24603 ,   700.3563  ,\n",
              "          530.32526 ,   612.0954  ,   830.4459  ,   884.72455 ,\n",
              "          982.63226 ,  1086.1188  ,   503.73257 ,   266.38727 ,\n",
              "          341.75168 ,   403.29672 ,   413.48117 ,   389.9781  ,\n",
              "          480.06625 ,   466.98703 ,   606.72864 ,   970.3312  ,\n",
              "          874.8507  ,   292.2521  ,   491.87695 ,   725.58734 ,\n",
              "          363.09738 ,   230.4036  ,   267.63727 ,   226.10672 ,\n",
              "          364.41754 ,   435.15445 ,   659.5251  ,   633.8714  ,\n",
              "          382.49078 ,   288.37613 ,   300.929   ,   289.74136 ,\n",
              "          524.566   ,   748.52094 ,   712.2687  ,   468.8443  ,\n",
              "          281.65723 ,   128.74721 ,   196.07701 ,   298.2405  ,\n",
              "          144.90514 ,   144.90945 ,   311.81305 ,   164.77637 ,\n",
              "          190.95424 ,   203.23381 ,   282.59402 ,   371.06976 ,\n",
              "          524.85126 ,   136.68527 ,   126.04701 ,   143.39928 ,\n",
              "          135.35197 ,   187.13058 ,   178.33315 ,   164.73479 ,\n",
              "          134.88924 ,   144.69797 ,   173.16881 ,   189.59445 ,\n",
              "          260.71246 ,   562.91254 ,   267.06332 ,   274.8934  ,\n",
              "          132.04549 ,    73.82366 ,    53.49149 ,    89.57701 ,\n",
              "          114.22224 ,   150.2698  ,   126.19308 ,   172.46889 ,\n",
              "           94.38393 ,   179.96596 ,    71.33427 ,    70.93095 ,\n",
              "          197.24791 ,   138.7772  ,   137.05482 ,    75.782646,\n",
              "           75.475586,   117.95048 ,   160.43918 ,   150.30734 ,\n",
              "          144.7694  ,   187.9269  ,   260.4305  ,   324.55273 ,\n",
              "          612.9022  ,   711.0587  ,   817.63715 ,   921.0967  ,\n",
              "         1136.7289  ,  1354.3524  ,  1324.7188  ,   531.8509  ,\n",
              "          235.42383 ,   246.95801 ,   255.00056 ,   280.46527 ,\n",
              "          381.0982  ,   126.34947 ,   107.87946 ,   198.59348 ,\n",
              "          115.717354,   279.292   ,   292.4764  ,   283.1822  ,\n",
              "          247.37486 ,   335.7147  ,   197.911   ,   173.42076 ,\n",
              "          151.9502  ,   197.1942  ,   171.21848 ,   266.2034  ,\n",
              "          445.23898 ,   626.52496 ,   296.1638  ,   304.2422  ,\n",
              "          185.74289 ,   258.2899  ,   351.0088  ,   294.51785 ,\n",
              "          138.96889 ,   195.71191 ,   253.21861 ,   376.6956  ,\n",
              "          578.7729  ,   779.92316 ,  1034.1581  ,  1459.0443  ,\n",
              "         1371.5557  ,   888.55597 ,   575.3118  ,   137.59068 ,\n",
              "          196.6995  ,   197.15764 ,   315.0357  ,   421.34515 ,\n",
              "          432.91965 ,   431.11734 ,   468.19977 ,   411.50586 ,\n",
              "          237.40709 ,   110.6695  ,   297.33023 ,   438.86203 ,\n",
              "          356.8439  ,   492.67215 ,   312.7596  ,   146.44504 ,\n",
              "          175.33873 ,   319.6395  ,   170.95996 ,    99.01214 ,\n",
              "          135.8256  ,   215.45773 ,   316.37152 ,   267.53265 ,\n",
              "          172.05371 ,   149.94908 ,   164.11496 ,   242.63588 ,\n",
              "          319.56918 ,   442.6137  ,   552.08234 ,   660.8864  ,\n",
              "          608.4819  ,   512.04645 ,   167.54283 ,    93.320595,\n",
              "          306.3821  ,   248.24289 ,   407.00125 ,   600.6367  ,\n",
              "          734.3605  ,  1024.6749  ,  1189.7373  ,  1191.9965  ,\n",
              "         1213.8351  ,   414.75864 ,   238.51883 ,   254.38142 ,\n",
              "          320.94977 ,   282.3909  ,   257.53934 ,   229.8072  ,\n",
              "          169.95145 ,   396.17075 ,   586.7235  ,   697.4233  ,\n",
              "          865.0866  ,  1101.0883  ,  1164.0701  ,  1168.6115  ,\n",
              "          440.2775  ,   518.7567  ,   384.29156 ,   318.33383 ,\n",
              "          531.3942  ,   789.1124  ,   777.889   ,   805.1823  ,\n",
              "         1074.3625  ,  1294.0443  ,  1792.1757  ,  1516.3978  ,\n",
              "          989.6607  ,   514.30164 ,   450.96652 ,   611.9632  ,\n",
              "          922.9542  ,  1132.9227  ,  1093.5826  ,  1153.0228  ,\n",
              "          952.3594  ,   743.63196 ,  1142.7494  ,  1314.8292  ,\n",
              "         1269.1663  ,   325.77008 ,   256.58035 ,   492.59125 ,\n",
              "          828.8976  ,   637.94617 ,   678.0993  ,   596.0165  ,\n",
              "          603.78546 ,   600.04407 ,   788.31415 ,  1474.5625  ,\n",
              "         2504.6133  ,  2764.2915  ,  3115.9556  ,  3350.7385  ,\n",
              "         3558.936   ,  2359.0298  ,   956.7651  ,   536.6685  ,\n",
              "          992.6755  ,  1291.6934  ,  1389.5912  ,  1696.4174  ,\n",
              "         2485.2366  ,  3017.9568  ,  2985.4885  ,  2384.554   ,\n",
              "         2572.5842  ,  2860.401   ,  3514.916   ,  3310.3806  ,\n",
              "         4064.0735  ,  4992.681   ,  4371.6753  ,  4108.116   ,\n",
              "         4344.4614  ,  3016.4275  ,  2627.2456  ,  2377.2131  ,\n",
              "         4406.5283  ,  5825.09    ,  5359.434   ,  1512.5876  ,\n",
              "          998.8549  ,   853.38055 ,  2798.1128  ,  3251.1172  ,\n",
              "         3368.8538  ,  3257.3845  ,  3149.0945  ,  3699.1616  ,\n",
              "         3922.4187  ,  1093.8826  ,  1413.7168  ,  1229.8223  ,\n",
              "         1252.4481  ,  1244.62    ,  2318.2559  ,  3654.8645  ,\n",
              "         3421.887   ,  2468.0347  ,  2857.668   ,  3193.1658  ,\n",
              "         4877.4453  ,  5430.5938  ,  4569.6694  ,  4913.6104  ,\n",
              "         6024.833   ,  6040.84    ,  8098.107   ,  4656.5737  ,\n",
              "         1519.6523  ,  1565.0603  ,  1623.0022  ,  2473.966   ,\n",
              "         2522.4944  ,  3345.5295  ,  2859.8064  ,  3505.7366  ,\n",
              "         2622.5999  ,  3181.4487  ,  5686.222   ,  7068.962   ,\n",
              "        10159.011   ,  9195.29    ,  5213.328   ,  3096.9458  ,\n",
              "         2172.101   ,  1295.8214  ,  2360.0286  ,  3748.7122  ,\n",
              "         2681.0413  ,  2770.8425  ,  3032.559   ,  3957.7869  ,\n",
              "         5340.59    ,  6390.0913  ,  6141.483   ,  5543.7495  ,\n",
              "         4377.4814  ,  2162.284   ,  1958.875   ,  1428.2272  ,\n",
              "         1494.9537  ,  2972.1653  ,  1756.8058  ,  1585.6752  ,\n",
              "         2969.3777  ,  4168.249   ,  5691.253   ,  5425.8086  ,\n",
              "         5282.3745  ,  1467.7908  ,  2095.7935  ,  2822.6753  ,\n",
              "         3762.4565  ,  4497.3774  ,  2443.27    ,  2640.0364  ,\n",
              "         1537.1741  ,   712.88837 ,   712.52344 ,   827.51843 ,\n",
              "          839.1774  ,   657.03906 ,  1154.592   ,  1314.6825  ,\n",
              "         1498.0039  ,  2523.2175  ,  3304.8203  ,  3580.2083  ,\n",
              "         2486.023   ,  2461.557   ,  2453.1472  ,  3343.5754  ,\n",
              "         5525.0317  ,  7342.497   ,  8799.321   ,  8409.528   ,\n",
              "         6354.384   ,  4577.6826  ,  4530.3354  ,  2686.8325  ,\n",
              "         1951.0658  ,  2977.4683  ,  4358.714   ,  6178.878   ,\n",
              "         3880.2908  ,  1868.25    ,  2122.1106  ,  2401.5017  ,\n",
              "         1403.178   ,  1713.0636  ,  1281.6619  ,  1998.3867  ,\n",
              "         1947.087   ,  1843.4381  ,  2305.3845  ,  3362.2043  ,\n",
              "         5559.337   ,  7160.6357  ,  7830.984   ], dtype=float32),\n",
              " 'rmse': array([ 23.690191 ,  17.377325 ,  17.261162 ,  20.343132 ,  21.09998  ,\n",
              "         23.250746 ,  22.961454 ,  21.020124 ,  22.33324  ,  25.282248 ,\n",
              "         28.339584 ,  27.050436 ,  26.050282 ,  28.234476 ,  23.98612  ,\n",
              "         16.739515 ,  15.489403 ,  15.689232 ,  16.624891 ,  16.904284 ,\n",
              "         10.899731 ,  11.638535 ,  13.824562 ,  15.869019 ,  13.049493 ,\n",
              "         12.41774  ,  10.355908 ,   9.882442 ,  10.54818  ,  11.825985 ,\n",
              "         16.406519 ,  19.230495 ,  16.446304 ,  16.221008 ,  15.739203 ,\n",
              "         15.984531 ,  17.276623 ,  15.660905 ,  15.592649 ,  15.992445 ,\n",
              "         20.411411 ,  12.286994 ,   9.703907 ,  10.08068  ,   9.683474 ,\n",
              "          9.314144 ,   8.5603285,   8.890733 ,   9.462615 ,   9.649858 ,\n",
              "         10.334338 ,  11.878374 ,  13.369244 ,  12.061092 ,  16.014261 ,\n",
              "         19.819595 ,  23.683575 ,  23.512098 ,  23.155016 ,  23.135874 ,\n",
              "         21.182644 ,  16.347261 ,  16.928148 ,  17.910503 ,  20.755163 ,\n",
              "         21.744556 ,  22.883894 ,  22.791162 ,  11.78376  ,  15.472628 ,\n",
              "         14.992846 ,  20.371714 ,  23.124207 ,  19.852427 ,  17.190235 ,\n",
              "         19.257662 ,  18.408428 ,  19.725632 ,  22.546446 ,  25.306505 ,\n",
              "         28.333677 ,  25.219204 ,  17.039959 ,  12.86359  ,  15.251409 ,\n",
              "         14.398579 ,  15.329819 ,  17.368727 ,  18.847021 ,  23.529737 ,\n",
              "         20.702715 ,  20.710709 ,  18.639826 ,  15.178251 ,  12.610826 ,\n",
              "         16.45962  ,  17.127666 ,  22.613796 ,  25.129282 ,  28.092583 ,\n",
              "         23.168835 ,  17.928175 ,  14.986606 ,  18.571941 ,  19.288223 ,\n",
              "         19.250551 ,  21.460783 ,  23.849424 ,  30.764393 ,  30.422512 ,\n",
              "         29.279322 ,  19.373444 ,  13.418637 ,  14.880884 ,  14.259948 ,\n",
              "         19.018106 ,  17.15112  ,  20.537115 ,  23.524477 ,  31.232584 ,\n",
              "         39.823753 ,  46.40469  ,  44.21147  ,  45.890877 ,  47.531944 ,\n",
              "         51.305454 ,  36.51209  ,  26.53225  ,  20.842764 ,  19.779678 ,\n",
              "         22.84309  ,  20.953045 ,  22.403238 ,  17.579884 ,  18.027441 ,\n",
              "         17.292019 ,  18.62226  ,  17.13842  ,  17.800583 ,  17.974224 ,\n",
              "         18.5702   ,  19.26929  ,  16.694637 ,  24.144966 ,  26.249022 ,\n",
              "         21.048027 ,  19.454283 ,  14.960071 ,  17.067766 ,  13.976879 ,\n",
              "         15.772272 ,  22.522566 ,  18.491205 ,  23.308617 ,  20.46632  ,\n",
              "         19.567686 ,  13.423479 ,  14.125931 ,  14.123111 ,  12.449286 ,\n",
              "         16.407372 ,  16.104448 ,  15.45239  ,  16.351904 ,  18.02191  ,\n",
              "         18.995775 ,  22.522123 ,  26.464247 ,  23.028791 ,  24.740562 ,\n",
              "         28.81746  ,  29.74432  ,  31.346966 ,  32.956318 ,  22.443987 ,\n",
              "         16.321375 ,  18.486526 ,  20.082249 ,  20.334236 ,  19.747862 ,\n",
              "         21.910414 ,  21.609882 ,  24.631863 ,  31.150139 ,  29.577875 ,\n",
              "         17.095383 ,  22.178299 ,  26.936728 ,  19.055115 ,  15.17905  ,\n",
              "         16.359623 ,  15.036845 ,  19.089724 ,  20.860355 ,  25.681221 ,\n",
              "         25.176802 ,  19.557371 ,  16.98164  ,  17.347303 ,  17.021791 ,\n",
              "         22.903404 ,  27.35911  ,  26.688362 ,  21.652813 ,  16.782646 ,\n",
              "         11.346683 ,  14.002749 ,  17.269642 ,  12.037655 ,  12.037834 ,\n",
              "         17.658228 ,  12.836525 ,  13.81862  ,  14.25601  ,  16.810534 ,\n",
              "         19.26317  ,  22.909632 ,  11.691248 ,  11.227066 ,  11.974944 ,\n",
              "         11.634087 ,  13.679568 ,  13.354143 ,  12.834905 ,  11.614182 ,\n",
              "         12.029047 ,  13.159362 ,  13.76933  ,  16.146593 ,  23.725777 ,\n",
              "         16.342072 ,  16.57991  ,  11.491104 ,   8.59207  ,   7.313788 ,\n",
              "          9.464513 ,  10.68748  ,  12.258458 ,  11.233569 ,  13.132741 ,\n",
              "          9.715138 ,  13.415139 ,   8.445961 ,   8.422051 ,  14.0444975,\n",
              "         11.780374 ,  11.707042 ,   8.705323 ,   8.687669 ,  10.8605   ,\n",
              "         12.666458 ,  12.25999  ,  12.032015 ,  13.708643 ,  16.13786  ,\n",
              "         18.015347 ,  24.756863 ,  26.665684 ,  28.594355 ,  30.349575 ,\n",
              "         33.71541  ,  36.801525 ,  36.396687 ,  23.061892 ,  15.343527 ,\n",
              "         15.714897 ,  15.968737 ,  16.747097 ,  19.521736 ,  11.240528 ,\n",
              "         10.386504 ,  14.0923195,  10.7572   ,  16.712032 ,  17.101942 ,\n",
              "         16.828018 ,  15.728155 ,  18.32252  ,  14.068085 ,  13.168932 ,\n",
              "         12.326808 ,  14.042585 ,  13.085048 ,  16.31574  ,  21.100687 ,\n",
              "         25.03048  ,  17.20941  ,  17.44254  ,  13.628753 ,  16.0714   ,\n",
              "         18.73523  ,  17.161522 ,  11.7885065,  13.989707 ,  15.912844 ,\n",
              "         19.408648 ,  24.0577   ,  27.927103 ,  32.15833  ,  38.197437 ,\n",
              "         37.03452  ,  29.808655 ,  23.985659 ,  11.729905 ,  14.02496  ,\n",
              "         14.041284 ,  17.749245 ,  20.526693 ,  20.80672  ,  20.763365 ,\n",
              "         21.637924 ,  20.285608 ,  15.40802  ,  10.519958 ,  17.243265 ,\n",
              "         20.949034 ,  18.890312 ,  22.196218 ,  17.68501  ,  12.101447 ,\n",
              "         13.241553 ,  17.878466 ,  13.075166 ,   9.950484 ,  11.654425 ,\n",
              "         14.678478 ,  17.786835 ,  16.356426 ,  13.116924 ,  12.24537  ,\n",
              "         12.810736 ,  15.576774 ,  17.8765   ,  21.038385 ,  23.496431 ,\n",
              "         25.70771  ,  24.667425 ,  22.628443 ,  12.943833 ,   9.660258 ,\n",
              "         17.503775 ,  15.755726 ,  20.174273 ,  24.50789  ,  27.099087 ,\n",
              "         32.010544 ,  34.49257  ,  34.525303 ,  34.840137 ,  20.365623 ,\n",
              "         15.444055 ,  15.949339 ,  17.91507  ,  16.804491 ,  16.04803  ,\n",
              "         15.159393 ,  13.036543 ,  19.904037 ,  24.222376 ,  26.408773 ,\n",
              "         29.412354 ,  33.18265  ,  34.11847  ,  34.18496  ,  20.98279  ,\n",
              "         22.776232 ,  19.603355 ,  17.841911 ,  23.051989 ,  28.091145 ,\n",
              "         27.890661 ,  28.375734 ,  32.77747  ,  35.972828 ,  42.334095 ,\n",
              "         38.940952 ,  31.458874 ,  22.678219 ,  21.235971 ,  24.73789  ,\n",
              "         30.380161 ,  33.658916 ,  33.06936  ,  33.95619  ,  30.86032  ,\n",
              "         27.269615 ,  33.804577 ,  36.260574 ,  35.62536  ,  18.0491   ,\n",
              "         16.018126 ,  22.194397 ,  28.79058  ,  25.257597 ,  26.04034  ,\n",
              "         24.413448 ,  24.572046 ,  24.495796 ,  28.076933 ,  38.400032 ,\n",
              "         50.04611  ,  52.57653  ,  55.820744 ,  57.885563 ,  59.65682  ,\n",
              "         48.569843 ,  30.93162  ,  23.166107 ,  31.506752 ,  35.940136 ,\n",
              "         37.27722  ,  41.187588 ,  49.852146 ,  54.935932 ,  54.63962  ,\n",
              "         48.831894 ,  50.72065  ,  53.482716 ,  59.286728 ,  57.535908 ,\n",
              "         63.750084 ,  70.658905 ,  66.118645 ,  64.09459  ,  65.91253  ,\n",
              "         54.922012 ,  51.256664 ,  48.75667  ,  66.38168  ,  76.32227  ,\n",
              "         73.20815  ,  38.892    ,  31.604666 ,  29.212679 ,  52.89719  ,\n",
              "         57.01857  ,  58.04183  ,  57.0735   ,  56.11679  ,  60.820732 ,\n",
              "         62.629215 ,  33.073895 ,  37.599426 ,  35.06882  ,  35.389942 ,\n",
              "         35.27917  ,  48.14827  ,  60.455475 ,  58.4969   ,  49.679317 ,\n",
              "         53.45716  ,  56.508102 ,  69.83871  ,  73.69256  ,  67.59933  ,\n",
              "         70.097145 ,  77.6198   ,  77.72284  ,  89.98948  ,  68.23909  ,\n",
              "         38.98272  ,  39.560844 ,  40.2865   ,  49.73898  ,  50.22444  ,\n",
              "         57.840553 ,  53.477158 ,  59.20926  ,  51.211327 ,  56.40433  ,\n",
              "         75.40704  ,  84.07712  , 100.791916 ,  95.892075 ,  72.20338  ,\n",
              "         55.650208 ,  46.605804 ,  35.99752  ,  48.580124 ,  61.226727 ,\n",
              "         51.77877  ,  52.638794 ,  55.068676 ,  62.910942 ,  73.07934  ,\n",
              "         79.93805  ,  78.367615 ,  74.45636  ,  66.16254  ,  46.500366 ,\n",
              "         44.25918  ,  37.791893 ,  38.66463  ,  54.51757  ,  41.91427  ,\n",
              "         39.820538 ,  54.491997 ,  64.56197  ,  75.44039  ,  73.66009  ,\n",
              "         72.67995  ,  38.311756 ,  45.779835 ,  53.128853 ,  61.338867 ,\n",
              "         67.062485 ,  49.429443 ,  51.381283 ,  39.20681  ,  26.699968 ,\n",
              "         26.693134 ,  28.76662  ,  28.96856  ,  25.632772 ,  33.979286 ,\n",
              "         36.25855  ,  38.704056 ,  50.23164  ,  57.487564 ,  59.83484  ,\n",
              "         49.860035 ,  49.61408  ,  49.529255 ,  57.823658 ,  74.33056  ,\n",
              "         85.68837  ,  93.804695 ,  91.70348  ,  79.714386 ,  67.65858  ,\n",
              "         67.30777  ,  51.834667 ,  44.17087  ,  54.56618  ,  66.02055  ,\n",
              "         78.605835 ,  62.29198  ,  43.223255 ,  46.066372 ,  49.00512  ,\n",
              "         37.45902  ,  41.38917  ,  35.800304 ,  44.70332  ,  44.12581  ,\n",
              "         42.935276 ,  48.01442  ,  57.984516 ,  74.56096  ,  84.620544 ,\n",
              "         88.49284  ], dtype=float32)}"
            ]
          },
          "metadata": {},
          "execution_count": 49
        }
      ]
    },
    {
      "cell_type": "markdown",
      "source": [
        "## Make our evaluation function work for larger horizons"
      ],
      "metadata": {
        "id": "7iI51eWJi9Y5"
      }
    },
    {
      "cell_type": "code",
      "source": [
        "def evaluate_preds(y_true, y_pred):\n",
        "  y_true = tf.cast(y_true, dtype=tf.float32)\n",
        "  y_pred = tf.cast(y_pred, dtype=tf.float32)\n",
        "\n",
        "  # Calculate various metrics\n",
        "  mae = tf.keras.metrics.mean_absolute_error(y_true, y_pred)\n",
        "  mse = tf.keras.metrics.mean_squared_error(y_true, y_pred)\n",
        "  rmse = tf.sqrt(mse)\n",
        "  mape = tf.keras.metrics.mean_absolute_percentage_error(y_true, y_pred)\n",
        "  mase = mean_absolute_scaled_error(y_true, y_pred)\n",
        "\n",
        "  # account for different sized metrics\n",
        "  if mae.ndim > 0:\n",
        "    mae = tf.reduce_mean(mae)\n",
        "    mse = tf.reduce_mean(mse)\n",
        "    rmse = tf.reduce_mean(rmse)\n",
        "    mape = tf.reduce_mean(mape)\n",
        "    mase = tf.reduce_mean(mase)\n",
        "  \n",
        "  return {\"mae\":mae.numpy(),\n",
        "          \"mse\": mse.numpy(),\n",
        "          \"rmse\": rmse.numpy(),\n",
        "          \"mape\": mape.numpy(),\n",
        "          \"mase\": mase.numpy()}"
      ],
      "metadata": {
        "id": "SO4d3cvci_Eu"
      },
      "execution_count": 50,
      "outputs": []
    },
    {
      "cell_type": "code",
      "source": [
        "# Get model_3 results aggregated to single values\n",
        "model_3_results = evaluate_preds(y_true=tf.squeeze(test_labels),\n",
        "                                 y_pred=model_3_preds)\n",
        "model_3_results"
      ],
      "metadata": {
        "colab": {
          "base_uri": "https://localhost:8080/"
        },
        "id": "Et7q4fR2lLet",
        "outputId": "48747f33-a21c-428e-e6eb-038659f6d77e"
      },
      "execution_count": 51,
      "outputs": [
        {
          "output_type": "execute_result",
          "data": {
            "text/plain": [
              "{'mae': 1234.8837,\n",
              " 'mape': 5.4874983,\n",
              " 'mase': 2.1974063,\n",
              " 'mse': 5393734.0,\n",
              " 'rmse': 1419.1362}"
            ]
          },
          "metadata": {},
          "execution_count": 51
        }
      ]
    },
    {
      "cell_type": "code",
      "source": [
        "offset = 300\n",
        "plt.figure(figsize=(10, 7))\n",
        "plot_time_series(timesteps=X_test[-len(test_windows):], values=test_labels[:, 0], start=offset, label=\"Test_data\")\n",
        "# Checking the shape of model_3_preds results in [n_test_samples, HORIZON] (this will screw up the plot)\n",
        "plot_time_series(timesteps=X_test[-len(test_windows):], values=model_3_preds, start=offset, label=\"model_3_preds\")"
      ],
      "metadata": {
        "colab": {
          "base_uri": "https://localhost:8080/",
          "height": 442
        },
        "id": "i9AwzDGzlOvh",
        "outputId": "de42fbfe-35f1-4cc4-d7a6-8c319af120f8"
      },
      "execution_count": 52,
      "outputs": [
        {
          "output_type": "display_data",
          "data": {
            "image/png": "[encoded data removed]",
            "text/plain": [
              "<Figure size 720x504 with 1 Axes>"
            ]
          },
          "metadata": {
            "needs_background": "light"
          }
        }
      ]
    },
    {
      "cell_type": "code",
      "source": [
        "offset = 300\n",
        "plt.figure(figsize=(10, 7))\n",
        "# Plot model_3_preds by aggregating them (note: this condenses information so the preds will look fruther ahead than the test data)\n",
        "plot_time_series(timesteps=X_test[-len(test_windows):], \n",
        "                 values=test_labels[:, 0], \n",
        "                 start=offset, \n",
        "                 label=\"Test_data\")\n",
        "plot_time_series(timesteps=X_test[-len(test_windows):], \n",
        "                 values=tf.reduce_mean(model_3_preds, axis=1), \n",
        "                 format=\"-\",\n",
        "                 start=offset, \n",
        "                 label=\"model_3_preds\")"
      ],
      "metadata": {
        "colab": {
          "base_uri": "https://localhost:8080/",
          "height": 442
        },
        "id": "NbZp0aPxlUqT",
        "outputId": "0c797813-ce0f-43ac-ba4b-03f20e5b78e6"
      },
      "execution_count": 53,
      "outputs": [
        {
          "output_type": "display_data",
          "data": {
            "image/png": "[encoded data removed]",
            "text/plain": [
              "<Figure size 720x504 with 1 Axes>"
            ]
          },
          "metadata": {
            "needs_background": "light"
          }
        }
      ]
    },
    {
      "cell_type": "markdown",
      "source": [
        "## Model 4: Conv1D"
      ],
      "metadata": {
        "id": "lFv-V2y4mP_o"
      }
    },
    {
      "cell_type": "code",
      "source": [
        "HORIZON = 1 \n",
        "WINDOW_SIZE = 7 "
      ],
      "metadata": {
        "id": "cRC8Co6ymSU8"
      },
      "execution_count": 54,
      "outputs": []
    },
    {
      "cell_type": "code",
      "source": [
        "# Create windowed dataset\n",
        "full_windows, full_labels = make_windows(prices, window_size=WINDOW_SIZE, horizon=HORIZON)\n",
        "len(full_windows), len(full_labels)"
      ],
      "metadata": {
        "colab": {
          "base_uri": "https://localhost:8080/"
        },
        "id": "updOxV3z0osy",
        "outputId": "fc284c30-026c-40ef-f9f0-ca44af9f60a8"
      },
      "execution_count": 55,
      "outputs": [
        {
          "output_type": "execute_result",
          "data": {
            "text/plain": [
              "(2780, 2780)"
            ]
          },
          "metadata": {},
          "execution_count": 55
        }
      ]
    },
    {
      "cell_type": "code",
      "source": [
        "# Create train/test splits\n",
        "train_windows, test_windows, train_labels, test_labels = make_train_test_splits(full_windows, full_labels)\n",
        "len(train_windows), len(test_windows), len(train_labels), len(test_labels)"
      ],
      "metadata": {
        "colab": {
          "base_uri": "https://localhost:8080/"
        },
        "id": "Qucyq0NX0q85",
        "outputId": "f887d98a-8418-4d3e-c108-ded31f0e9ee4"
      },
      "execution_count": 56,
      "outputs": [
        {
          "output_type": "execute_result",
          "data": {
            "text/plain": [
              "(2224, 556, 2224, 556)"
            ]
          },
          "metadata": {},
          "execution_count": 56
        }
      ]
    },
    {
      "cell_type": "code",
      "source": [
        "tf.random.set_seed(42)\n",
        "\n",
        "# create model\n",
        "model_4 = tf.keras.Sequential([\n",
        "                               layers.Lambda(lambda x: tf.expand_dims(x, axis=1)),\n",
        "                               layers.Conv1D(filters=128, kernel_size=5, padding=\"causal\", activation=\"relu\"),\n",
        "                               layers.Dense(HORIZON)\n",
        "], name=\"model_4_conv1D\")\n",
        "\n",
        "# Compile model\n",
        "model_4.compile(loss=\"mae\",\n",
        "                optimizer=tf.keras.optimizers.Adam(),\n",
        "                metrics=['mae'])\n",
        "\n",
        "# fit the model\n",
        "model_4.fit(train_windows,\n",
        "            train_labels,\n",
        "            batch_size=128, \n",
        "            epochs=100,\n",
        "            verbose=1,\n",
        "            validation_data=(test_windows, test_labels),\n",
        "            callbacks=[create_model_checkpoint(model_name=model_4.name)])"
      ],
      "metadata": {
        "colab": {
          "base_uri": "https://localhost:8080/"
        },
        "id": "uMjSk4j002JA",
        "outputId": "5ee3253d-1c18-4857-be73-12642ff7a748"
      },
      "execution_count": 57,
      "outputs": [
        {
          "output_type": "stream",
          "name": "stdout",
          "text": [
            "Epoch 1/100\n",
            "17/18 [===========================>..] - ETA: 0s - loss: 1227.0372 - mae: 1227.0372  INFO:tensorflow:Assets written to: model_experiments/model_4_conv1D/assets\n",
            "18/18 [==============================] - 8s 46ms/step - loss: 1207.3817 - mae: 1207.3817 - val_loss: 2320.6216 - val_mae: 2320.6216\n",
            "Epoch 2/100\n",
            "16/18 [=========================>....] - ETA: 0s - loss: 326.0714 - mae: 326.0714INFO:tensorflow:Assets written to: model_experiments/model_4_conv1D/assets\n",
            "18/18 [==============================] - 1s 38ms/step - loss: 316.2172 - mae: 316.2172 - val_loss: 1467.2802 - val_mae: 1467.2802\n",
            "Epoch 3/100\n",
            " 1/18 [>.............................] - ETA: 0s - loss: 191.0238 - mae: 191.0238INFO:tensorflow:Assets written to: model_experiments/model_4_conv1D/assets\n",
            "18/18 [==============================] - 1s 51ms/step - loss: 192.6853 - mae: 192.6853 - val_loss: 1164.7075 - val_mae: 1164.7075\n",
            "Epoch 4/100\n",
            " 1/18 [>.............................] - ETA: 0s - loss: 228.4294 - mae: 228.4294INFO:tensorflow:Assets written to: model_experiments/model_4_conv1D/assets\n",
            "18/18 [==============================] - 1s 39ms/step - loss: 177.3535 - mae: 177.3535 - val_loss: 981.6695 - val_mae: 981.6695\n",
            "Epoch 5/100\n",
            " 1/18 [>.............................] - ETA: 0s - loss: 169.5955 - mae: 169.5955INFO:tensorflow:Assets written to: model_experiments/model_4_conv1D/assets\n",
            "18/18 [==============================] - 1s 38ms/step - loss: 172.3467 - mae: 172.3467 - val_loss: 960.8710 - val_mae: 960.8710\n",
            "Epoch 6/100\n",
            "18/18 [==============================] - ETA: 0s - loss: 171.9754 - mae: 171.9754INFO:tensorflow:Assets written to: model_experiments/model_4_conv1D/assets\n",
            "18/18 [==============================] - 1s 38ms/step - loss: 171.9754 - mae: 171.9754 - val_loss: 950.2026 - val_mae: 950.2026\n",
            "Epoch 7/100\n",
            "12/18 [===================>..........] - ETA: 0s - loss: 174.0043 - mae: 174.0043INFO:tensorflow:Assets written to: model_experiments/model_4_conv1D/assets\n",
            "18/18 [==============================] - 1s 84ms/step - loss: 167.1943 - mae: 167.1943 - val_loss: 943.2872 - val_mae: 943.2872\n",
            "Epoch 8/100\n",
            "17/18 [===========================>..] - ETA: 0s - loss: 163.2014 - mae: 163.2014INFO:tensorflow:Assets written to: model_experiments/model_4_conv1D/assets\n",
            "18/18 [==============================] - 1s 86ms/step - loss: 163.5991 - mae: 163.5991 - val_loss: 905.5263 - val_mae: 905.5263\n",
            "Epoch 9/100\n",
            "18/18 [==============================] - 0s 10ms/step - loss: 162.5455 - mae: 162.5455 - val_loss: 929.7608 - val_mae: 929.7608\n",
            "Epoch 10/100\n",
            "17/18 [===========================>..] - ETA: 0s - loss: 157.5631 - mae: 157.5631INFO:tensorflow:Assets written to: model_experiments/model_4_conv1D/assets\n",
            "18/18 [==============================] - 1s 78ms/step - loss: 158.5780 - mae: 158.5780 - val_loss: 871.9778 - val_mae: 871.9778\n",
            "Epoch 11/100\n",
            " 1/18 [>.............................] - ETA: 0s - loss: 172.6847 - mae: 172.6847INFO:tensorflow:Assets written to: model_experiments/model_4_conv1D/assets\n",
            "18/18 [==============================] - 1s 38ms/step - loss: 154.0058 - mae: 154.0058 - val_loss: 852.7120 - val_mae: 852.7120\n",
            "Epoch 12/100\n",
            "18/18 [==============================] - 0s 5ms/step - loss: 151.2620 - mae: 151.2620 - val_loss: 944.1971 - val_mae: 944.1971\n",
            "Epoch 13/100\n",
            "18/18 [==============================] - 0s 5ms/step - loss: 150.2688 - mae: 150.2688 - val_loss: 881.1827 - val_mae: 881.1827\n",
            "Epoch 14/100\n",
            "18/18 [==============================] - ETA: 0s - loss: 145.4593 - mae: 145.4593INFO:tensorflow:Assets written to: model_experiments/model_4_conv1D/assets\n",
            "18/18 [==============================] - 1s 39ms/step - loss: 145.4593 - mae: 145.4593 - val_loss: 849.1820 - val_mae: 849.1820\n",
            "Epoch 15/100\n",
            "17/18 [===========================>..] - ETA: 0s - loss: 143.3098 - mae: 143.3098INFO:tensorflow:Assets written to: model_experiments/model_4_conv1D/assets\n",
            "18/18 [==============================] - 1s 39ms/step - loss: 143.3640 - mae: 143.3640 - val_loss: 844.4008 - val_mae: 844.4008\n",
            "Epoch 16/100\n",
            "18/18 [==============================] - ETA: 0s - loss: 139.8764 - mae: 139.8764INFO:tensorflow:Assets written to: model_experiments/model_4_conv1D/assets\n",
            "18/18 [==============================] - 1s 53ms/step - loss: 139.8764 - mae: 139.8764 - val_loss: 806.7262 - val_mae: 806.7262\n",
            "Epoch 17/100\n",
            "18/18 [==============================] - 0s 5ms/step - loss: 138.1677 - mae: 138.1677 - val_loss: 812.6342 - val_mae: 812.6342\n",
            "Epoch 18/100\n",
            "18/18 [==============================] - ETA: 0s - loss: 137.9497 - mae: 137.9497INFO:tensorflow:Assets written to: model_experiments/model_4_conv1D/assets\n",
            "18/18 [==============================] - 1s 40ms/step - loss: 137.9497 - mae: 137.9497 - val_loss: 775.2101 - val_mae: 775.2101\n",
            "Epoch 19/100\n",
            "18/18 [==============================] - ETA: 0s - loss: 131.1450 - mae: 131.1450INFO:tensorflow:Assets written to: model_experiments/model_4_conv1D/assets\n",
            "18/18 [==============================] - 1s 38ms/step - loss: 131.1450 - mae: 131.1450 - val_loss: 755.4261 - val_mae: 755.4261\n",
            "Epoch 20/100\n",
            "17/18 [===========================>..] - ETA: 0s - loss: 132.2764 - mae: 132.2764INFO:tensorflow:Assets written to: model_experiments/model_4_conv1D/assets\n",
            "18/18 [==============================] - 1s 39ms/step - loss: 132.4057 - mae: 132.4057 - val_loss: 712.2014 - val_mae: 712.2014\n",
            "Epoch 21/100\n",
            "18/18 [==============================] - ETA: 0s - loss: 131.0829 - mae: 131.0829INFO:tensorflow:Assets written to: model_experiments/model_4_conv1D/assets\n",
            "18/18 [==============================] - 1s 40ms/step - loss: 131.0829 - mae: 131.0829 - val_loss: 707.4121 - val_mae: 707.4121\n",
            "Epoch 22/100\n",
            "18/18 [==============================] - ETA: 0s - loss: 126.9511 - mae: 126.9511INFO:tensorflow:Assets written to: model_experiments/model_4_conv1D/assets\n",
            "18/18 [==============================] - 1s 38ms/step - loss: 126.9511 - mae: 126.9511 - val_loss: 692.9737 - val_mae: 692.9737\n",
            "Epoch 23/100\n",
            "17/18 [===========================>..] - ETA: 0s - loss: 124.0547 - mae: 124.0547INFO:tensorflow:Assets written to: model_experiments/model_4_conv1D/assets\n",
            "18/18 [==============================] - 1s 40ms/step - loss: 125.1489 - mae: 125.1489 - val_loss: 682.4753 - val_mae: 682.4753\n",
            "Epoch 24/100\n",
            "18/18 [==============================] - ETA: 0s - loss: 124.3786 - mae: 124.3786INFO:tensorflow:Assets written to: model_experiments/model_4_conv1D/assets\n",
            "18/18 [==============================] - 1s 42ms/step - loss: 124.3786 - mae: 124.3786 - val_loss: 670.8320 - val_mae: 670.8320\n",
            "Epoch 25/100\n",
            "18/18 [==============================] - ETA: 0s - loss: 121.6896 - mae: 121.6896INFO:tensorflow:Assets written to: model_experiments/model_4_conv1D/assets\n",
            "18/18 [==============================] - 1s 38ms/step - loss: 121.6896 - mae: 121.6896 - val_loss: 662.6083 - val_mae: 662.6083\n",
            "Epoch 26/100\n",
            "17/18 [===========================>..] - ETA: 0s - loss: 121.2305 - mae: 121.2305INFO:tensorflow:Assets written to: model_experiments/model_4_conv1D/assets\n",
            "18/18 [==============================] - 1s 38ms/step - loss: 121.5706 - mae: 121.5706 - val_loss: 654.6090 - val_mae: 654.6090\n",
            "Epoch 27/100\n",
            "18/18 [==============================] - ETA: 0s - loss: 122.6445 - mae: 122.6445INFO:tensorflow:Assets written to: model_experiments/model_4_conv1D/assets\n",
            "18/18 [==============================] - 1s 39ms/step - loss: 122.6445 - mae: 122.6445 - val_loss: 650.9057 - val_mae: 650.9057\n",
            "Epoch 28/100\n",
            "15/18 [========================>.....] - ETA: 0s - loss: 116.1494 - mae: 116.1494INFO:tensorflow:Assets written to: model_experiments/model_4_conv1D/assets\n",
            "18/18 [==============================] - 1s 55ms/step - loss: 117.9562 - mae: 117.9562 - val_loss: 645.4809 - val_mae: 645.4809\n",
            "Epoch 29/100\n",
            "18/18 [==============================] - ETA: 0s - loss: 117.1769 - mae: 117.1769INFO:tensorflow:Assets written to: model_experiments/model_4_conv1D/assets\n",
            "18/18 [==============================] - 1s 38ms/step - loss: 117.1769 - mae: 117.1769 - val_loss: 639.9748 - val_mae: 639.9748\n",
            "Epoch 30/100\n",
            "18/18 [==============================] - ETA: 0s - loss: 121.0468 - mae: 121.0468INFO:tensorflow:Assets written to: model_experiments/model_4_conv1D/assets\n",
            "18/18 [==============================] - 1s 39ms/step - loss: 121.0468 - mae: 121.0468 - val_loss: 630.7950 - val_mae: 630.7950\n",
            "Epoch 31/100\n",
            "18/18 [==============================] - 0s 5ms/step - loss: 114.9061 - mae: 114.9061 - val_loss: 652.6464 - val_mae: 652.6464\n",
            "Epoch 32/100\n",
            " 1/18 [>.............................] - ETA: 0s - loss: 113.9315 - mae: 113.9315INFO:tensorflow:Assets written to: model_experiments/model_4_conv1D/assets\n",
            "18/18 [==============================] - 1s 41ms/step - loss: 116.4313 - mae: 116.4313 - val_loss: 623.4981 - val_mae: 623.4981\n",
            "Epoch 33/100\n",
            "18/18 [==============================] - 0s 5ms/step - loss: 115.7972 - mae: 115.7972 - val_loss: 664.3210 - val_mae: 664.3210\n",
            "Epoch 34/100\n",
            "15/18 [========================>.....] - ETA: 0s - loss: 116.8853 - mae: 116.8853INFO:tensorflow:Assets written to: model_experiments/model_4_conv1D/assets\n",
            "18/18 [==============================] - 1s 40ms/step - loss: 117.2043 - mae: 117.2043 - val_loss: 613.7654 - val_mae: 613.7654\n",
            "Epoch 35/100\n",
            "18/18 [==============================] - 0s 5ms/step - loss: 113.4074 - mae: 113.4074 - val_loss: 619.6226 - val_mae: 619.6226\n",
            "Epoch 36/100\n",
            "17/18 [===========================>..] - ETA: 0s - loss: 116.7781 - mae: 116.7781INFO:tensorflow:Assets written to: model_experiments/model_4_conv1D/assets\n",
            "18/18 [==============================] - 1s 40ms/step - loss: 116.8330 - mae: 116.8330 - val_loss: 605.7615 - val_mae: 605.7615\n",
            "Epoch 37/100\n",
            "17/18 [===========================>..] - ETA: 0s - loss: 113.9759 - mae: 113.9759INFO:tensorflow:Assets written to: model_experiments/model_4_conv1D/assets\n",
            "18/18 [==============================] - 1s 40ms/step - loss: 114.7925 - mae: 114.7925 - val_loss: 603.6094 - val_mae: 603.6094\n",
            "Epoch 38/100\n",
            "18/18 [==============================] - ETA: 0s - loss: 113.0861 - mae: 113.0861INFO:tensorflow:Assets written to: model_experiments/model_4_conv1D/assets\n",
            "18/18 [==============================] - 1s 40ms/step - loss: 113.0861 - mae: 113.0861 - val_loss: 602.5891 - val_mae: 602.5891\n",
            "Epoch 39/100\n",
            "18/18 [==============================] - ETA: 0s - loss: 111.9831 - mae: 111.9831INFO:tensorflow:Assets written to: model_experiments/model_4_conv1D/assets\n",
            "18/18 [==============================] - 1s 39ms/step - loss: 111.9831 - mae: 111.9831 - val_loss: 602.2946 - val_mae: 602.2946\n",
            "Epoch 40/100\n",
            "17/18 [===========================>..] - ETA: 0s - loss: 111.6930 - mae: 111.6930INFO:tensorflow:Assets written to: model_experiments/model_4_conv1D/assets\n",
            "18/18 [==============================] - 1s 40ms/step - loss: 111.2691 - mae: 111.2691 - val_loss: 600.5515 - val_mae: 600.5515\n",
            "Epoch 41/100\n",
            "18/18 [==============================] - 0s 5ms/step - loss: 112.0726 - mae: 112.0726 - val_loss: 623.0616 - val_mae: 623.0616\n",
            "Epoch 42/100\n",
            "18/18 [==============================] - 0s 5ms/step - loss: 116.7095 - mae: 116.7095 - val_loss: 645.0154 - val_mae: 645.0154\n",
            "Epoch 43/100\n",
            "18/18 [==============================] - 0s 5ms/step - loss: 118.9676 - mae: 118.9676 - val_loss: 659.5668 - val_mae: 659.5668\n",
            "Epoch 44/100\n",
            "18/18 [==============================] - 0s 4ms/step - loss: 125.4497 - mae: 125.4497 - val_loss: 678.8228 - val_mae: 678.8228\n",
            "Epoch 45/100\n",
            "18/18 [==============================] - 0s 6ms/step - loss: 115.4361 - mae: 115.4361 - val_loss: 611.8370 - val_mae: 611.8370\n",
            "Epoch 46/100\n",
            "18/18 [==============================] - ETA: 0s - loss: 114.1717 - mae: 114.1717INFO:tensorflow:Assets written to: model_experiments/model_4_conv1D/assets\n",
            "18/18 [==============================] - 1s 53ms/step - loss: 114.1717 - mae: 114.1717 - val_loss: 589.6738 - val_mae: 589.6738\n",
            "Epoch 47/100\n",
            "18/18 [==============================] - 0s 6ms/step - loss: 113.7248 - mae: 113.7248 - val_loss: 720.2479 - val_mae: 720.2479\n",
            "Epoch 48/100\n",
            "18/18 [==============================] - 0s 5ms/step - loss: 112.0136 - mae: 112.0136 - val_loss: 597.4332 - val_mae: 597.4332\n",
            "Epoch 49/100\n",
            "18/18 [==============================] - 0s 6ms/step - loss: 110.5680 - mae: 110.5680 - val_loss: 665.2026 - val_mae: 665.2026\n",
            "Epoch 50/100\n",
            "18/18 [==============================] - 0s 6ms/step - loss: 119.7653 - mae: 119.7653 - val_loss: 635.1694 - val_mae: 635.1694\n",
            "Epoch 51/100\n",
            "18/18 [==============================] - ETA: 0s - loss: 110.7740 - mae: 110.7740INFO:tensorflow:Assets written to: model_experiments/model_4_conv1D/assets\n",
            "18/18 [==============================] - 1s 40ms/step - loss: 110.7740 - mae: 110.7740 - val_loss: 586.0245 - val_mae: 586.0245\n",
            "Epoch 52/100\n",
            "18/18 [==============================] - 0s 6ms/step - loss: 111.2179 - mae: 111.2179 - val_loss: 595.2482 - val_mae: 595.2482\n",
            "Epoch 53/100\n",
            "18/18 [==============================] - 0s 5ms/step - loss: 113.6466 - mae: 113.6466 - val_loss: 670.5779 - val_mae: 670.5779\n",
            "Epoch 54/100\n",
            "18/18 [==============================] - 0s 5ms/step - loss: 126.7883 - mae: 126.7883 - val_loss: 648.2971 - val_mae: 648.2971\n",
            "Epoch 55/100\n",
            "18/18 [==============================] - 0s 5ms/step - loss: 110.6969 - mae: 110.6969 - val_loss: 593.8555 - val_mae: 593.8555\n",
            "Epoch 56/100\n",
            "18/18 [==============================] - 0s 5ms/step - loss: 109.8592 - mae: 109.8592 - val_loss: 766.5005 - val_mae: 766.5005\n",
            "Epoch 57/100\n",
            "18/18 [==============================] - 0s 6ms/step - loss: 124.8183 - mae: 124.8183 - val_loss: 712.2673 - val_mae: 712.2673\n",
            "Epoch 58/100\n",
            "18/18 [==============================] - 0s 5ms/step - loss: 120.3515 - mae: 120.3515 - val_loss: 698.5151 - val_mae: 698.5151\n",
            "Epoch 59/100\n",
            "18/18 [==============================] - 0s 5ms/step - loss: 110.8185 - mae: 110.8185 - val_loss: 592.1151 - val_mae: 592.1151\n",
            "Epoch 60/100\n",
            "18/18 [==============================] - 0s 5ms/step - loss: 110.2038 - mae: 110.2038 - val_loss: 616.9358 - val_mae: 616.9358\n",
            "Epoch 61/100\n",
            "18/18 [==============================] - 0s 6ms/step - loss: 111.0310 - mae: 111.0310 - val_loss: 588.4845 - val_mae: 588.4845\n",
            "Epoch 62/100\n",
            "16/18 [=========================>....] - ETA: 0s - loss: 110.1920 - mae: 110.1920INFO:tensorflow:Assets written to: model_experiments/model_4_conv1D/assets\n",
            "18/18 [==============================] - 1s 39ms/step - loss: 108.1684 - mae: 108.1684 - val_loss: 577.6282 - val_mae: 577.6282\n",
            "Epoch 63/100\n",
            "18/18 [==============================] - 0s 5ms/step - loss: 108.7933 - mae: 108.7933 - val_loss: 610.1495 - val_mae: 610.1495\n",
            "Epoch 64/100\n",
            "18/18 [==============================] - 0s 5ms/step - loss: 110.4675 - mae: 110.4675 - val_loss: 652.9426 - val_mae: 652.9426\n",
            "Epoch 65/100\n",
            "18/18 [==============================] - 0s 6ms/step - loss: 110.7312 - mae: 110.7312 - val_loss: 583.0664 - val_mae: 583.0664\n",
            "Epoch 66/100\n",
            "18/18 [==============================] - 0s 5ms/step - loss: 108.3487 - mae: 108.3487 - val_loss: 587.8363 - val_mae: 587.8363\n",
            "Epoch 67/100\n",
            "18/18 [==============================] - 0s 5ms/step - loss: 108.0646 - mae: 108.0646 - val_loss: 648.5152 - val_mae: 648.5152\n",
            "Epoch 68/100\n",
            "18/18 [==============================] - 0s 5ms/step - loss: 113.6957 - mae: 113.6957 - val_loss: 675.1598 - val_mae: 675.1598\n",
            "Epoch 69/100\n",
            "18/18 [==============================] - 0s 5ms/step - loss: 124.3081 - mae: 124.3081 - val_loss: 632.9847 - val_mae: 632.9847\n",
            "Epoch 70/100\n",
            "18/18 [==============================] - 0s 5ms/step - loss: 124.3231 - mae: 124.3231 - val_loss: 588.5080 - val_mae: 588.5080\n",
            "Epoch 71/100\n",
            "18/18 [==============================] - 0s 4ms/step - loss: 111.2923 - mae: 111.2923 - val_loss: 618.2578 - val_mae: 618.2578\n",
            "Epoch 72/100\n",
            "18/18 [==============================] - 0s 6ms/step - loss: 110.1688 - mae: 110.1688 - val_loss: 581.8315 - val_mae: 581.8315\n",
            "Epoch 73/100\n",
            "18/18 [==============================] - 0s 5ms/step - loss: 108.6783 - mae: 108.6783 - val_loss: 582.9407 - val_mae: 582.9407\n",
            "Epoch 74/100\n",
            "18/18 [==============================] - 0s 5ms/step - loss: 108.4709 - mae: 108.4709 - val_loss: 578.2972 - val_mae: 578.2972\n",
            "Epoch 75/100\n",
            "18/18 [==============================] - 0s 6ms/step - loss: 110.1821 - mae: 110.1821 - val_loss: 663.3141 - val_mae: 663.3141\n",
            "Epoch 76/100\n",
            "18/18 [==============================] - 0s 6ms/step - loss: 112.4488 - mae: 112.4488 - val_loss: 582.5887 - val_mae: 582.5887\n",
            "Epoch 77/100\n",
            "18/18 [==============================] - 0s 5ms/step - loss: 110.0107 - mae: 110.0107 - val_loss: 579.8846 - val_mae: 579.8846\n",
            "Epoch 78/100\n",
            "18/18 [==============================] - 0s 5ms/step - loss: 107.3413 - mae: 107.3413 - val_loss: 582.0063 - val_mae: 582.0063\n",
            "Epoch 79/100\n",
            "18/18 [==============================] - 0s 5ms/step - loss: 109.0300 - mae: 109.0300 - val_loss: 591.4009 - val_mae: 591.4009\n",
            "Epoch 80/100\n",
            "18/18 [==============================] - 0s 5ms/step - loss: 106.9309 - mae: 106.9309 - val_loss: 585.3928 - val_mae: 585.3928\n",
            "Epoch 81/100\n",
            "18/18 [==============================] - ETA: 0s - loss: 106.6292 - mae: 106.6292INFO:tensorflow:Assets written to: model_experiments/model_4_conv1D/assets\n",
            "18/18 [==============================] - 1s 40ms/step - loss: 106.6292 - mae: 106.6292 - val_loss: 575.4402 - val_mae: 575.4402\n",
            "Epoch 82/100\n",
            "17/18 [===========================>..] - ETA: 0s - loss: 113.1787 - mae: 113.1787INFO:tensorflow:Assets written to: model_experiments/model_4_conv1D/assets\n",
            "18/18 [==============================] - 1s 39ms/step - loss: 114.2934 - mae: 114.2934 - val_loss: 571.6199 - val_mae: 571.6199\n",
            "Epoch 83/100\n",
            "18/18 [==============================] - 0s 6ms/step - loss: 111.1759 - mae: 111.1759 - val_loss: 666.0593 - val_mae: 666.0593\n",
            "Epoch 84/100\n",
            "18/18 [==============================] - 0s 5ms/step - loss: 112.2543 - mae: 112.2543 - val_loss: 580.0316 - val_mae: 580.0316\n",
            "Epoch 85/100\n",
            "18/18 [==============================] - 0s 5ms/step - loss: 107.7741 - mae: 107.7741 - val_loss: 599.6220 - val_mae: 599.6220\n",
            "Epoch 86/100\n",
            "18/18 [==============================] - 0s 6ms/step - loss: 108.7533 - mae: 108.7533 - val_loss: 599.0878 - val_mae: 599.0878\n",
            "Epoch 87/100\n",
            "18/18 [==============================] - 0s 5ms/step - loss: 106.9682 - mae: 106.9682 - val_loss: 596.5339 - val_mae: 596.5339\n",
            "Epoch 88/100\n",
            "18/18 [==============================] - 0s 5ms/step - loss: 107.9607 - mae: 107.9607 - val_loss: 598.1052 - val_mae: 598.1052\n",
            "Epoch 89/100\n",
            "18/18 [==============================] - ETA: 0s - loss: 107.3045 - mae: 107.3045INFO:tensorflow:Assets written to: model_experiments/model_4_conv1D/assets\n",
            "18/18 [==============================] - 1s 41ms/step - loss: 107.3045 - mae: 107.3045 - val_loss: 570.8284 - val_mae: 570.8284\n",
            "Epoch 90/100\n",
            "18/18 [==============================] - 0s 5ms/step - loss: 108.0094 - mae: 108.0094 - val_loss: 642.3936 - val_mae: 642.3936\n",
            "Epoch 91/100\n",
            "18/18 [==============================] - 0s 5ms/step - loss: 113.7574 - mae: 113.7574 - val_loss: 625.3718 - val_mae: 625.3718\n",
            "Epoch 92/100\n",
            "18/18 [==============================] - 0s 5ms/step - loss: 108.0016 - mae: 108.0016 - val_loss: 627.3057 - val_mae: 627.3057\n",
            "Epoch 93/100\n",
            "18/18 [==============================] - 0s 6ms/step - loss: 118.0999 - mae: 118.0999 - val_loss: 637.1278 - val_mae: 637.1278\n",
            "Epoch 94/100\n",
            "18/18 [==============================] - 0s 5ms/step - loss: 111.3195 - mae: 111.3195 - val_loss: 579.6982 - val_mae: 579.6982\n",
            "Epoch 95/100\n",
            "18/18 [==============================] - 0s 6ms/step - loss: 106.8561 - mae: 106.8561 - val_loss: 572.8484 - val_mae: 572.8484\n",
            "Epoch 96/100\n",
            "18/18 [==============================] - 0s 5ms/step - loss: 115.0598 - mae: 115.0598 - val_loss: 602.3212 - val_mae: 602.3212\n",
            "Epoch 97/100\n",
            "18/18 [==============================] - 0s 5ms/step - loss: 109.4901 - mae: 109.4901 - val_loss: 616.3587 - val_mae: 616.3587\n",
            "Epoch 98/100\n",
            "18/18 [==============================] - 0s 6ms/step - loss: 111.2816 - mae: 111.2816 - val_loss: 586.7988 - val_mae: 586.7988\n",
            "Epoch 99/100\n",
            "18/18 [==============================] - 0s 5ms/step - loss: 111.2904 - mae: 111.2904 - val_loss: 581.4894 - val_mae: 581.4894\n",
            "Epoch 100/100\n",
            "18/18 [==============================] - 0s 6ms/step - loss: 107.0190 - mae: 107.0190 - val_loss: 610.1541 - val_mae: 610.1541\n"
          ]
        },
        {
          "output_type": "execute_result",
          "data": {
            "text/plain": [
              "<keras.callbacks.History at 0x7fd3541bc690>"
            ]
          },
          "metadata": {},
          "execution_count": 57
        }
      ]
    },
    {
      "cell_type": "code",
      "source": [
        "model_4.summary()"
      ],
      "metadata": {
        "colab": {
          "base_uri": "https://localhost:8080/"
        },
        "id": "g1ASXKMR1TkP",
        "outputId": "903d2247-96c9-443c-e37c-bd897fc45c95"
      },
      "execution_count": 58,
      "outputs": [
        {
          "output_type": "stream",
          "name": "stdout",
          "text": [
            "Model: \"model_4_conv1D\"\n",
            "_________________________________________________________________\n",
            " Layer (type)                Output Shape              Param #   \n",
            "=================================================================\n",
            " lambda (Lambda)             (None, 1, 7)              0         \n",
            "                                                                 \n",
            " conv1d (Conv1D)             (None, 1, 128)            4608      \n",
            "                                                                 \n",
            " dense_6 (Dense)             (None, 1, 1)              129       \n",
            "                                                                 \n",
            "=================================================================\n",
            "Total params: 4,737\n",
            "Trainable params: 4,737\n",
            "Non-trainable params: 0\n",
            "_________________________________________________________________\n"
          ]
        }
      ]
    },
    {
      "cell_type": "code",
      "source": [
        "# Load in best performing Conv1D model and evaluate it on the test data\n",
        "model_4 = tf.keras.models.load_model(\"model_experiments/model_4_conv1D\")\n",
        "model_4.evaluate(test_windows, test_labels)"
      ],
      "metadata": {
        "colab": {
          "base_uri": "https://localhost:8080/"
        },
        "id": "eUNmEf6f1VVy",
        "outputId": "5fb2fa2f-781c-4b6d-df32-e0d56d1495a9"
      },
      "execution_count": 59,
      "outputs": [
        {
          "output_type": "stream",
          "name": "stdout",
          "text": [
            "18/18 [==============================] - 0s 10ms/step - loss: 570.8284 - mae: 570.8284\n"
          ]
        },
        {
          "output_type": "execute_result",
          "data": {
            "text/plain": [
              "[570.8284301757812, 570.8284301757812]"
            ]
          },
          "metadata": {},
          "execution_count": 59
        }
      ]
    },
    {
      "cell_type": "code",
      "source": [
        "# Make predictions\n",
        "model_4_preds = make_preds(model_4, test_windows)\n",
        "model_4_preds[:10]"
      ],
      "metadata": {
        "colab": {
          "base_uri": "https://localhost:8080/"
        },
        "id": "eQL_6xUd1Zhq",
        "outputId": "8b23c816-4e80-43df-be46-2b36e4d57502"
      },
      "execution_count": 60,
      "outputs": [
        {
          "output_type": "execute_result",
          "data": {
            "text/plain": [
              "<tf.Tensor: shape=(10,), dtype=float32, numpy=\n",
              "array([8851.465, 8754.47 , 8983.927, 8759.671, 8703.627, 8708.294,\n",
              "       8661.668, 8494.839, 8435.317, 8492.115], dtype=float32)>"
            ]
          },
          "metadata": {},
          "execution_count": 60
        }
      ]
    },
    {
      "cell_type": "code",
      "source": [
        "# Evaluate predictions\n",
        "model_4_results = evaluate_preds(y_true=tf.squeeze(test_labels),\n",
        "                                 y_pred=model_4_preds)\n",
        "model_4_results"
      ],
      "metadata": {
        "colab": {
          "base_uri": "https://localhost:8080/"
        },
        "id": "Il0z9Ztb1b9x",
        "outputId": "84cd8c8e-86f6-4699-8674-5aad44563423"
      },
      "execution_count": 61,
      "outputs": [
        {
          "output_type": "execute_result",
          "data": {
            "text/plain": [
              "{'mae': 570.8284,\n",
              " 'mape': 2.5593352,\n",
              " 'mase': 1.0027875,\n",
              " 'mse': 1176671.6,\n",
              " 'rmse': 1084.745}"
            ]
          },
          "metadata": {},
          "execution_count": 61
        }
      ]
    },
    {
      "cell_type": "markdown",
      "source": [
        "## Model 5: RNN (LSTM)"
      ],
      "metadata": {
        "id": "0v7b5GlBEyiY"
      }
    },
    {
      "cell_type": "code",
      "source": [
        "tf.random.set_seed(42)\n",
        "\n",
        "# build an LSTM model\n",
        "inputs = layers.Input(shape=(WINDOW_SIZE))\n",
        "x = layers.Lambda(lambda x: tf.expand_dims(x, axis=1))(inputs)\n",
        "x = layers.LSTM(128, activation=\"relu\")(x)\n",
        "output = layers.Dense(HORIZON)(x)\n",
        "model_5 = tf.keras.Model(inputs=inputs, outputs=output, name=\"model_5_lstm\")\n",
        "\n",
        "# compile model\n",
        "model_5.compile(loss=\"mae\",\n",
        "                optimizer=tf.keras.optimizers.Adam())\n",
        "\n",
        "# fit the model\n",
        "model_5.fit(train_windows,\n",
        "            train_labels,\n",
        "            epochs=100,\n",
        "            verbose=1,\n",
        "            batch_size=128,\n",
        "            validation_data=(test_windows, test_labels),\n",
        "            callbacks=[create_model_checkpoint(model_name=model_5.name)])"
      ],
      "metadata": {
        "colab": {
          "base_uri": "https://localhost:8080/"
        },
        "id": "kyo4oFhc1lg5",
        "outputId": "2971f2ca-67b7-414f-e2bc-68bc5e5b7230"
      },
      "execution_count": 62,
      "outputs": [
        {
          "output_type": "stream",
          "name": "stdout",
          "text": [
            "WARNING:tensorflow:Layer lstm will not use cuDNN kernels since it doesn't meet the criteria. It will use a generic GPU kernel as fallback when running on GPU.\n",
            "Epoch 1/100\n",
            "12/18 [===================>..........] - ETA: 0s - loss: 2534.5144 INFO:tensorflow:Assets written to: model_experiments/model_5_lstm/assets\n"
          ]
        },
        {
          "output_type": "stream",
          "name": "stderr",
          "text": [
            "WARNING:absl:<keras.layers.recurrent.LSTMCell object at 0x7fd33cfb4f10> has the same name 'LSTMCell' as a built-in Keras object. Consider renaming <class 'keras.layers.recurrent.LSTMCell'> to avoid naming conflicts when loading with `tf.keras.models.load_model`. If renaming is not possible, pass the object in the `custom_objects` parameter of the load function.\n"
          ]
        },
        {
          "output_type": "stream",
          "name": "stdout",
          "text": [
            "18/18 [==============================] - 3s 125ms/step - loss: 2323.6077 - val_loss: 9222.6221\n",
            "Epoch 2/100\n",
            "13/18 [====================>.........] - ETA: 0s - loss: 859.7301 INFO:tensorflow:Assets written to: model_experiments/model_5_lstm/assets\n"
          ]
        },
        {
          "output_type": "stream",
          "name": "stderr",
          "text": [
            "INFO:tensorflow:Assets written to: model_experiments/model_5_lstm/assets\n",
            "WARNING:absl:<keras.layers.recurrent.LSTMCell object at 0x7fd33cfb4f10> has the same name 'LSTMCell' as a built-in Keras object. Consider renaming <class 'keras.layers.recurrent.LSTMCell'> to avoid naming conflicts when loading with `tf.keras.models.load_model`. If renaming is not possible, pass the object in the `custom_objects` parameter of the load function.\n"
          ]
        },
        {
          "output_type": "stream",
          "name": "stdout",
          "text": [
            "18/18 [==============================] - 2s 100ms/step - loss: 695.4739 - val_loss: 1486.0378\n",
            "Epoch 3/100\n",
            "12/18 [===================>..........] - ETA: 0s - loss: 266.4731INFO:tensorflow:Assets written to: model_experiments/model_5_lstm/assets\n"
          ]
        },
        {
          "output_type": "stream",
          "name": "stderr",
          "text": [
            "INFO:tensorflow:Assets written to: model_experiments/model_5_lstm/assets\n",
            "WARNING:absl:<keras.layers.recurrent.LSTMCell object at 0x7fd33cfb4f10> has the same name 'LSTMCell' as a built-in Keras object. Consider renaming <class 'keras.layers.recurrent.LSTMCell'> to avoid naming conflicts when loading with `tf.keras.models.load_model`. If renaming is not possible, pass the object in the `custom_objects` parameter of the load function.\n"
          ]
        },
        {
          "output_type": "stream",
          "name": "stdout",
          "text": [
            "18/18 [==============================] - 2s 98ms/step - loss: 237.3842 - val_loss: 1298.9087\n",
            "Epoch 4/100\n",
            "13/18 [====================>.........] - ETA: 0s - loss: 189.4989INFO:tensorflow:Assets written to: model_experiments/model_5_lstm/assets\n"
          ]
        },
        {
          "output_type": "stream",
          "name": "stderr",
          "text": [
            "INFO:tensorflow:Assets written to: model_experiments/model_5_lstm/assets\n",
            "WARNING:absl:<keras.layers.recurrent.LSTMCell object at 0x7fd33cfb4f10> has the same name 'LSTMCell' as a built-in Keras object. Consider renaming <class 'keras.layers.recurrent.LSTMCell'> to avoid naming conflicts when loading with `tf.keras.models.load_model`. If renaming is not possible, pass the object in the `custom_objects` parameter of the load function.\n"
          ]
        },
        {
          "output_type": "stream",
          "name": "stdout",
          "text": [
            "18/18 [==============================] - 2s 113ms/step - loss: 181.9185 - val_loss: 966.6432\n",
            "Epoch 5/100\n",
            "18/18 [==============================] - 0s 6ms/step - loss: 173.4023 - val_loss: 970.9296\n",
            "Epoch 6/100\n",
            "18/18 [==============================] - 0s 7ms/step - loss: 173.3822 - val_loss: 981.0975\n",
            "Epoch 7/100\n",
            "13/18 [====================>.........] - ETA: 0s - loss: 182.3532INFO:tensorflow:Assets written to: model_experiments/model_5_lstm/assets\n"
          ]
        },
        {
          "output_type": "stream",
          "name": "stderr",
          "text": [
            "INFO:tensorflow:Assets written to: model_experiments/model_5_lstm/assets\n",
            "WARNING:absl:<keras.layers.recurrent.LSTMCell object at 0x7fd33cfb4f10> has the same name 'LSTMCell' as a built-in Keras object. Consider renaming <class 'keras.layers.recurrent.LSTMCell'> to avoid naming conflicts when loading with `tf.keras.models.load_model`. If renaming is not possible, pass the object in the `custom_objects` parameter of the load function.\n"
          ]
        },
        {
          "output_type": "stream",
          "name": "stdout",
          "text": [
            "18/18 [==============================] - 2s 98ms/step - loss: 171.9762 - val_loss: 921.8434\n",
            "Epoch 8/100\n",
            "13/18 [====================>.........] - ETA: 0s - loss: 166.3044INFO:tensorflow:Assets written to: model_experiments/model_5_lstm/assets\n"
          ]
        },
        {
          "output_type": "stream",
          "name": "stderr",
          "text": [
            "INFO:tensorflow:Assets written to: model_experiments/model_5_lstm/assets\n",
            "WARNING:absl:<keras.layers.recurrent.LSTMCell object at 0x7fd33cfb4f10> has the same name 'LSTMCell' as a built-in Keras object. Consider renaming <class 'keras.layers.recurrent.LSTMCell'> to avoid naming conflicts when loading with `tf.keras.models.load_model`. If renaming is not possible, pass the object in the `custom_objects` parameter of the load function.\n"
          ]
        },
        {
          "output_type": "stream",
          "name": "stdout",
          "text": [
            "18/18 [==============================] - 2s 100ms/step - loss: 165.5515 - val_loss: 900.0497\n",
            "Epoch 9/100\n",
            "12/18 [===================>..........] - ETA: 0s - loss: 161.7419INFO:tensorflow:Assets written to: model_experiments/model_5_lstm/assets\n"
          ]
        },
        {
          "output_type": "stream",
          "name": "stderr",
          "text": [
            "INFO:tensorflow:Assets written to: model_experiments/model_5_lstm/assets\n",
            "WARNING:absl:<keras.layers.recurrent.LSTMCell object at 0x7fd33cfb4f10> has the same name 'LSTMCell' as a built-in Keras object. Consider renaming <class 'keras.layers.recurrent.LSTMCell'> to avoid naming conflicts when loading with `tf.keras.models.load_model`. If renaming is not possible, pass the object in the `custom_objects` parameter of the load function.\n"
          ]
        },
        {
          "output_type": "stream",
          "name": "stdout",
          "text": [
            "18/18 [==============================] - 2s 101ms/step - loss: 160.4305 - val_loss: 853.6299\n",
            "Epoch 10/100\n",
            "18/18 [==============================] - 0s 7ms/step - loss: 168.6475 - val_loss: 931.5431\n",
            "Epoch 11/100\n",
            "18/18 [==============================] - 0s 6ms/step - loss: 169.2183 - val_loss: 926.0713\n",
            "Epoch 12/100\n",
            "18/18 [==============================] - 0s 6ms/step - loss: 166.3748 - val_loss: 916.8346\n",
            "Epoch 13/100\n",
            "18/18 [==============================] - 0s 6ms/step - loss: 166.8522 - val_loss: 909.6310\n",
            "Epoch 14/100\n",
            "18/18 [==============================] - 0s 6ms/step - loss: 161.6482 - val_loss: 866.7496\n",
            "Epoch 15/100\n",
            "18/18 [==============================] - 0s 7ms/step - loss: 155.9960 - val_loss: 896.1780\n",
            "Epoch 16/100\n",
            "18/18 [==============================] - 0s 6ms/step - loss: 159.4309 - val_loss: 882.4391\n",
            "Epoch 17/100\n",
            "18/18 [==============================] - 0s 8ms/step - loss: 157.7812 - val_loss: 956.9371\n",
            "Epoch 18/100\n",
            "18/18 [==============================] - 0s 7ms/step - loss: 157.7068 - val_loss: 940.6453\n",
            "Epoch 19/100\n",
            "18/18 [==============================] - 0s 6ms/step - loss: 155.3832 - val_loss: 941.6826\n",
            "Epoch 20/100\n",
            "18/18 [==============================] - 0s 6ms/step - loss: 154.8648 - val_loss: 863.4883\n",
            "Epoch 21/100\n",
            "18/18 [==============================] - 0s 6ms/step - loss: 151.6370 - val_loss: 855.1499\n",
            "Epoch 22/100\n",
            "13/18 [====================>.........] - ETA: 0s - loss: 157.8760INFO:tensorflow:Assets written to: model_experiments/model_5_lstm/assets\n"
          ]
        },
        {
          "output_type": "stream",
          "name": "stderr",
          "text": [
            "INFO:tensorflow:Assets written to: model_experiments/model_5_lstm/assets\n",
            "WARNING:absl:<keras.layers.recurrent.LSTMCell object at 0x7fd33cfb4f10> has the same name 'LSTMCell' as a built-in Keras object. Consider renaming <class 'keras.layers.recurrent.LSTMCell'> to avoid naming conflicts when loading with `tf.keras.models.load_model`. If renaming is not possible, pass the object in the `custom_objects` parameter of the load function.\n"
          ]
        },
        {
          "output_type": "stream",
          "name": "stdout",
          "text": [
            "18/18 [==============================] - 2s 116ms/step - loss: 150.1062 - val_loss: 844.7767\n",
            "Epoch 23/100\n",
            "18/18 [==============================] - 0s 7ms/step - loss: 149.1968 - val_loss: 861.0685\n",
            "Epoch 24/100\n",
            "18/18 [==============================] - 0s 7ms/step - loss: 147.1761 - val_loss: 848.1241\n",
            "Epoch 25/100\n",
            "11/18 [=================>............] - ETA: 0s - loss: 152.1306INFO:tensorflow:Assets written to: model_experiments/model_5_lstm/assets\n"
          ]
        },
        {
          "output_type": "stream",
          "name": "stderr",
          "text": [
            "INFO:tensorflow:Assets written to: model_experiments/model_5_lstm/assets\n",
            "WARNING:absl:<keras.layers.recurrent.LSTMCell object at 0x7fd33cfb4f10> has the same name 'LSTMCell' as a built-in Keras object. Consider renaming <class 'keras.layers.recurrent.LSTMCell'> to avoid naming conflicts when loading with `tf.keras.models.load_model`. If renaming is not possible, pass the object in the `custom_objects` parameter of the load function.\n"
          ]
        },
        {
          "output_type": "stream",
          "name": "stdout",
          "text": [
            "18/18 [==============================] - 2s 100ms/step - loss: 145.5848 - val_loss: 840.6231\n",
            "Epoch 26/100\n",
            "13/18 [====================>.........] - ETA: 0s - loss: 142.8045INFO:tensorflow:Assets written to: model_experiments/model_5_lstm/assets\n"
          ]
        },
        {
          "output_type": "stream",
          "name": "stderr",
          "text": [
            "INFO:tensorflow:Assets written to: model_experiments/model_5_lstm/assets\n",
            "WARNING:absl:<keras.layers.recurrent.LSTMCell object at 0x7fd33cfb4f10> has the same name 'LSTMCell' as a built-in Keras object. Consider renaming <class 'keras.layers.recurrent.LSTMCell'> to avoid naming conflicts when loading with `tf.keras.models.load_model`. If renaming is not possible, pass the object in the `custom_objects` parameter of the load function.\n"
          ]
        },
        {
          "output_type": "stream",
          "name": "stdout",
          "text": [
            "18/18 [==============================] - 2s 96ms/step - loss: 145.0945 - val_loss: 813.1295\n",
            "Epoch 27/100\n",
            "11/18 [=================>............] - ETA: 0s - loss: 151.9896INFO:tensorflow:Assets written to: model_experiments/model_5_lstm/assets\n"
          ]
        },
        {
          "output_type": "stream",
          "name": "stderr",
          "text": [
            "INFO:tensorflow:Assets written to: model_experiments/model_5_lstm/assets\n",
            "WARNING:absl:<keras.layers.recurrent.LSTMCell object at 0x7fd33cfb4f10> has the same name 'LSTMCell' as a built-in Keras object. Consider renaming <class 'keras.layers.recurrent.LSTMCell'> to avoid naming conflicts when loading with `tf.keras.models.load_model`. If renaming is not possible, pass the object in the `custom_objects` parameter of the load function.\n"
          ]
        },
        {
          "output_type": "stream",
          "name": "stdout",
          "text": [
            "18/18 [==============================] - 2s 117ms/step - loss: 143.2227 - val_loss: 805.5842\n",
            "Epoch 28/100\n",
            "12/18 [===================>..........] - ETA: 0s - loss: 141.3780INFO:tensorflow:Assets written to: model_experiments/model_5_lstm/assets\n"
          ]
        },
        {
          "output_type": "stream",
          "name": "stderr",
          "text": [
            "INFO:tensorflow:Assets written to: model_experiments/model_5_lstm/assets\n",
            "WARNING:absl:<keras.layers.recurrent.LSTMCell object at 0x7fd33cfb4f10> has the same name 'LSTMCell' as a built-in Keras object. Consider renaming <class 'keras.layers.recurrent.LSTMCell'> to avoid naming conflicts when loading with `tf.keras.models.load_model`. If renaming is not possible, pass the object in the `custom_objects` parameter of the load function.\n"
          ]
        },
        {
          "output_type": "stream",
          "name": "stdout",
          "text": [
            "18/18 [==============================] - 2s 99ms/step - loss: 141.6531 - val_loss: 785.5984\n",
            "Epoch 29/100\n",
            "18/18 [==============================] - 0s 6ms/step - loss: 140.8680 - val_loss: 801.3979\n",
            "Epoch 30/100\n",
            "18/18 [==============================] - 0s 7ms/step - loss: 141.3804 - val_loss: 791.8160\n",
            "Epoch 31/100\n",
            "12/18 [===================>..........] - ETA: 0s - loss: 139.9352INFO:tensorflow:Assets written to: model_experiments/model_5_lstm/assets\n"
          ]
        },
        {
          "output_type": "stream",
          "name": "stderr",
          "text": [
            "INFO:tensorflow:Assets written to: model_experiments/model_5_lstm/assets\n",
            "WARNING:absl:<keras.layers.recurrent.LSTMCell object at 0x7fd33cfb4f10> has the same name 'LSTMCell' as a built-in Keras object. Consider renaming <class 'keras.layers.recurrent.LSTMCell'> to avoid naming conflicts when loading with `tf.keras.models.load_model`. If renaming is not possible, pass the object in the `custom_objects` parameter of the load function.\n"
          ]
        },
        {
          "output_type": "stream",
          "name": "stdout",
          "text": [
            "18/18 [==============================] - 2s 98ms/step - loss: 138.0144 - val_loss: 768.1625\n",
            "Epoch 32/100\n",
            "12/18 [===================>..........] - ETA: 0s - loss: 138.1926INFO:tensorflow:Assets written to: model_experiments/model_5_lstm/assets\n"
          ]
        },
        {
          "output_type": "stream",
          "name": "stderr",
          "text": [
            "INFO:tensorflow:Assets written to: model_experiments/model_5_lstm/assets\n",
            "WARNING:absl:<keras.layers.recurrent.LSTMCell object at 0x7fd33cfb4f10> has the same name 'LSTMCell' as a built-in Keras object. Consider renaming <class 'keras.layers.recurrent.LSTMCell'> to avoid naming conflicts when loading with `tf.keras.models.load_model`. If renaming is not possible, pass the object in the `custom_objects` parameter of the load function.\n"
          ]
        },
        {
          "output_type": "stream",
          "name": "stdout",
          "text": [
            "18/18 [==============================] - 2s 98ms/step - loss: 135.9883 - val_loss: 764.0204\n",
            "Epoch 33/100\n",
            "18/18 [==============================] - 0s 7ms/step - loss: 136.6867 - val_loss: 791.4828\n",
            "Epoch 34/100\n",
            "12/18 [===================>..........] - ETA: 0s - loss: 142.0320INFO:tensorflow:Assets written to: model_experiments/model_5_lstm/assets\n"
          ]
        },
        {
          "output_type": "stream",
          "name": "stderr",
          "text": [
            "INFO:tensorflow:Assets written to: model_experiments/model_5_lstm/assets\n",
            "WARNING:absl:<keras.layers.recurrent.LSTMCell object at 0x7fd33cfb4f10> has the same name 'LSTMCell' as a built-in Keras object. Consider renaming <class 'keras.layers.recurrent.LSTMCell'> to avoid naming conflicts when loading with `tf.keras.models.load_model`. If renaming is not possible, pass the object in the `custom_objects` parameter of the load function.\n"
          ]
        },
        {
          "output_type": "stream",
          "name": "stdout",
          "text": [
            "18/18 [==============================] - 2s 119ms/step - loss: 136.4118 - val_loss: 750.6531\n",
            "Epoch 35/100\n",
            "18/18 [==============================] - 0s 6ms/step - loss: 133.7257 - val_loss: 754.5988\n",
            "Epoch 36/100\n",
            "13/18 [====================>.........] - ETA: 0s - loss: 134.6520INFO:tensorflow:Assets written to: model_experiments/model_5_lstm/assets\n"
          ]
        },
        {
          "output_type": "stream",
          "name": "stderr",
          "text": [
            "INFO:tensorflow:Assets written to: model_experiments/model_5_lstm/assets\n",
            "WARNING:absl:<keras.layers.recurrent.LSTMCell object at 0x7fd33cfb4f10> has the same name 'LSTMCell' as a built-in Keras object. Consider renaming <class 'keras.layers.recurrent.LSTMCell'> to avoid naming conflicts when loading with `tf.keras.models.load_model`. If renaming is not possible, pass the object in the `custom_objects` parameter of the load function.\n"
          ]
        },
        {
          "output_type": "stream",
          "name": "stdout",
          "text": [
            "18/18 [==============================] - 2s 100ms/step - loss: 133.4312 - val_loss: 734.5640\n",
            "Epoch 37/100\n",
            "18/18 [==============================] - 0s 7ms/step - loss: 131.2189 - val_loss: 747.5995\n",
            "Epoch 38/100\n",
            "11/18 [=================>............] - ETA: 0s - loss: 138.4018INFO:tensorflow:Assets written to: model_experiments/model_5_lstm/assets\n"
          ]
        },
        {
          "output_type": "stream",
          "name": "stderr",
          "text": [
            "INFO:tensorflow:Assets written to: model_experiments/model_5_lstm/assets\n",
            "WARNING:absl:<keras.layers.recurrent.LSTMCell object at 0x7fd33cfb4f10> has the same name 'LSTMCell' as a built-in Keras object. Consider renaming <class 'keras.layers.recurrent.LSTMCell'> to avoid naming conflicts when loading with `tf.keras.models.load_model`. If renaming is not possible, pass the object in the `custom_objects` parameter of the load function.\n"
          ]
        },
        {
          "output_type": "stream",
          "name": "stdout",
          "text": [
            "18/18 [==============================] - 2s 97ms/step - loss: 129.7771 - val_loss: 718.2686\n",
            "Epoch 39/100\n",
            "12/18 [===================>..........] - ETA: 0s - loss: 131.0688INFO:tensorflow:Assets written to: model_experiments/model_5_lstm/assets\n"
          ]
        },
        {
          "output_type": "stream",
          "name": "stderr",
          "text": [
            "INFO:tensorflow:Assets written to: model_experiments/model_5_lstm/assets\n",
            "WARNING:absl:<keras.layers.recurrent.LSTMCell object at 0x7fd33cfb4f10> has the same name 'LSTMCell' as a built-in Keras object. Consider renaming <class 'keras.layers.recurrent.LSTMCell'> to avoid naming conflicts when loading with `tf.keras.models.load_model`. If renaming is not possible, pass the object in the `custom_objects` parameter of the load function.\n"
          ]
        },
        {
          "output_type": "stream",
          "name": "stdout",
          "text": [
            "18/18 [==============================] - 2s 117ms/step - loss: 129.4270 - val_loss: 716.9465\n",
            "Epoch 40/100\n",
            "18/18 [==============================] - 0s 6ms/step - loss: 130.6303 - val_loss: 728.0188\n",
            "Epoch 41/100\n",
            "12/18 [===================>..........] - ETA: 0s - loss: 130.7772INFO:tensorflow:Assets written to: model_experiments/model_5_lstm/assets\n"
          ]
        },
        {
          "output_type": "stream",
          "name": "stderr",
          "text": [
            "INFO:tensorflow:Assets written to: model_experiments/model_5_lstm/assets\n",
            "WARNING:absl:<keras.layers.recurrent.LSTMCell object at 0x7fd33cfb4f10> has the same name 'LSTMCell' as a built-in Keras object. Consider renaming <class 'keras.layers.recurrent.LSTMCell'> to avoid naming conflicts when loading with `tf.keras.models.load_model`. If renaming is not possible, pass the object in the `custom_objects` parameter of the load function.\n"
          ]
        },
        {
          "output_type": "stream",
          "name": "stdout",
          "text": [
            "18/18 [==============================] - 2s 100ms/step - loss: 127.6953 - val_loss: 701.7618\n",
            "Epoch 42/100\n",
            "18/18 [==============================] - 0s 7ms/step - loss: 126.2242 - val_loss: 706.0325\n",
            "Epoch 43/100\n",
            "13/18 [====================>.........] - ETA: 0s - loss: 121.9465INFO:tensorflow:Assets written to: model_experiments/model_5_lstm/assets\n"
          ]
        },
        {
          "output_type": "stream",
          "name": "stderr",
          "text": [
            "INFO:tensorflow:Assets written to: model_experiments/model_5_lstm/assets\n",
            "WARNING:absl:<keras.layers.recurrent.LSTMCell object at 0x7fd33cfb4f10> has the same name 'LSTMCell' as a built-in Keras object. Consider renaming <class 'keras.layers.recurrent.LSTMCell'> to avoid naming conflicts when loading with `tf.keras.models.load_model`. If renaming is not possible, pass the object in the `custom_objects` parameter of the load function.\n"
          ]
        },
        {
          "output_type": "stream",
          "name": "stdout",
          "text": [
            "18/18 [==============================] - 2s 99ms/step - loss: 125.7488 - val_loss: 693.8345\n",
            "Epoch 44/100\n",
            "13/18 [====================>.........] - ETA: 0s - loss: 122.2618INFO:tensorflow:Assets written to: model_experiments/model_5_lstm/assets\n"
          ]
        },
        {
          "output_type": "stream",
          "name": "stderr",
          "text": [
            "INFO:tensorflow:Assets written to: model_experiments/model_5_lstm/assets\n",
            "WARNING:absl:<keras.layers.recurrent.LSTMCell object at 0x7fd33cfb4f10> has the same name 'LSTMCell' as a built-in Keras object. Consider renaming <class 'keras.layers.recurrent.LSTMCell'> to avoid naming conflicts when loading with `tf.keras.models.load_model`. If renaming is not possible, pass the object in the `custom_objects` parameter of the load function.\n"
          ]
        },
        {
          "output_type": "stream",
          "name": "stdout",
          "text": [
            "18/18 [==============================] - 2s 115ms/step - loss: 125.5652 - val_loss: 689.3698\n",
            "Epoch 45/100\n",
            "13/18 [====================>.........] - ETA: 0s - loss: 120.8933INFO:tensorflow:Assets written to: model_experiments/model_5_lstm/assets\n"
          ]
        },
        {
          "output_type": "stream",
          "name": "stderr",
          "text": [
            "INFO:tensorflow:Assets written to: model_experiments/model_5_lstm/assets\n",
            "WARNING:absl:<keras.layers.recurrent.LSTMCell object at 0x7fd33cfb4f10> has the same name 'LSTMCell' as a built-in Keras object. Consider renaming <class 'keras.layers.recurrent.LSTMCell'> to avoid naming conflicts when loading with `tf.keras.models.load_model`. If renaming is not possible, pass the object in the `custom_objects` parameter of the load function.\n"
          ]
        },
        {
          "output_type": "stream",
          "name": "stdout",
          "text": [
            "18/18 [==============================] - 2s 99ms/step - loss: 123.4030 - val_loss: 682.0648\n",
            "Epoch 46/100\n",
            "12/18 [===================>..........] - ETA: 0s - loss: 130.1366INFO:tensorflow:Assets written to: model_experiments/model_5_lstm/assets\n"
          ]
        },
        {
          "output_type": "stream",
          "name": "stderr",
          "text": [
            "INFO:tensorflow:Assets written to: model_experiments/model_5_lstm/assets\n",
            "WARNING:absl:<keras.layers.recurrent.LSTMCell object at 0x7fd33cfb4f10> has the same name 'LSTMCell' as a built-in Keras object. Consider renaming <class 'keras.layers.recurrent.LSTMCell'> to avoid naming conflicts when loading with `tf.keras.models.load_model`. If renaming is not possible, pass the object in the `custom_objects` parameter of the load function.\n"
          ]
        },
        {
          "output_type": "stream",
          "name": "stdout",
          "text": [
            "18/18 [==============================] - 2s 100ms/step - loss: 124.5756 - val_loss: 679.0645\n",
            "Epoch 47/100\n",
            "18/18 [==============================] - 0s 6ms/step - loss: 122.3864 - val_loss: 700.8399\n",
            "Epoch 48/100\n",
            "13/18 [====================>.........] - ETA: 0s - loss: 120.7901INFO:tensorflow:Assets written to: model_experiments/model_5_lstm/assets\n"
          ]
        },
        {
          "output_type": "stream",
          "name": "stderr",
          "text": [
            "INFO:tensorflow:Assets written to: model_experiments/model_5_lstm/assets\n",
            "WARNING:absl:<keras.layers.recurrent.LSTMCell object at 0x7fd33cfb4f10> has the same name 'LSTMCell' as a built-in Keras object. Consider renaming <class 'keras.layers.recurrent.LSTMCell'> to avoid naming conflicts when loading with `tf.keras.models.load_model`. If renaming is not possible, pass the object in the `custom_objects` parameter of the load function.\n"
          ]
        },
        {
          "output_type": "stream",
          "name": "stdout",
          "text": [
            "18/18 [==============================] - 2s 98ms/step - loss: 122.4737 - val_loss: 676.0283\n",
            "Epoch 49/100\n",
            "18/18 [==============================] - 0s 6ms/step - loss: 122.0582 - val_loss: 690.3026\n",
            "Epoch 50/100\n",
            "18/18 [==============================] - 0s 7ms/step - loss: 124.1240 - val_loss: 714.4885\n",
            "Epoch 51/100\n",
            "18/18 [==============================] - 0s 7ms/step - loss: 125.1230 - val_loss: 778.5692\n",
            "Epoch 52/100\n",
            "11/18 [=================>............] - ETA: 0s - loss: 131.4363INFO:tensorflow:Assets written to: model_experiments/model_5_lstm/assets\n"
          ]
        },
        {
          "output_type": "stream",
          "name": "stderr",
          "text": [
            "INFO:tensorflow:Assets written to: model_experiments/model_5_lstm/assets\n",
            "WARNING:absl:<keras.layers.recurrent.LSTMCell object at 0x7fd33cfb4f10> has the same name 'LSTMCell' as a built-in Keras object. Consider renaming <class 'keras.layers.recurrent.LSTMCell'> to avoid naming conflicts when loading with `tf.keras.models.load_model`. If renaming is not possible, pass the object in the `custom_objects` parameter of the load function.\n"
          ]
        },
        {
          "output_type": "stream",
          "name": "stdout",
          "text": [
            "18/18 [==============================] - 2s 118ms/step - loss: 123.6763 - val_loss: 660.4346\n",
            "Epoch 53/100\n",
            "12/18 [===================>..........] - ETA: 0s - loss: 117.3057INFO:tensorflow:Assets written to: model_experiments/model_5_lstm/assets\n"
          ]
        },
        {
          "output_type": "stream",
          "name": "stderr",
          "text": [
            "INFO:tensorflow:Assets written to: model_experiments/model_5_lstm/assets\n",
            "WARNING:absl:<keras.layers.recurrent.LSTMCell object at 0x7fd33cfb4f10> has the same name 'LSTMCell' as a built-in Keras object. Consider renaming <class 'keras.layers.recurrent.LSTMCell'> to avoid naming conflicts when loading with `tf.keras.models.load_model`. If renaming is not possible, pass the object in the `custom_objects` parameter of the load function.\n"
          ]
        },
        {
          "output_type": "stream",
          "name": "stdout",
          "text": [
            "18/18 [==============================] - 2s 99ms/step - loss: 119.8259 - val_loss: 659.2103\n",
            "Epoch 54/100\n",
            "12/18 [===================>..........] - ETA: 0s - loss: 117.4700INFO:tensorflow:Assets written to: model_experiments/model_5_lstm/assets\n"
          ]
        },
        {
          "output_type": "stream",
          "name": "stderr",
          "text": [
            "INFO:tensorflow:Assets written to: model_experiments/model_5_lstm/assets\n",
            "WARNING:absl:<keras.layers.recurrent.LSTMCell object at 0x7fd33cfb4f10> has the same name 'LSTMCell' as a built-in Keras object. Consider renaming <class 'keras.layers.recurrent.LSTMCell'> to avoid naming conflicts when loading with `tf.keras.models.load_model`. If renaming is not possible, pass the object in the `custom_objects` parameter of the load function.\n"
          ]
        },
        {
          "output_type": "stream",
          "name": "stdout",
          "text": [
            "18/18 [==============================] - 2s 98ms/step - loss: 120.3732 - val_loss: 654.3164\n",
            "Epoch 55/100\n",
            "10/18 [===============>..............] - ETA: 0s - loss: 126.2897INFO:tensorflow:Assets written to: model_experiments/model_5_lstm/assets\n"
          ]
        },
        {
          "output_type": "stream",
          "name": "stderr",
          "text": [
            "INFO:tensorflow:Assets written to: model_experiments/model_5_lstm/assets\n",
            "WARNING:absl:<keras.layers.recurrent.LSTMCell object at 0x7fd33cfb4f10> has the same name 'LSTMCell' as a built-in Keras object. Consider renaming <class 'keras.layers.recurrent.LSTMCell'> to avoid naming conflicts when loading with `tf.keras.models.load_model`. If renaming is not possible, pass the object in the `custom_objects` parameter of the load function.\n"
          ]
        },
        {
          "output_type": "stream",
          "name": "stdout",
          "text": [
            "18/18 [==============================] - 2s 115ms/step - loss: 118.6429 - val_loss: 648.6450\n",
            "Epoch 56/100\n",
            "18/18 [==============================] - ETA: 0s - loss: 120.1063INFO:tensorflow:Assets written to: model_experiments/model_5_lstm/assets\n"
          ]
        },
        {
          "output_type": "stream",
          "name": "stderr",
          "text": [
            "INFO:tensorflow:Assets written to: model_experiments/model_5_lstm/assets\n",
            "WARNING:absl:<keras.layers.recurrent.LSTMCell object at 0x7fd33cfb4f10> has the same name 'LSTMCell' as a built-in Keras object. Consider renaming <class 'keras.layers.recurrent.LSTMCell'> to avoid naming conflicts when loading with `tf.keras.models.load_model`. If renaming is not possible, pass the object in the `custom_objects` parameter of the load function.\n"
          ]
        },
        {
          "output_type": "stream",
          "name": "stdout",
          "text": [
            "18/18 [==============================] - 2s 101ms/step - loss: 120.1063 - val_loss: 645.4896\n",
            "Epoch 57/100\n",
            "18/18 [==============================] - 0s 6ms/step - loss: 123.7777 - val_loss: 680.8215\n",
            "Epoch 58/100\n",
            "13/18 [====================>.........] - ETA: 0s - loss: 119.8549INFO:tensorflow:Assets written to: model_experiments/model_5_lstm/assets\n"
          ]
        },
        {
          "output_type": "stream",
          "name": "stderr",
          "text": [
            "INFO:tensorflow:Assets written to: model_experiments/model_5_lstm/assets\n",
            "WARNING:absl:<keras.layers.recurrent.LSTMCell object at 0x7fd33cfb4f10> has the same name 'LSTMCell' as a built-in Keras object. Consider renaming <class 'keras.layers.recurrent.LSTMCell'> to avoid naming conflicts when loading with `tf.keras.models.load_model`. If renaming is not possible, pass the object in the `custom_objects` parameter of the load function.\n"
          ]
        },
        {
          "output_type": "stream",
          "name": "stdout",
          "text": [
            "18/18 [==============================] - 2s 100ms/step - loss: 118.7787 - val_loss: 641.7518\n",
            "Epoch 59/100\n",
            "12/18 [===================>..........] - ETA: 0s - loss: 114.4179INFO:tensorflow:Assets written to: model_experiments/model_5_lstm/assets\n"
          ]
        },
        {
          "output_type": "stream",
          "name": "stderr",
          "text": [
            "INFO:tensorflow:Assets written to: model_experiments/model_5_lstm/assets\n",
            "WARNING:absl:<keras.layers.recurrent.LSTMCell object at 0x7fd33cfb4f10> has the same name 'LSTMCell' as a built-in Keras object. Consider renaming <class 'keras.layers.recurrent.LSTMCell'> to avoid naming conflicts when loading with `tf.keras.models.load_model`. If renaming is not possible, pass the object in the `custom_objects` parameter of the load function.\n"
          ]
        },
        {
          "output_type": "stream",
          "name": "stdout",
          "text": [
            "18/18 [==============================] - 2s 117ms/step - loss: 117.9966 - val_loss: 641.0961\n",
            "Epoch 60/100\n",
            "18/18 [==============================] - 0s 7ms/step - loss: 118.3239 - val_loss: 643.4174\n",
            "Epoch 61/100\n",
            "18/18 [==============================] - 0s 6ms/step - loss: 118.6151 - val_loss: 696.0721\n",
            "Epoch 62/100\n",
            "18/18 [==============================] - 0s 7ms/step - loss: 122.4420 - val_loss: 749.9855\n",
            "Epoch 63/100\n",
            "18/18 [==============================] - 0s 7ms/step - loss: 123.8672 - val_loss: 660.2910\n",
            "Epoch 64/100\n",
            "18/18 [==============================] - 0s 7ms/step - loss: 117.0016 - val_loss: 687.4307\n",
            "Epoch 65/100\n",
            "12/18 [===================>..........] - ETA: 0s - loss: 121.8536INFO:tensorflow:Assets written to: model_experiments/model_5_lstm/assets\n"
          ]
        },
        {
          "output_type": "stream",
          "name": "stderr",
          "text": [
            "INFO:tensorflow:Assets written to: model_experiments/model_5_lstm/assets\n",
            "WARNING:absl:<keras.layers.recurrent.LSTMCell object at 0x7fd33cfb4f10> has the same name 'LSTMCell' as a built-in Keras object. Consider renaming <class 'keras.layers.recurrent.LSTMCell'> to avoid naming conflicts when loading with `tf.keras.models.load_model`. If renaming is not possible, pass the object in the `custom_objects` parameter of the load function.\n"
          ]
        },
        {
          "output_type": "stream",
          "name": "stdout",
          "text": [
            "18/18 [==============================] - 2s 100ms/step - loss: 119.8755 - val_loss: 632.8752\n",
            "Epoch 66/100\n",
            "18/18 [==============================] - 0s 6ms/step - loss: 117.1110 - val_loss: 640.7438\n",
            "Epoch 67/100\n",
            "12/18 [===================>..........] - ETA: 0s - loss: 114.8851INFO:tensorflow:Assets written to: model_experiments/model_5_lstm/assets\n"
          ]
        },
        {
          "output_type": "stream",
          "name": "stderr",
          "text": [
            "INFO:tensorflow:Assets written to: model_experiments/model_5_lstm/assets\n",
            "WARNING:absl:<keras.layers.recurrent.LSTMCell object at 0x7fd33cfb4f10> has the same name 'LSTMCell' as a built-in Keras object. Consider renaming <class 'keras.layers.recurrent.LSTMCell'> to avoid naming conflicts when loading with `tf.keras.models.load_model`. If renaming is not possible, pass the object in the `custom_objects` parameter of the load function.\n"
          ]
        },
        {
          "output_type": "stream",
          "name": "stdout",
          "text": [
            "18/18 [==============================] - 2s 102ms/step - loss: 117.9292 - val_loss: 626.2725\n",
            "Epoch 68/100\n",
            "12/18 [===================>..........] - ETA: 0s - loss: 116.3970INFO:tensorflow:Assets written to: model_experiments/model_5_lstm/assets\n"
          ]
        },
        {
          "output_type": "stream",
          "name": "stderr",
          "text": [
            "INFO:tensorflow:Assets written to: model_experiments/model_5_lstm/assets\n",
            "WARNING:absl:<keras.layers.recurrent.LSTMCell object at 0x7fd33cfb4f10> has the same name 'LSTMCell' as a built-in Keras object. Consider renaming <class 'keras.layers.recurrent.LSTMCell'> to avoid naming conflicts when loading with `tf.keras.models.load_model`. If renaming is not possible, pass the object in the `custom_objects` parameter of the load function.\n"
          ]
        },
        {
          "output_type": "stream",
          "name": "stdout",
          "text": [
            "18/18 [==============================] - 2s 99ms/step - loss: 117.1456 - val_loss: 625.1245\n",
            "Epoch 69/100\n",
            "18/18 [==============================] - 0s 7ms/step - loss: 119.3027 - val_loss: 625.7104\n",
            "Epoch 70/100\n",
            "13/18 [====================>.........] - ETA: 0s - loss: 112.2845INFO:tensorflow:Assets written to: model_experiments/model_5_lstm/assets\n"
          ]
        },
        {
          "output_type": "stream",
          "name": "stderr",
          "text": [
            "INFO:tensorflow:Assets written to: model_experiments/model_5_lstm/assets\n",
            "WARNING:absl:<keras.layers.recurrent.LSTMCell object at 0x7fd33cfb4f10> has the same name 'LSTMCell' as a built-in Keras object. Consider renaming <class 'keras.layers.recurrent.LSTMCell'> to avoid naming conflicts when loading with `tf.keras.models.load_model`. If renaming is not possible, pass the object in the `custom_objects` parameter of the load function.\n"
          ]
        },
        {
          "output_type": "stream",
          "name": "stdout",
          "text": [
            "18/18 [==============================] - 2s 121ms/step - loss: 114.9086 - val_loss: 621.8661\n",
            "Epoch 71/100\n",
            "18/18 [==============================] - 0s 7ms/step - loss: 115.1822 - val_loss: 654.4707\n",
            "Epoch 72/100\n",
            "18/18 [==============================] - 0s 7ms/step - loss: 119.3393 - val_loss: 632.7345\n",
            "Epoch 73/100\n",
            "18/18 [==============================] - 0s 7ms/step - loss: 115.7310 - val_loss: 627.1373\n",
            "Epoch 74/100\n",
            "18/18 [==============================] - 0s 7ms/step - loss: 115.2199 - val_loss: 625.5247\n",
            "Epoch 75/100\n",
            "18/18 [==============================] - 0s 6ms/step - loss: 115.5961 - val_loss: 647.6739\n",
            "Epoch 76/100\n",
            "10/18 [===============>..............] - ETA: 0s - loss: 116.9646INFO:tensorflow:Assets written to: model_experiments/model_5_lstm/assets\n"
          ]
        },
        {
          "output_type": "stream",
          "name": "stderr",
          "text": [
            "INFO:tensorflow:Assets written to: model_experiments/model_5_lstm/assets\n",
            "WARNING:absl:<keras.layers.recurrent.LSTMCell object at 0x7fd33cfb4f10> has the same name 'LSTMCell' as a built-in Keras object. Consider renaming <class 'keras.layers.recurrent.LSTMCell'> to avoid naming conflicts when loading with `tf.keras.models.load_model`. If renaming is not possible, pass the object in the `custom_objects` parameter of the load function.\n"
          ]
        },
        {
          "output_type": "stream",
          "name": "stdout",
          "text": [
            "18/18 [==============================] - 2s 98ms/step - loss: 114.7675 - val_loss: 617.0222\n",
            "Epoch 77/100\n",
            "18/18 [==============================] - 0s 6ms/step - loss: 116.8673 - val_loss: 666.9280\n",
            "Epoch 78/100\n",
            "18/18 [==============================] - 0s 6ms/step - loss: 117.1996 - val_loss: 627.6133\n",
            "Epoch 79/100\n",
            "12/18 [===================>..........] - ETA: 0s - loss: 111.1984INFO:tensorflow:Assets written to: model_experiments/model_5_lstm/assets\n"
          ]
        },
        {
          "output_type": "stream",
          "name": "stderr",
          "text": [
            "INFO:tensorflow:Assets written to: model_experiments/model_5_lstm/assets\n",
            "WARNING:absl:<keras.layers.recurrent.LSTMCell object at 0x7fd33cfb4f10> has the same name 'LSTMCell' as a built-in Keras object. Consider renaming <class 'keras.layers.recurrent.LSTMCell'> to avoid naming conflicts when loading with `tf.keras.models.load_model`. If renaming is not possible, pass the object in the `custom_objects` parameter of the load function.\n"
          ]
        },
        {
          "output_type": "stream",
          "name": "stdout",
          "text": [
            "18/18 [==============================] - 2s 101ms/step - loss: 113.5704 - val_loss: 611.2637\n",
            "Epoch 80/100\n",
            "18/18 [==============================] - 0s 7ms/step - loss: 113.2127 - val_loss: 621.4436\n",
            "Epoch 81/100\n",
            "18/18 [==============================] - 0s 7ms/step - loss: 113.3850 - val_loss: 631.9078\n",
            "Epoch 82/100\n",
            "11/18 [=================>............] - ETA: 0s - loss: 123.1307INFO:tensorflow:Assets written to: model_experiments/model_5_lstm/assets\n"
          ]
        },
        {
          "output_type": "stream",
          "name": "stderr",
          "text": [
            "INFO:tensorflow:Assets written to: model_experiments/model_5_lstm/assets\n",
            "WARNING:absl:<keras.layers.recurrent.LSTMCell object at 0x7fd33cfb4f10> has the same name 'LSTMCell' as a built-in Keras object. Consider renaming <class 'keras.layers.recurrent.LSTMCell'> to avoid naming conflicts when loading with `tf.keras.models.load_model`. If renaming is not possible, pass the object in the `custom_objects` parameter of the load function.\n"
          ]
        },
        {
          "output_type": "stream",
          "name": "stdout",
          "text": [
            "18/18 [==============================] - 2s 118ms/step - loss: 116.0263 - val_loss: 610.8793\n",
            "Epoch 83/100\n",
            "18/18 [==============================] - 0s 7ms/step - loss: 113.4978 - val_loss: 631.0351\n",
            "Epoch 84/100\n",
            "18/18 [==============================] - 0s 7ms/step - loss: 114.4766 - val_loss: 620.5226\n",
            "Epoch 85/100\n",
            "18/18 [==============================] - 0s 7ms/step - loss: 114.3218 - val_loss: 640.3288\n",
            "Epoch 86/100\n",
            "18/18 [==============================] - 0s 6ms/step - loss: 115.0620 - val_loss: 614.5500\n",
            "Epoch 87/100\n",
            "11/18 [=================>............] - ETA: 0s - loss: 116.9279INFO:tensorflow:Assets written to: model_experiments/model_5_lstm/assets\n"
          ]
        },
        {
          "output_type": "stream",
          "name": "stderr",
          "text": [
            "INFO:tensorflow:Assets written to: model_experiments/model_5_lstm/assets\n",
            "WARNING:absl:<keras.layers.recurrent.LSTMCell object at 0x7fd33cfb4f10> has the same name 'LSTMCell' as a built-in Keras object. Consider renaming <class 'keras.layers.recurrent.LSTMCell'> to avoid naming conflicts when loading with `tf.keras.models.load_model`. If renaming is not possible, pass the object in the `custom_objects` parameter of the load function.\n"
          ]
        },
        {
          "output_type": "stream",
          "name": "stdout",
          "text": [
            "18/18 [==============================] - 2s 99ms/step - loss: 112.4946 - val_loss: 609.2250\n",
            "Epoch 88/100\n",
            "11/18 [=================>............] - ETA: 0s - loss: 115.2020INFO:tensorflow:Assets written to: model_experiments/model_5_lstm/assets\n"
          ]
        },
        {
          "output_type": "stream",
          "name": "stderr",
          "text": [
            "INFO:tensorflow:Assets written to: model_experiments/model_5_lstm/assets\n",
            "WARNING:absl:<keras.layers.recurrent.LSTMCell object at 0x7fd33cfb4f10> has the same name 'LSTMCell' as a built-in Keras object. Consider renaming <class 'keras.layers.recurrent.LSTMCell'> to avoid naming conflicts when loading with `tf.keras.models.load_model`. If renaming is not possible, pass the object in the `custom_objects` parameter of the load function.\n"
          ]
        },
        {
          "output_type": "stream",
          "name": "stdout",
          "text": [
            "18/18 [==============================] - 2s 99ms/step - loss: 112.1963 - val_loss: 603.8983\n",
            "Epoch 89/100\n",
            "18/18 [==============================] - 0s 6ms/step - loss: 112.1124 - val_loss: 629.1746\n",
            "Epoch 90/100\n",
            "18/18 [==============================] - 0s 6ms/step - loss: 116.6988 - val_loss: 645.2277\n",
            "Epoch 91/100\n",
            "18/18 [==============================] - 0s 6ms/step - loss: 115.3321 - val_loss: 626.2292\n",
            "Epoch 92/100\n",
            "18/18 [==============================] - 0s 7ms/step - loss: 113.3265 - val_loss: 612.6552\n",
            "Epoch 93/100\n",
            "10/18 [===============>..............] - ETA: 0s - loss: 112.5304INFO:tensorflow:Assets written to: model_experiments/model_5_lstm/assets\n"
          ]
        },
        {
          "output_type": "stream",
          "name": "stderr",
          "text": [
            "INFO:tensorflow:Assets written to: model_experiments/model_5_lstm/assets\n",
            "WARNING:absl:<keras.layers.recurrent.LSTMCell object at 0x7fd33cfb4f10> has the same name 'LSTMCell' as a built-in Keras object. Consider renaming <class 'keras.layers.recurrent.LSTMCell'> to avoid naming conflicts when loading with `tf.keras.models.load_model`. If renaming is not possible, pass the object in the `custom_objects` parameter of the load function.\n"
          ]
        },
        {
          "output_type": "stream",
          "name": "stdout",
          "text": [
            "18/18 [==============================] - 2s 99ms/step - loss: 113.0708 - val_loss: 599.9893\n",
            "Epoch 94/100\n",
            "18/18 [==============================] - 0s 6ms/step - loss: 111.2166 - val_loss: 600.3155\n",
            "Epoch 95/100\n",
            "12/18 [===================>..........] - ETA: 0s - loss: 109.0319INFO:tensorflow:Assets written to: model_experiments/model_5_lstm/assets\n"
          ]
        },
        {
          "output_type": "stream",
          "name": "stderr",
          "text": [
            "INFO:tensorflow:Assets written to: model_experiments/model_5_lstm/assets\n",
            "WARNING:absl:<keras.layers.recurrent.LSTMCell object at 0x7fd33cfb4f10> has the same name 'LSTMCell' as a built-in Keras object. Consider renaming <class 'keras.layers.recurrent.LSTMCell'> to avoid naming conflicts when loading with `tf.keras.models.load_model`. If renaming is not possible, pass the object in the `custom_objects` parameter of the load function.\n"
          ]
        },
        {
          "output_type": "stream",
          "name": "stdout",
          "text": [
            "18/18 [==============================] - 2s 118ms/step - loss: 111.1020 - val_loss: 598.2369\n",
            "Epoch 96/100\n",
            "18/18 [==============================] - 0s 7ms/step - loss: 112.3853 - val_loss: 605.4749\n",
            "Epoch 97/100\n",
            "18/18 [==============================] - 0s 7ms/step - loss: 111.6455 - val_loss: 625.0032\n",
            "Epoch 98/100\n",
            "18/18 [==============================] - 0s 6ms/step - loss: 112.1201 - val_loss: 600.1553\n",
            "Epoch 99/100\n",
            "18/18 [==============================] - 0s 6ms/step - loss: 110.9818 - val_loss: 598.9257\n",
            "Epoch 100/100\n",
            "12/18 [===================>..........] - ETA: 0s - loss: 120.7395INFO:tensorflow:Assets written to: model_experiments/model_5_lstm/assets\n"
          ]
        },
        {
          "output_type": "stream",
          "name": "stderr",
          "text": [
            "INFO:tensorflow:Assets written to: model_experiments/model_5_lstm/assets\n",
            "WARNING:absl:<keras.layers.recurrent.LSTMCell object at 0x7fd33cfb4f10> has the same name 'LSTMCell' as a built-in Keras object. Consider renaming <class 'keras.layers.recurrent.LSTMCell'> to avoid naming conflicts when loading with `tf.keras.models.load_model`. If renaming is not possible, pass the object in the `custom_objects` parameter of the load function.\n"
          ]
        },
        {
          "output_type": "stream",
          "name": "stdout",
          "text": [
            "\b\b\b\b\b\b\b\b\b\b\b\b\b\b\b\b\b\b\b\b\b\b\b\b\b\b\b\b\b\b\b\b\b\b\b\b\b\b\b\b\b\b\b\b\b\b\b\b\b\b\b\b\b\b\b\b\b\b\b\b\b\b\b\b\b\r18/18 [==============================] - 2s 99ms/step - loss: 112.5498 - val_loss: 597.4623\n"
          ]
        },
        {
          "output_type": "execute_result",
          "data": {
            "text/plain": [
              "<keras.callbacks.History at 0x7fd33a46ecd0>"
            ]
          },
          "metadata": {},
          "execution_count": 62
        }
      ]
    },
    {
      "cell_type": "code",
      "source": [
        "# Load in best version of model 5 and evaluate on the test data\n",
        "model_5 = tf.keras.models.load_model(\"model_experiments/model_5_lstm/\")\n",
        "model_5.evaluate(test_windows, test_labels)"
      ],
      "metadata": {
        "colab": {
          "base_uri": "https://localhost:8080/"
        },
        "id": "DGpr7TSrHVKn",
        "outputId": "02670133-9a0e-42ab-e242-3c4cbefdbbcc"
      },
      "execution_count": 63,
      "outputs": [
        {
          "output_type": "stream",
          "name": "stdout",
          "text": [
            "WARNING:tensorflow:Layer lstm will not use cuDNN kernels since it doesn't meet the criteria. It will use a generic GPU kernel as fallback when running on GPU.\n"
          ]
        },
        {
          "output_type": "stream",
          "name": "stderr",
          "text": [
            "WARNING:tensorflow:Layer lstm will not use cuDNN kernels since it doesn't meet the criteria. It will use a generic GPU kernel as fallback when running on GPU.\n"
          ]
        },
        {
          "output_type": "stream",
          "name": "stdout",
          "text": [
            "18/18 [==============================] - 0s 2ms/step - loss: 597.4624\n"
          ]
        },
        {
          "output_type": "execute_result",
          "data": {
            "text/plain": [
              "597.46240234375"
            ]
          },
          "metadata": {},
          "execution_count": 63
        }
      ]
    },
    {
      "cell_type": "code",
      "source": [
        "# Make predictions with our LSTM model\n",
        "model_5_preds = make_preds(model_5, test_windows)\n",
        "model_5_preds[:10]"
      ],
      "metadata": {
        "colab": {
          "base_uri": "https://localhost:8080/"
        },
        "id": "Ywe2dJBPIVt-",
        "outputId": "cbb11b47-7952-411c-dcc3-3db0c61051b1"
      },
      "execution_count": 64,
      "outputs": [
        {
          "output_type": "execute_result",
          "data": {
            "text/plain": [
              "<tf.Tensor: shape=(10,), dtype=float32, numpy=\n",
              "array([8992.637, 8824.648, 9010.125, 8848.681, 8743.077, 8789.642,\n",
              "       8745.362, 8553.346, 8515.999, 8543.483], dtype=float32)>"
            ]
          },
          "metadata": {},
          "execution_count": 64
        }
      ]
    },
    {
      "cell_type": "code",
      "source": [
        "# Evaluate model 5 preds\n",
        "model_5_results = evaluate_preds(y_true=tf.squeeze(test_labels),\n",
        "                                 y_pred=model_5_preds)\n",
        "model_5_results"
      ],
      "metadata": {
        "colab": {
          "base_uri": "https://localhost:8080/"
        },
        "id": "J_vqQPB2IZC0",
        "outputId": "2bf14676-490b-4996-be24-4322572f5568"
      },
      "execution_count": 65,
      "outputs": [
        {
          "output_type": "execute_result",
          "data": {
            "text/plain": [
              "{'mae': 597.46234,\n",
              " 'mape': 2.6910973,\n",
              " 'mase': 1.0495758,\n",
              " 'mse': 1275416.0,\n",
              " 'rmse': 1129.3431}"
            ]
          },
          "metadata": {},
          "execution_count": 65
        }
      ]
    },
    {
      "cell_type": "code",
      "source": [
        "model_0_results"
      ],
      "metadata": {
        "colab": {
          "base_uri": "https://localhost:8080/"
        },
        "id": "uSKmtGWRJEJl",
        "outputId": "441b1744-0dea-491d-d2e6-57b9dacde9dc"
      },
      "execution_count": 66,
      "outputs": [
        {
          "output_type": "execute_result",
          "data": {
            "text/plain": [
              "{'mae': 567.9802,\n",
              " 'mape': 2.516525,\n",
              " 'mase': 0.99957,\n",
              " 'mse': 567.9802,\n",
              " 'rmse': 23.832336}"
            ]
          },
          "metadata": {},
          "execution_count": 66
        }
      ]
    },
    {
      "cell_type": "markdown",
      "source": [
        "## Make a multivariate time series"
      ],
      "metadata": {
        "id": "-xscuKbzMdwO"
      }
    },
    {
      "cell_type": "code",
      "source": [
        "# Block reward values\n",
        "block_reward_1 = 50 # 3 January 2009 (2009-01-03) - this block reward isn't in our dataset (it starts from 01 October 2013)\n",
        "block_reward_2 = 25 # 28 November 2012 \n",
        "block_reward_3 = 12.5 # 9 July 2016\n",
        "block_reward_4 = 6.25 # 11 May 2020\n",
        "\n",
        "# Block reward dates (datetime form of the above date stamps)\n",
        "block_reward_2_datetime = np.datetime64(\"2012-11-28\")\n",
        "block_reward_3_datetime = np.datetime64(\"2016-07-09\")\n",
        "block_reward_4_datetime = np.datetime64(\"2020-05-11\")"
      ],
      "metadata": {
        "id": "Zgqg0M_KMfPl"
      },
      "execution_count": 67,
      "outputs": []
    },
    {
      "cell_type": "code",
      "source": [
        "# Get date indexes for when to add in different block dates\n",
        "block_reward_2_days = (block_reward_3_datetime - bitcoin_prices.index[0]).days\n",
        "block_reward_3_days = (block_reward_4_datetime - bitcoin_prices.index[0]).days\n",
        "block_reward_2_days, block_reward_3_days"
      ],
      "metadata": {
        "colab": {
          "base_uri": "https://localhost:8080/"
        },
        "id": "MK80S3PuM2ls",
        "outputId": "08ff2fb2-9415-438e-f2a7-2c58857dd86a"
      },
      "execution_count": 68,
      "outputs": [
        {
          "output_type": "execute_result",
          "data": {
            "text/plain": [
              "(1012, 2414)"
            ]
          },
          "metadata": {},
          "execution_count": 68
        }
      ]
    },
    {
      "cell_type": "code",
      "source": [
        "# Add block_reward column\n",
        "bitcoin_prices_block = bitcoin_prices.copy()\n",
        "bitcoin_prices_block[\"block_reward\"] = None\n",
        "\n",
        "# Set values of block_reward column (it's the last column hence -1 indexing on iloc)\n",
        "bitcoin_prices_block.iloc[:block_reward_2_days, -1] = block_reward_2\n",
        "bitcoin_prices_block.iloc[block_reward_2_days:block_reward_3_days, -1] = block_reward_3\n",
        "bitcoin_prices_block.iloc[block_reward_3_days:, -1] = block_reward_4\n",
        "bitcoin_prices_block.head()"
      ],
      "metadata": {
        "colab": {
          "base_uri": "https://localhost:8080/",
          "height": 238
        },
        "id": "byxoidv2M96T",
        "outputId": "c81afb50-a4b5-4fc6-d131-02b869eef2c0"
      },
      "execution_count": 69,
      "outputs": [
        {
          "output_type": "execute_result",
          "data": {
            "text/html": [
              "\n",
              "  <div id=\"df-2aac09a8-4a5d-4c70-a0a5-ec8e5ce34231\">\n",
              "    <div class=\"colab-df-container\">\n",
              "      <div>\n",
              "<style scoped>\n",
              "    .dataframe tbody tr th:only-of-type {\n",
              "        vertical-align: middle;\n",
              "    }\n",
              "\n",
              "    .dataframe tbody tr th {\n",
              "        vertical-align: top;\n",
              "    }\n",
              "\n",
              "    .dataframe thead th {\n",
              "        text-align: right;\n",
              "    }\n",
              "</style>\n",
              "<table border=\"1\" class=\"dataframe\">\n",
              "  <thead>\n",
              "    <tr style=\"text-align: right;\">\n",
              "      <th></th>\n",
              "      <th>Price</th>\n",
              "      <th>block_reward</th>\n",
              "    </tr>\n",
              "    <tr>\n",
              "      <th>Date</th>\n",
              "      <th></th>\n",
              "      <th></th>\n",
              "    </tr>\n",
              "  </thead>\n",
              "  <tbody>\n",
              "    <tr>\n",
              "      <th>2013-10-01</th>\n",
              "      <td>123.65499</td>\n",
              "      <td>25</td>\n",
              "    </tr>\n",
              "    <tr>\n",
              "      <th>2013-10-02</th>\n",
              "      <td>125.45500</td>\n",
              "      <td>25</td>\n",
              "    </tr>\n",
              "    <tr>\n",
              "      <th>2013-10-03</th>\n",
              "      <td>108.58483</td>\n",
              "      <td>25</td>\n",
              "    </tr>\n",
              "    <tr>\n",
              "      <th>2013-10-04</th>\n",
              "      <td>118.67466</td>\n",
              "      <td>25</td>\n",
              "    </tr>\n",
              "    <tr>\n",
              "      <th>2013-10-05</th>\n",
              "      <td>121.33866</td>\n",
              "      <td>25</td>\n",
              "    </tr>\n",
              "  </tbody>\n",
              "</table>\n",
              "</div>\n",
              "      <button class=\"colab-df-convert\" onclick=\"convertToInteractive('df-2aac09a8-4a5d-4c70-a0a5-ec8e5ce34231')\"\n",
              "              title=\"Convert this dataframe to an interactive table.\"\n",
              "              style=\"display:none;\">\n",
              "        \n",
              "  <svg xmlns=\"http://www.w3.org/2000/svg\" height=\"24px\"viewBox=\"0 0 24 24\"\n",
              "       width=\"24px\">\n",
              "    <path d=\"M0 0h24v24H0V0z\" fill=\"none\"/>\n",
              "    <path d=\"M18.56 5.44l.94 2.06.94-2.06 2.06-.94-2.06-.94-.94-2.06-.94 2.06-2.06.94zm-11 1L8.5 8.5l.94-2.06 2.06-.94-2.06-.94L8.5 2.5l-.94 2.06-2.06.94zm10 10l.94 2.06.94-2.06 2.06-.94-2.06-.94-.94-2.06-.94 2.06-2.06.94z\"/><path d=\"M17.41 7.96l-1.37-1.37c-.4-.4-.92-.59-1.43-.59-.52 0-1.04.2-1.43.59L10.3 9.45l-7.72 7.72c-.78.78-.78 2.05 0 2.83L4 21.41c.39.39.9.59 1.41.59.51 0 1.02-.2 1.41-.59l7.78-7.78 2.81-2.81c.8-.78.8-2.07 0-2.86zM5.41 20L4 18.59l7.72-7.72 1.47 1.35L5.41 20z\"/>\n",
              "  </svg>\n",
              "      </button>\n",
              "      \n",
              "  <style>\n",
              "    .colab-df-container {\n",
              "      display:flex;\n",
              "      flex-wrap:wrap;\n",
              "      gap: 12px;\n",
              "    }\n",
              "\n",
              "    .colab-df-convert {\n",
              "      background-color: #E8F0FE;\n",
              "      border: none;\n",
              "      border-radius: 50%;\n",
              "      cursor: pointer;\n",
              "      display: none;\n",
              "      fill: #1967D2;\n",
              "      height: 32px;\n",
              "      padding: 0 0 0 0;\n",
              "      width: 32px;\n",
              "    }\n",
              "\n",
              "    .colab-df-convert:hover {\n",
              "      background-color: #E2EBFA;\n",
              "      box-shadow: 0px 1px 2px rgba(60, 64, 67, 0.3), 0px 1px 3px 1px rgba(60, 64, 67, 0.15);\n",
              "      fill: #174EA6;\n",
              "    }\n",
              "\n",
              "    [theme=dark] .colab-df-convert {\n",
              "      background-color: #3B4455;\n",
              "      fill: #D2E3FC;\n",
              "    }\n",
              "\n",
              "    [theme=dark] .colab-df-convert:hover {\n",
              "      background-color: #434B5C;\n",
              "      box-shadow: 0px 1px 3px 1px rgba(0, 0, 0, 0.15);\n",
              "      filter: drop-shadow(0px 1px 2px rgba(0, 0, 0, 0.3));\n",
              "      fill: #FFFFFF;\n",
              "    }\n",
              "  </style>\n",
              "\n",
              "      <script>\n",
              "        const buttonEl =\n",
              "          document.querySelector('#df-2aac09a8-4a5d-4c70-a0a5-ec8e5ce34231 button.colab-df-convert');\n",
              "        buttonEl.style.display =\n",
              "          google.colab.kernel.accessAllowed ? 'block' : 'none';\n",
              "\n",
              "        async function convertToInteractive(key) {\n",
              "          const element = document.querySelector('#df-2aac09a8-4a5d-4c70-a0a5-ec8e5ce34231');\n",
              "          const dataTable =\n",
              "            await google.colab.kernel.invokeFunction('convertToInteractive',\n",
              "                                                     [key], {});\n",
              "          if (!dataTable) return;\n",
              "\n",
              "          const docLinkHtml = 'Like what you see? Visit the ' +\n",
              "            '<a target=\"_blank\" href=https://colab.research.google.com/notebooks/data_table.ipynb>data table notebook</a>'\n",
              "            + ' to learn more about interactive tables.';\n",
              "          element.innerHTML = '';\n",
              "          dataTable['output_type'] = 'display_data';\n",
              "          await google.colab.output.renderOutput(dataTable, element);\n",
              "          const docLink = document.createElement('div');\n",
              "          docLink.innerHTML = docLinkHtml;\n",
              "          element.appendChild(docLink);\n",
              "        }\n",
              "      </script>\n",
              "    </div>\n",
              "  </div>\n",
              "  "
            ],
            "text/plain": [
              "                Price block_reward\n",
              "Date                              \n",
              "2013-10-01  123.65499           25\n",
              "2013-10-02  125.45500           25\n",
              "2013-10-03  108.58483           25\n",
              "2013-10-04  118.67466           25\n",
              "2013-10-05  121.33866           25"
            ]
          },
          "metadata": {},
          "execution_count": 69
        }
      ]
    },
    {
      "cell_type": "code",
      "source": [
        "# Plot the block reward/price over time\n",
        "# Note: Because of the different scales of our values we'll scale them to be between 0 and 1.\n",
        "from sklearn.preprocessing import minmax_scale\n",
        "scaled_price_block_df = pd.DataFrame(minmax_scale(bitcoin_prices_block[[\"Price\", \"block_reward\"]]), # we need to scale the data first\n",
        "                                     columns=bitcoin_prices_block.columns,\n",
        "                                     index=bitcoin_prices_block.index)\n",
        "scaled_price_block_df.plot(figsize=(10, 7));"
      ],
      "metadata": {
        "colab": {
          "base_uri": "https://localhost:8080/",
          "height": 442
        },
        "id": "kp_9diRwNDvI",
        "outputId": "52385e1b-f0ae-439a-a60c-c076385ecac9"
      },
      "execution_count": 70,
      "outputs": [
        {
          "output_type": "display_data",
          "data": {
            "image/png": "[encoded data removed]",
            "text/plain": [
              "<Figure size 720x504 with 1 Axes>"
            ]
          },
          "metadata": {
            "needs_background": "light"
          }
        }
      ]
    },
    {
      "cell_type": "markdown",
      "source": [
        "## Making a windowed dataset with pandas"
      ],
      "metadata": {
        "id": "efnucZDgNGHy"
      }
    },
    {
      "cell_type": "code",
      "source": [
        "# Setup dataset hyperparameters\n",
        "HORIZON = 1\n",
        "WINDOW_SIZE = 7"
      ],
      "metadata": {
        "id": "jjV7w_sCNHEr"
      },
      "execution_count": 71,
      "outputs": []
    },
    {
      "cell_type": "code",
      "source": [
        "# Make a copy of the Bitcoin historical data with block reward feature\n",
        "bitcoin_prices_windowed = bitcoin_prices_block.copy()\n",
        "\n",
        "# Add windowed columns\n",
        "for i in range(WINDOW_SIZE): # Shift values for each step in WINDOW_SIZE\n",
        "  bitcoin_prices_windowed[f\"Price+{i+1}\"] = bitcoin_prices_windowed[\"Price\"].shift(periods=i+1)\n",
        "bitcoin_prices_windowed.head(10)"
      ],
      "metadata": {
        "colab": {
          "base_uri": "https://localhost:8080/",
          "height": 394
        },
        "id": "zqxGb_zYNhly",
        "outputId": "cf055d61-d984-47e7-b181-568d5c684d9a"
      },
      "execution_count": 72,
      "outputs": [
        {
          "output_type": "execute_result",
          "data": {
            "text/html": [
              "\n",
              "  <div id=\"df-c6fc13dd-35ff-47bd-9f31-57c47bca93dd\">\n",
              "    <div class=\"colab-df-container\">\n",
              "      <div>\n",
              "<style scoped>\n",
              "    .dataframe tbody tr th:only-of-type {\n",
              "        vertical-align: middle;\n",
              "    }\n",
              "\n",
              "    .dataframe tbody tr th {\n",
              "        vertical-align: top;\n",
              "    }\n",
              "\n",
              "    .dataframe thead th {\n",
              "        text-align: right;\n",
              "    }\n",
              "</style>\n",
              "<table border=\"1\" class=\"dataframe\">\n",
              "  <thead>\n",
              "    <tr style=\"text-align: right;\">\n",
              "      <th></th>\n",
              "      <th>Price</th>\n",
              "      <th>block_reward</th>\n",
              "      <th>Price+1</th>\n",
              "      <th>Price+2</th>\n",
              "      <th>Price+3</th>\n",
              "      <th>Price+4</th>\n",
              "      <th>Price+5</th>\n",
              "      <th>Price+6</th>\n",
              "      <th>Price+7</th>\n",
              "    </tr>\n",
              "    <tr>\n",
              "      <th>Date</th>\n",
              "      <th></th>\n",
              "      <th></th>\n",
              "      <th></th>\n",
              "      <th></th>\n",
              "      <th></th>\n",
              "      <th></th>\n",
              "      <th></th>\n",
              "      <th></th>\n",
              "      <th></th>\n",
              "    </tr>\n",
              "  </thead>\n",
              "  <tbody>\n",
              "    <tr>\n",
              "      <th>2013-10-01</th>\n",
              "      <td>123.65499</td>\n",
              "      <td>25</td>\n",
              "      <td>NaN</td>\n",
              "      <td>NaN</td>\n",
              "      <td>NaN</td>\n",
              "      <td>NaN</td>\n",
              "      <td>NaN</td>\n",
              "      <td>NaN</td>\n",
              "      <td>NaN</td>\n",
              "    </tr>\n",
              "    <tr>\n",
              "      <th>2013-10-02</th>\n",
              "      <td>125.45500</td>\n",
              "      <td>25</td>\n",
              "      <td>123.65499</td>\n",
              "      <td>NaN</td>\n",
              "      <td>NaN</td>\n",
              "      <td>NaN</td>\n",
              "      <td>NaN</td>\n",
              "      <td>NaN</td>\n",
              "      <td>NaN</td>\n",
              "    </tr>\n",
              "    <tr>\n",
              "      <th>2013-10-03</th>\n",
              "      <td>108.58483</td>\n",
              "      <td>25</td>\n",
              "      <td>125.45500</td>\n",
              "      <td>123.65499</td>\n",
              "      <td>NaN</td>\n",
              "      <td>NaN</td>\n",
              "      <td>NaN</td>\n",
              "      <td>NaN</td>\n",
              "      <td>NaN</td>\n",
              "    </tr>\n",
              "    <tr>\n",
              "      <th>2013-10-04</th>\n",
              "      <td>118.67466</td>\n",
              "      <td>25</td>\n",
              "      <td>108.58483</td>\n",
              "      <td>125.45500</td>\n",
              "      <td>123.65499</td>\n",
              "      <td>NaN</td>\n",
              "      <td>NaN</td>\n",
              "      <td>NaN</td>\n",
              "      <td>NaN</td>\n",
              "    </tr>\n",
              "    <tr>\n",
              "      <th>2013-10-05</th>\n",
              "      <td>121.33866</td>\n",
              "      <td>25</td>\n",
              "      <td>118.67466</td>\n",
              "      <td>108.58483</td>\n",
              "      <td>125.45500</td>\n",
              "      <td>123.65499</td>\n",
              "      <td>NaN</td>\n",
              "      <td>NaN</td>\n",
              "      <td>NaN</td>\n",
              "    </tr>\n",
              "    <tr>\n",
              "      <th>2013-10-06</th>\n",
              "      <td>120.65533</td>\n",
              "      <td>25</td>\n",
              "      <td>121.33866</td>\n",
              "      <td>118.67466</td>\n",
              "      <td>108.58483</td>\n",
              "      <td>125.45500</td>\n",
              "      <td>123.65499</td>\n",
              "      <td>NaN</td>\n",
              "      <td>NaN</td>\n",
              "    </tr>\n",
              "    <tr>\n",
              "      <th>2013-10-07</th>\n",
              "      <td>121.79500</td>\n",
              "      <td>25</td>\n",
              "      <td>120.65533</td>\n",
              "      <td>121.33866</td>\n",
              "      <td>118.67466</td>\n",
              "      <td>108.58483</td>\n",
              "      <td>125.45500</td>\n",
              "      <td>123.65499</td>\n",
              "      <td>NaN</td>\n",
              "    </tr>\n",
              "    <tr>\n",
              "      <th>2013-10-08</th>\n",
              "      <td>123.03300</td>\n",
              "      <td>25</td>\n",
              "      <td>121.79500</td>\n",
              "      <td>120.65533</td>\n",
              "      <td>121.33866</td>\n",
              "      <td>118.67466</td>\n",
              "      <td>108.58483</td>\n",
              "      <td>125.45500</td>\n",
              "      <td>123.65499</td>\n",
              "    </tr>\n",
              "    <tr>\n",
              "      <th>2013-10-09</th>\n",
              "      <td>124.04900</td>\n",
              "      <td>25</td>\n",
              "      <td>123.03300</td>\n",
              "      <td>121.79500</td>\n",
              "      <td>120.65533</td>\n",
              "      <td>121.33866</td>\n",
              "      <td>118.67466</td>\n",
              "      <td>108.58483</td>\n",
              "      <td>125.45500</td>\n",
              "    </tr>\n",
              "    <tr>\n",
              "      <th>2013-10-10</th>\n",
              "      <td>125.96116</td>\n",
              "      <td>25</td>\n",
              "      <td>124.04900</td>\n",
              "      <td>123.03300</td>\n",
              "      <td>121.79500</td>\n",
              "      <td>120.65533</td>\n",
              "      <td>121.33866</td>\n",
              "      <td>118.67466</td>\n",
              "      <td>108.58483</td>\n",
              "    </tr>\n",
              "  </tbody>\n",
              "</table>\n",
              "</div>\n",
              "      <button class=\"colab-df-convert\" onclick=\"convertToInteractive('df-c6fc13dd-35ff-47bd-9f31-57c47bca93dd')\"\n",
              "              title=\"Convert this dataframe to an interactive table.\"\n",
              "              style=\"display:none;\">\n",
              "        \n",
              "  <svg xmlns=\"http://www.w3.org/2000/svg\" height=\"24px\"viewBox=\"0 0 24 24\"\n",
              "       width=\"24px\">\n",
              "    <path d=\"M0 0h24v24H0V0z\" fill=\"none\"/>\n",
              "    <path d=\"M18.56 5.44l.94 2.06.94-2.06 2.06-.94-2.06-.94-.94-2.06-.94 2.06-2.06.94zm-11 1L8.5 8.5l.94-2.06 2.06-.94-2.06-.94L8.5 2.5l-.94 2.06-2.06.94zm10 10l.94 2.06.94-2.06 2.06-.94-2.06-.94-.94-2.06-.94 2.06-2.06.94z\"/><path d=\"M17.41 7.96l-1.37-1.37c-.4-.4-.92-.59-1.43-.59-.52 0-1.04.2-1.43.59L10.3 9.45l-7.72 7.72c-.78.78-.78 2.05 0 2.83L4 21.41c.39.39.9.59 1.41.59.51 0 1.02-.2 1.41-.59l7.78-7.78 2.81-2.81c.8-.78.8-2.07 0-2.86zM5.41 20L4 18.59l7.72-7.72 1.47 1.35L5.41 20z\"/>\n",
              "  </svg>\n",
              "      </button>\n",
              "      \n",
              "  <style>\n",
              "    .colab-df-container {\n",
              "      display:flex;\n",
              "      flex-wrap:wrap;\n",
              "      gap: 12px;\n",
              "    }\n",
              "\n",
              "    .colab-df-convert {\n",
              "      background-color: #E8F0FE;\n",
              "      border: none;\n",
              "      border-radius: 50%;\n",
              "      cursor: pointer;\n",
              "      display: none;\n",
              "      fill: #1967D2;\n",
              "      height: 32px;\n",
              "      padding: 0 0 0 0;\n",
              "      width: 32px;\n",
              "    }\n",
              "\n",
              "    .colab-df-convert:hover {\n",
              "      background-color: #E2EBFA;\n",
              "      box-shadow: 0px 1px 2px rgba(60, 64, 67, 0.3), 0px 1px 3px 1px rgba(60, 64, 67, 0.15);\n",
              "      fill: #174EA6;\n",
              "    }\n",
              "\n",
              "    [theme=dark] .colab-df-convert {\n",
              "      background-color: #3B4455;\n",
              "      fill: #D2E3FC;\n",
              "    }\n",
              "\n",
              "    [theme=dark] .colab-df-convert:hover {\n",
              "      background-color: #434B5C;\n",
              "      box-shadow: 0px 1px 3px 1px rgba(0, 0, 0, 0.15);\n",
              "      filter: drop-shadow(0px 1px 2px rgba(0, 0, 0, 0.3));\n",
              "      fill: #FFFFFF;\n",
              "    }\n",
              "  </style>\n",
              "\n",
              "      <script>\n",
              "        const buttonEl =\n",
              "          document.querySelector('#df-c6fc13dd-35ff-47bd-9f31-57c47bca93dd button.colab-df-convert');\n",
              "        buttonEl.style.display =\n",
              "          google.colab.kernel.accessAllowed ? 'block' : 'none';\n",
              "\n",
              "        async function convertToInteractive(key) {\n",
              "          const element = document.querySelector('#df-c6fc13dd-35ff-47bd-9f31-57c47bca93dd');\n",
              "          const dataTable =\n",
              "            await google.colab.kernel.invokeFunction('convertToInteractive',\n",
              "                                                     [key], {});\n",
              "          if (!dataTable) return;\n",
              "\n",
              "          const docLinkHtml = 'Like what you see? Visit the ' +\n",
              "            '<a target=\"_blank\" href=https://colab.research.google.com/notebooks/data_table.ipynb>data table notebook</a>'\n",
              "            + ' to learn more about interactive tables.';\n",
              "          element.innerHTML = '';\n",
              "          dataTable['output_type'] = 'display_data';\n",
              "          await google.colab.output.renderOutput(dataTable, element);\n",
              "          const docLink = document.createElement('div');\n",
              "          docLink.innerHTML = docLinkHtml;\n",
              "          element.appendChild(docLink);\n",
              "        }\n",
              "      </script>\n",
              "    </div>\n",
              "  </div>\n",
              "  "
            ],
            "text/plain": [
              "                Price block_reward    Price+1  ...    Price+5    Price+6    Price+7\n",
              "Date                                           ...                                 \n",
              "2013-10-01  123.65499           25        NaN  ...        NaN        NaN        NaN\n",
              "2013-10-02  125.45500           25  123.65499  ...        NaN        NaN        NaN\n",
              "2013-10-03  108.58483           25  125.45500  ...        NaN        NaN        NaN\n",
              "2013-10-04  118.67466           25  108.58483  ...        NaN        NaN        NaN\n",
              "2013-10-05  121.33866           25  118.67466  ...        NaN        NaN        NaN\n",
              "2013-10-06  120.65533           25  121.33866  ...  123.65499        NaN        NaN\n",
              "2013-10-07  121.79500           25  120.65533  ...  125.45500  123.65499        NaN\n",
              "2013-10-08  123.03300           25  121.79500  ...  108.58483  125.45500  123.65499\n",
              "2013-10-09  124.04900           25  123.03300  ...  118.67466  108.58483  125.45500\n",
              "2013-10-10  125.96116           25  124.04900  ...  121.33866  118.67466  108.58483\n",
              "\n",
              "[10 rows x 9 columns]"
            ]
          },
          "metadata": {},
          "execution_count": 72
        }
      ]
    },
    {
      "cell_type": "code",
      "source": [
        "# create X & y, remove the NaN's and convert to float32 to prevent TensorFlow errors \n",
        "X = bitcoin_prices_windowed.dropna().drop(\"Price\", axis=1).astype(np.float32) \n",
        "y = bitcoin_prices_windowed.dropna()[\"Price\"].astype(np.float32)\n",
        "X.head()"
      ],
      "metadata": {
        "colab": {
          "base_uri": "https://localhost:8080/",
          "height": 238
        },
        "id": "OO1TicOjNrEk",
        "outputId": "4c3c6201-adea-4e54-dc63-80592cba0997"
      },
      "execution_count": 73,
      "outputs": [
        {
          "output_type": "execute_result",
          "data": {
            "text/html": [
              "\n",
              "  <div id=\"df-33657f47-99ab-482d-add1-b2547cc50a28\">\n",
              "    <div class=\"colab-df-container\">\n",
              "      <div>\n",
              "<style scoped>\n",
              "    .dataframe tbody tr th:only-of-type {\n",
              "        vertical-align: middle;\n",
              "    }\n",
              "\n",
              "    .dataframe tbody tr th {\n",
              "        vertical-align: top;\n",
              "    }\n",
              "\n",
              "    .dataframe thead th {\n",
              "        text-align: right;\n",
              "    }\n",
              "</style>\n",
              "<table border=\"1\" class=\"dataframe\">\n",
              "  <thead>\n",
              "    <tr style=\"text-align: right;\">\n",
              "      <th></th>\n",
              "      <th>block_reward</th>\n",
              "      <th>Price+1</th>\n",
              "      <th>Price+2</th>\n",
              "      <th>Price+3</th>\n",
              "      <th>Price+4</th>\n",
              "      <th>Price+5</th>\n",
              "      <th>Price+6</th>\n",
              "      <th>Price+7</th>\n",
              "    </tr>\n",
              "    <tr>\n",
              "      <th>Date</th>\n",
              "      <th></th>\n",
              "      <th></th>\n",
              "      <th></th>\n",
              "      <th></th>\n",
              "      <th></th>\n",
              "      <th></th>\n",
              "      <th></th>\n",
              "      <th></th>\n",
              "    </tr>\n",
              "  </thead>\n",
              "  <tbody>\n",
              "    <tr>\n",
              "      <th>2013-10-08</th>\n",
              "      <td>25.0</td>\n",
              "      <td>121.794998</td>\n",
              "      <td>120.655327</td>\n",
              "      <td>121.338661</td>\n",
              "      <td>118.674660</td>\n",
              "      <td>108.584831</td>\n",
              "      <td>125.455002</td>\n",
              "      <td>123.654991</td>\n",
              "    </tr>\n",
              "    <tr>\n",
              "      <th>2013-10-09</th>\n",
              "      <td>25.0</td>\n",
              "      <td>123.032997</td>\n",
              "      <td>121.794998</td>\n",
              "      <td>120.655327</td>\n",
              "      <td>121.338661</td>\n",
              "      <td>118.674660</td>\n",
              "      <td>108.584831</td>\n",
              "      <td>125.455002</td>\n",
              "    </tr>\n",
              "    <tr>\n",
              "      <th>2013-10-10</th>\n",
              "      <td>25.0</td>\n",
              "      <td>124.049004</td>\n",
              "      <td>123.032997</td>\n",
              "      <td>121.794998</td>\n",
              "      <td>120.655327</td>\n",
              "      <td>121.338661</td>\n",
              "      <td>118.674660</td>\n",
              "      <td>108.584831</td>\n",
              "    </tr>\n",
              "    <tr>\n",
              "      <th>2013-10-11</th>\n",
              "      <td>25.0</td>\n",
              "      <td>125.961159</td>\n",
              "      <td>124.049004</td>\n",
              "      <td>123.032997</td>\n",
              "      <td>121.794998</td>\n",
              "      <td>120.655327</td>\n",
              "      <td>121.338661</td>\n",
              "      <td>118.674660</td>\n",
              "    </tr>\n",
              "    <tr>\n",
              "      <th>2013-10-12</th>\n",
              "      <td>25.0</td>\n",
              "      <td>125.279663</td>\n",
              "      <td>125.961159</td>\n",
              "      <td>124.049004</td>\n",
              "      <td>123.032997</td>\n",
              "      <td>121.794998</td>\n",
              "      <td>120.655327</td>\n",
              "      <td>121.338661</td>\n",
              "    </tr>\n",
              "  </tbody>\n",
              "</table>\n",
              "</div>\n",
              "      <button class=\"colab-df-convert\" onclick=\"convertToInteractive('df-33657f47-99ab-482d-add1-b2547cc50a28')\"\n",
              "              title=\"Convert this dataframe to an interactive table.\"\n",
              "              style=\"display:none;\">\n",
              "        \n",
              "  <svg xmlns=\"http://www.w3.org/2000/svg\" height=\"24px\"viewBox=\"0 0 24 24\"\n",
              "       width=\"24px\">\n",
              "    <path d=\"M0 0h24v24H0V0z\" fill=\"none\"/>\n",
              "    <path d=\"M18.56 5.44l.94 2.06.94-2.06 2.06-.94-2.06-.94-.94-2.06-.94 2.06-2.06.94zm-11 1L8.5 8.5l.94-2.06 2.06-.94-2.06-.94L8.5 2.5l-.94 2.06-2.06.94zm10 10l.94 2.06.94-2.06 2.06-.94-2.06-.94-.94-2.06-.94 2.06-2.06.94z\"/><path d=\"M17.41 7.96l-1.37-1.37c-.4-.4-.92-.59-1.43-.59-.52 0-1.04.2-1.43.59L10.3 9.45l-7.72 7.72c-.78.78-.78 2.05 0 2.83L4 21.41c.39.39.9.59 1.41.59.51 0 1.02-.2 1.41-.59l7.78-7.78 2.81-2.81c.8-.78.8-2.07 0-2.86zM5.41 20L4 18.59l7.72-7.72 1.47 1.35L5.41 20z\"/>\n",
              "  </svg>\n",
              "      </button>\n",
              "      \n",
              "  <style>\n",
              "    .colab-df-container {\n",
              "      display:flex;\n",
              "      flex-wrap:wrap;\n",
              "      gap: 12px;\n",
              "    }\n",
              "\n",
              "    .colab-df-convert {\n",
              "      background-color: #E8F0FE;\n",
              "      border: none;\n",
              "      border-radius: 50%;\n",
              "      cursor: pointer;\n",
              "      display: none;\n",
              "      fill: #1967D2;\n",
              "      height: 32px;\n",
              "      padding: 0 0 0 0;\n",
              "      width: 32px;\n",
              "    }\n",
              "\n",
              "    .colab-df-convert:hover {\n",
              "      background-color: #E2EBFA;\n",
              "      box-shadow: 0px 1px 2px rgba(60, 64, 67, 0.3), 0px 1px 3px 1px rgba(60, 64, 67, 0.15);\n",
              "      fill: #174EA6;\n",
              "    }\n",
              "\n",
              "    [theme=dark] .colab-df-convert {\n",
              "      background-color: #3B4455;\n",
              "      fill: #D2E3FC;\n",
              "    }\n",
              "\n",
              "    [theme=dark] .colab-df-convert:hover {\n",
              "      background-color: #434B5C;\n",
              "      box-shadow: 0px 1px 3px 1px rgba(0, 0, 0, 0.15);\n",
              "      filter: drop-shadow(0px 1px 2px rgba(0, 0, 0, 0.3));\n",
              "      fill: #FFFFFF;\n",
              "    }\n",
              "  </style>\n",
              "\n",
              "      <script>\n",
              "        const buttonEl =\n",
              "          document.querySelector('#df-33657f47-99ab-482d-add1-b2547cc50a28 button.colab-df-convert');\n",
              "        buttonEl.style.display =\n",
              "          google.colab.kernel.accessAllowed ? 'block' : 'none';\n",
              "\n",
              "        async function convertToInteractive(key) {\n",
              "          const element = document.querySelector('#df-33657f47-99ab-482d-add1-b2547cc50a28');\n",
              "          const dataTable =\n",
              "            await google.colab.kernel.invokeFunction('convertToInteractive',\n",
              "                                                     [key], {});\n",
              "          if (!dataTable) return;\n",
              "\n",
              "          const docLinkHtml = 'Like what you see? Visit the ' +\n",
              "            '<a target=\"_blank\" href=https://colab.research.google.com/notebooks/data_table.ipynb>data table notebook</a>'\n",
              "            + ' to learn more about interactive tables.';\n",
              "          element.innerHTML = '';\n",
              "          dataTable['output_type'] = 'display_data';\n",
              "          await google.colab.output.renderOutput(dataTable, element);\n",
              "          const docLink = document.createElement('div');\n",
              "          docLink.innerHTML = docLinkHtml;\n",
              "          element.appendChild(docLink);\n",
              "        }\n",
              "      </script>\n",
              "    </div>\n",
              "  </div>\n",
              "  "
            ],
            "text/plain": [
              "            block_reward     Price+1  ...     Price+6     Price+7\n",
              "Date                                  ...                        \n",
              "2013-10-08          25.0  121.794998  ...  125.455002  123.654991\n",
              "2013-10-09          25.0  123.032997  ...  108.584831  125.455002\n",
              "2013-10-10          25.0  124.049004  ...  118.674660  108.584831\n",
              "2013-10-11          25.0  125.961159  ...  121.338661  118.674660\n",
              "2013-10-12          25.0  125.279663  ...  120.655327  121.338661\n",
              "\n",
              "[5 rows x 8 columns]"
            ]
          },
          "metadata": {},
          "execution_count": 73
        }
      ]
    },
    {
      "cell_type": "code",
      "source": [
        "# View labels\n",
        "y.head()"
      ],
      "metadata": {
        "colab": {
          "base_uri": "https://localhost:8080/"
        },
        "id": "lnwXHtPANuWz",
        "outputId": "65d1fce4-61ce-43dd-ece2-49b821861203"
      },
      "execution_count": 74,
      "outputs": [
        {
          "output_type": "execute_result",
          "data": {
            "text/plain": [
              "Date\n",
              "2013-10-08    123.032997\n",
              "2013-10-09    124.049004\n",
              "2013-10-10    125.961159\n",
              "2013-10-11    125.279663\n",
              "2013-10-12    125.927498\n",
              "Name: Price, dtype: float32"
            ]
          },
          "metadata": {},
          "execution_count": 74
        }
      ]
    },
    {
      "cell_type": "code",
      "source": [
        "# Make train and test sets\n",
        "split_size = int(len(X) * 0.8)\n",
        "X_train, y_train = X[:split_size], y[:split_size]\n",
        "X_test, y_test = X[split_size:], y[split_size:]\n",
        "len(X_train), len(y_train), len(X_test), len(y_test)"
      ],
      "metadata": {
        "colab": {
          "base_uri": "https://localhost:8080/"
        },
        "id": "-6c7QL5sNwPY",
        "outputId": "11db54db-eb6e-4095-b927-ea0e5ca074d6"
      },
      "execution_count": 75,
      "outputs": [
        {
          "output_type": "execute_result",
          "data": {
            "text/plain": [
              "(2224, 2224, 556, 556)"
            ]
          },
          "metadata": {},
          "execution_count": 75
        }
      ]
    },
    {
      "cell_type": "markdown",
      "source": [
        "## Model 6: Dense (multivariate time series)"
      ],
      "metadata": {
        "id": "Ho21Mb-hNx_V"
      }
    },
    {
      "cell_type": "code",
      "source": [
        "tf.random.set_seed(42)\n",
        "\n",
        "# Make multivariate time series model\n",
        "model_6 = tf.keras.Sequential([\n",
        "  layers.Dense(128, activation=\"relu\"),\n",
        "  layers.Dense(128, activation=\"relu\"),\n",
        "  layers.Dense(HORIZON)\n",
        "], name=\"model_6_dense_multivariate\")\n",
        "\n",
        "# Compile\n",
        "model_6.compile(loss=\"mae\",\n",
        "                optimizer=tf.keras.optimizers.Adam())\n",
        "\n",
        "# Fit\n",
        "model_6.fit(X_train, y_train,\n",
        "            epochs=100,\n",
        "            batch_size=128,\n",
        "            verbose=0, # only print 1 line per epoch\n",
        "            validation_data=(X_test, y_test),\n",
        "            callbacks=[create_model_checkpoint(model_name=model_6.name)])"
      ],
      "metadata": {
        "colab": {
          "base_uri": "https://localhost:8080/"
        },
        "id": "1TqfQVgkP_6P",
        "outputId": "3ba9da47-a369-4da3-b919-8aeecc3c1091"
      },
      "execution_count": 76,
      "outputs": [
        {
          "output_type": "stream",
          "name": "stdout",
          "text": [
            "INFO:tensorflow:Assets written to: model_experiments/model_6_dense_multivariate/assets\n"
          ]
        },
        {
          "output_type": "stream",
          "name": "stderr",
          "text": [
            "INFO:tensorflow:Assets written to: model_experiments/model_6_dense_multivariate/assets\n"
          ]
        },
        {
          "output_type": "stream",
          "name": "stdout",
          "text": [
            "INFO:tensorflow:Assets written to: model_experiments/model_6_dense_multivariate/assets\n"
          ]
        },
        {
          "output_type": "stream",
          "name": "stderr",
          "text": [
            "INFO:tensorflow:Assets written to: model_experiments/model_6_dense_multivariate/assets\n"
          ]
        },
        {
          "output_type": "stream",
          "name": "stdout",
          "text": [
            "INFO:tensorflow:Assets written to: model_experiments/model_6_dense_multivariate/assets\n"
          ]
        },
        {
          "output_type": "stream",
          "name": "stderr",
          "text": [
            "INFO:tensorflow:Assets written to: model_experiments/model_6_dense_multivariate/assets\n"
          ]
        },
        {
          "output_type": "stream",
          "name": "stdout",
          "text": [
            "INFO:tensorflow:Assets written to: model_experiments/model_6_dense_multivariate/assets\n"
          ]
        },
        {
          "output_type": "stream",
          "name": "stderr",
          "text": [
            "INFO:tensorflow:Assets written to: model_experiments/model_6_dense_multivariate/assets\n"
          ]
        },
        {
          "output_type": "stream",
          "name": "stdout",
          "text": [
            "INFO:tensorflow:Assets written to: model_experiments/model_6_dense_multivariate/assets\n"
          ]
        },
        {
          "output_type": "stream",
          "name": "stderr",
          "text": [
            "INFO:tensorflow:Assets written to: model_experiments/model_6_dense_multivariate/assets\n"
          ]
        },
        {
          "output_type": "stream",
          "name": "stdout",
          "text": [
            "INFO:tensorflow:Assets written to: model_experiments/model_6_dense_multivariate/assets\n"
          ]
        },
        {
          "output_type": "stream",
          "name": "stderr",
          "text": [
            "INFO:tensorflow:Assets written to: model_experiments/model_6_dense_multivariate/assets\n"
          ]
        },
        {
          "output_type": "stream",
          "name": "stdout",
          "text": [
            "INFO:tensorflow:Assets written to: model_experiments/model_6_dense_multivariate/assets\n"
          ]
        },
        {
          "output_type": "stream",
          "name": "stderr",
          "text": [
            "INFO:tensorflow:Assets written to: model_experiments/model_6_dense_multivariate/assets\n"
          ]
        },
        {
          "output_type": "stream",
          "name": "stdout",
          "text": [
            "INFO:tensorflow:Assets written to: model_experiments/model_6_dense_multivariate/assets\n"
          ]
        },
        {
          "output_type": "stream",
          "name": "stderr",
          "text": [
            "INFO:tensorflow:Assets written to: model_experiments/model_6_dense_multivariate/assets\n"
          ]
        },
        {
          "output_type": "stream",
          "name": "stdout",
          "text": [
            "INFO:tensorflow:Assets written to: model_experiments/model_6_dense_multivariate/assets\n"
          ]
        },
        {
          "output_type": "stream",
          "name": "stderr",
          "text": [
            "INFO:tensorflow:Assets written to: model_experiments/model_6_dense_multivariate/assets\n"
          ]
        },
        {
          "output_type": "stream",
          "name": "stdout",
          "text": [
            "INFO:tensorflow:Assets written to: model_experiments/model_6_dense_multivariate/assets\n"
          ]
        },
        {
          "output_type": "stream",
          "name": "stderr",
          "text": [
            "INFO:tensorflow:Assets written to: model_experiments/model_6_dense_multivariate/assets\n"
          ]
        },
        {
          "output_type": "stream",
          "name": "stdout",
          "text": [
            "INFO:tensorflow:Assets written to: model_experiments/model_6_dense_multivariate/assets\n"
          ]
        },
        {
          "output_type": "stream",
          "name": "stderr",
          "text": [
            "INFO:tensorflow:Assets written to: model_experiments/model_6_dense_multivariate/assets\n"
          ]
        },
        {
          "output_type": "stream",
          "name": "stdout",
          "text": [
            "INFO:tensorflow:Assets written to: model_experiments/model_6_dense_multivariate/assets\n"
          ]
        },
        {
          "output_type": "stream",
          "name": "stderr",
          "text": [
            "INFO:tensorflow:Assets written to: model_experiments/model_6_dense_multivariate/assets\n"
          ]
        },
        {
          "output_type": "stream",
          "name": "stdout",
          "text": [
            "INFO:tensorflow:Assets written to: model_experiments/model_6_dense_multivariate/assets\n"
          ]
        },
        {
          "output_type": "stream",
          "name": "stderr",
          "text": [
            "INFO:tensorflow:Assets written to: model_experiments/model_6_dense_multivariate/assets\n"
          ]
        },
        {
          "output_type": "stream",
          "name": "stdout",
          "text": [
            "INFO:tensorflow:Assets written to: model_experiments/model_6_dense_multivariate/assets\n"
          ]
        },
        {
          "output_type": "stream",
          "name": "stderr",
          "text": [
            "INFO:tensorflow:Assets written to: model_experiments/model_6_dense_multivariate/assets\n"
          ]
        },
        {
          "output_type": "stream",
          "name": "stdout",
          "text": [
            "INFO:tensorflow:Assets written to: model_experiments/model_6_dense_multivariate/assets\n"
          ]
        },
        {
          "output_type": "stream",
          "name": "stderr",
          "text": [
            "INFO:tensorflow:Assets written to: model_experiments/model_6_dense_multivariate/assets\n"
          ]
        },
        {
          "output_type": "stream",
          "name": "stdout",
          "text": [
            "INFO:tensorflow:Assets written to: model_experiments/model_6_dense_multivariate/assets\n"
          ]
        },
        {
          "output_type": "stream",
          "name": "stderr",
          "text": [
            "INFO:tensorflow:Assets written to: model_experiments/model_6_dense_multivariate/assets\n"
          ]
        },
        {
          "output_type": "stream",
          "name": "stdout",
          "text": [
            "INFO:tensorflow:Assets written to: model_experiments/model_6_dense_multivariate/assets\n"
          ]
        },
        {
          "output_type": "stream",
          "name": "stderr",
          "text": [
            "INFO:tensorflow:Assets written to: model_experiments/model_6_dense_multivariate/assets\n"
          ]
        },
        {
          "output_type": "execute_result",
          "data": {
            "text/plain": [
              "<keras.callbacks.History at 0x7fd3379c79d0>"
            ]
          },
          "metadata": {},
          "execution_count": 76
        }
      ]
    },
    {
      "cell_type": "code",
      "source": [
        "# load the best model and evaluate\n",
        "model_6 = tf.keras.models.load_model(\"model_experiments/model_6_dense_multivariate\")\n",
        "model_6.evaluate(X_test, y_test)"
      ],
      "metadata": {
        "colab": {
          "base_uri": "https://localhost:8080/"
        },
        "id": "dFluqDN8Q0T3",
        "outputId": "5449e75d-362c-4ef3-ef96-a844631a2382"
      },
      "execution_count": 77,
      "outputs": [
        {
          "output_type": "stream",
          "name": "stdout",
          "text": [
            "18/18 [==============================] - 0s 2ms/step - loss: 568.4492\n"
          ]
        },
        {
          "output_type": "execute_result",
          "data": {
            "text/plain": [
              "568.44921875"
            ]
          },
          "metadata": {},
          "execution_count": 77
        }
      ]
    },
    {
      "cell_type": "code",
      "source": [
        "# Make predictions on multivariate data\n",
        "model_6_preds = tf.squeeze(model_6.predict(X_test))\n",
        "model_6_preds[:10]"
      ],
      "metadata": {
        "colab": {
          "base_uri": "https://localhost:8080/"
        },
        "id": "oSq-CStjQ3lX",
        "outputId": "3d29524c-8ce9-44c4-ea9b-f21847ca7f73"
      },
      "execution_count": 78,
      "outputs": [
        {
          "output_type": "execute_result",
          "data": {
            "text/plain": [
              "<tf.Tensor: shape=(10,), dtype=float32, numpy=\n",
              "array([8813.428, 8767.833, 9045.073, 8723.28 , 8713.942, 8744.135,\n",
              "       8651.524, 8490.181, 8448.834, 8518.018], dtype=float32)>"
            ]
          },
          "metadata": {},
          "execution_count": 78
        }
      ]
    },
    {
      "cell_type": "code",
      "source": [
        "# Evaluate preds\n",
        "model_6_results = evaluate_preds(y_true=y_test,\n",
        "                                 y_pred=model_6_preds)\n",
        "model_6_results"
      ],
      "metadata": {
        "colab": {
          "base_uri": "https://localhost:8080/"
        },
        "id": "J5olWOOwQ7Zs",
        "outputId": "6fe0e7f7-bdb0-41bf-9f61-50b70b04f0f8"
      },
      "execution_count": 79,
      "outputs": [
        {
          "output_type": "execute_result",
          "data": {
            "text/plain": [
              "{'mae': 568.4492,\n",
              " 'mape': 2.5558872,\n",
              " 'mase': 0.9986078,\n",
              " 'mse': 1162442.2,\n",
              " 'rmse': 1078.1661}"
            ]
          },
          "metadata": {},
          "execution_count": 79
        }
      ]
    },
    {
      "cell_type": "code",
      "source": [
        "model_6_results"
      ],
      "metadata": {
        "colab": {
          "base_uri": "https://localhost:8080/"
        },
        "id": "0GabvM6MQ8JJ",
        "outputId": "cba5395b-bba8-478b-93d1-07784e6f2c22"
      },
      "execution_count": 80,
      "outputs": [
        {
          "output_type": "execute_result",
          "data": {
            "text/plain": [
              "{'mae': 568.4492,\n",
              " 'mape': 2.5558872,\n",
              " 'mase': 0.9986078,\n",
              " 'mse': 1162442.2,\n",
              " 'rmse': 1078.1661}"
            ]
          },
          "metadata": {},
          "execution_count": 80
        }
      ]
    },
    {
      "cell_type": "markdown",
      "source": [
        "## Model 7: N-Beats algorithm"
      ],
      "metadata": {
        "id": "H6hp-Fg4vTrq"
      }
    },
    {
      "cell_type": "markdown",
      "source": [
        "### build and test the N-Beats block layer"
      ],
      "metadata": {
        "id": "rlDSoqF7wwOL"
      }
    },
    {
      "cell_type": "code",
      "source": [
        "# create NBeatsBlock custom layer\n",
        "class NBeatsBlock(tf.keras.layers.Layer):\n",
        "  def __init__(self,\n",
        "               input_size: int,\n",
        "               theta_size: int,\n",
        "               horizon: int,\n",
        "               n_neurons: int,\n",
        "               n_layers: int,\n",
        "               **kwargs):\n",
        "    super().__init__(**kwargs)\n",
        "    self.input_size = input_size\n",
        "    self.theta_size = theta_size\n",
        "    self.horizon = horizon\n",
        "    self.n_neurons = n_neurons\n",
        "    self.n_layers = n_layers\n",
        "\n",
        "    # block contains stack of 4 fully connect layers each has ReLU activation\n",
        "    self.hidden = [tf.keras.layers.Dense(n_neurons, activation=\"relu\") for _ in range(n_layers)]\n",
        "    # output of block\n",
        "    self.theta_layer = tf.keras.layers.Dense(theta_size, activation=\"linear\", name=\"theta\")\n",
        "\n",
        "  def call(self, inputs):\n",
        "    x = inputs\n",
        "    for layer in self.hidden:\n",
        "      x = layer(x)\n",
        "    theta = self.theta_layer(x)\n",
        "    # output the backcast and forecast from theta\n",
        "    backcast, forecast = theta[:, :self.input_size], theta[:, -self.horizon:]\n",
        "    return backcast, forecast"
      ],
      "metadata": {
        "id": "I790P-Z1vY62"
      },
      "execution_count": 81,
      "outputs": []
    },
    {
      "cell_type": "code",
      "source": [
        "# test NBeatsBlock class\n",
        "dummy_nbeats_block_layer = NBeatsBlock(input_size=WINDOW_SIZE,\n",
        "                                       theta_size=WINDOW_SIZE+HORIZON,\n",
        "                                       horizon=HORIZON,\n",
        "                                       n_neurons=128,\n",
        "                                       n_layers=4)"
      ],
      "metadata": {
        "id": "my2a4IlVvYfd"
      },
      "execution_count": 82,
      "outputs": []
    },
    {
      "cell_type": "code",
      "source": [
        "# create dummy inputs\n",
        "dummy_inputs = tf.expand_dims(tf.range(WINDOW_SIZE) + 1, axis=0)\n",
        "dummy_inputs"
      ],
      "metadata": {
        "colab": {
          "base_uri": "https://localhost:8080/"
        },
        "id": "yeXeSsp26O3R",
        "outputId": "92b2acd2-89ec-4c5e-bd15-cdca4f2c67c5"
      },
      "execution_count": 83,
      "outputs": [
        {
          "output_type": "execute_result",
          "data": {
            "text/plain": [
              "<tf.Tensor: shape=(1, 7), dtype=int32, numpy=array([[1, 2, 3, 4, 5, 6, 7]], dtype=int32)>"
            ]
          },
          "metadata": {},
          "execution_count": 83
        }
      ]
    },
    {
      "cell_type": "code",
      "source": [
        "# Pass dummy inputs to dummy NBeatsBlock layer\n",
        "backcast, forecast = dummy_nbeats_block_layer(dummy_inputs)\n",
        "\n",
        "print(f\"Backcast: {tf.squeeze(backcast.numpy())}\")\n",
        "print(f\"Forecast: {tf.squeeze(forecast.numpy())}\")"
      ],
      "metadata": {
        "colab": {
          "base_uri": "https://localhost:8080/"
        },
        "id": "e73zH0rR6m6X",
        "outputId": "a38e7597-3143-484c-c1f6-769de52add52"
      },
      "execution_count": 84,
      "outputs": [
        {
          "output_type": "stream",
          "name": "stdout",
          "text": [
            "Backcast: [-0.4634871   0.10944445 -0.4335533   0.9360242  -0.35703525 -0.17927599\n",
            " -0.3404836 ]\n",
            "Forecast: -0.43979012966156006\n"
          ]
        }
      ]
    },
    {
      "cell_type": "markdown",
      "source": [
        "### Preparing data for the N-BEATS algorithm using `tf.data`"
      ],
      "metadata": {
        "id": "26Zo8pynDI1Q"
      }
    },
    {
      "cell_type": "code",
      "source": [
        "HORIZON = 1 # how far to predict forward\n",
        "WINDOW_SIZE = 7 # how far to lookback"
      ],
      "metadata": {
        "id": "wueQ1Jl-DOr0"
      },
      "execution_count": 85,
      "outputs": []
    },
    {
      "cell_type": "code",
      "source": [
        "# create NBEATS data inputs (NBEATS works with univariate time series)\n",
        "bitcoin_prices.head()"
      ],
      "metadata": {
        "colab": {
          "base_uri": "https://localhost:8080/",
          "height": 238
        },
        "id": "RZiCm7tMDgVj",
        "outputId": "3ab0d3ae-282b-4235-d794-070aa47386f6"
      },
      "execution_count": 86,
      "outputs": [
        {
          "output_type": "execute_result",
          "data": {
            "text/html": [
              "\n",
              "  <div id=\"df-6de9fd14-9d60-48d8-90ca-1d2decd41a2a\">\n",
              "    <div class=\"colab-df-container\">\n",
              "      <div>\n",
              "<style scoped>\n",
              "    .dataframe tbody tr th:only-of-type {\n",
              "        vertical-align: middle;\n",
              "    }\n",
              "\n",
              "    .dataframe tbody tr th {\n",
              "        vertical-align: top;\n",
              "    }\n",
              "\n",
              "    .dataframe thead th {\n",
              "        text-align: right;\n",
              "    }\n",
              "</style>\n",
              "<table border=\"1\" class=\"dataframe\">\n",
              "  <thead>\n",
              "    <tr style=\"text-align: right;\">\n",
              "      <th></th>\n",
              "      <th>Price</th>\n",
              "    </tr>\n",
              "    <tr>\n",
              "      <th>Date</th>\n",
              "      <th></th>\n",
              "    </tr>\n",
              "  </thead>\n",
              "  <tbody>\n",
              "    <tr>\n",
              "      <th>2013-10-01</th>\n",
              "      <td>123.65499</td>\n",
              "    </tr>\n",
              "    <tr>\n",
              "      <th>2013-10-02</th>\n",
              "      <td>125.45500</td>\n",
              "    </tr>\n",
              "    <tr>\n",
              "      <th>2013-10-03</th>\n",
              "      <td>108.58483</td>\n",
              "    </tr>\n",
              "    <tr>\n",
              "      <th>2013-10-04</th>\n",
              "      <td>118.67466</td>\n",
              "    </tr>\n",
              "    <tr>\n",
              "      <th>2013-10-05</th>\n",
              "      <td>121.33866</td>\n",
              "    </tr>\n",
              "  </tbody>\n",
              "</table>\n",
              "</div>\n",
              "      <button class=\"colab-df-convert\" onclick=\"convertToInteractive('df-6de9fd14-9d60-48d8-90ca-1d2decd41a2a')\"\n",
              "              title=\"Convert this dataframe to an interactive table.\"\n",
              "              style=\"display:none;\">\n",
              "        \n",
              "  <svg xmlns=\"http://www.w3.org/2000/svg\" height=\"24px\"viewBox=\"0 0 24 24\"\n",
              "       width=\"24px\">\n",
              "    <path d=\"M0 0h24v24H0V0z\" fill=\"none\"/>\n",
              "    <path d=\"M18.56 5.44l.94 2.06.94-2.06 2.06-.94-2.06-.94-.94-2.06-.94 2.06-2.06.94zm-11 1L8.5 8.5l.94-2.06 2.06-.94-2.06-.94L8.5 2.5l-.94 2.06-2.06.94zm10 10l.94 2.06.94-2.06 2.06-.94-2.06-.94-.94-2.06-.94 2.06-2.06.94z\"/><path d=\"M17.41 7.96l-1.37-1.37c-.4-.4-.92-.59-1.43-.59-.52 0-1.04.2-1.43.59L10.3 9.45l-7.72 7.72c-.78.78-.78 2.05 0 2.83L4 21.41c.39.39.9.59 1.41.59.51 0 1.02-.2 1.41-.59l7.78-7.78 2.81-2.81c.8-.78.8-2.07 0-2.86zM5.41 20L4 18.59l7.72-7.72 1.47 1.35L5.41 20z\"/>\n",
              "  </svg>\n",
              "      </button>\n",
              "      \n",
              "  <style>\n",
              "    .colab-df-container {\n",
              "      display:flex;\n",
              "      flex-wrap:wrap;\n",
              "      gap: 12px;\n",
              "    }\n",
              "\n",
              "    .colab-df-convert {\n",
              "      background-color: #E8F0FE;\n",
              "      border: none;\n",
              "      border-radius: 50%;\n",
              "      cursor: pointer;\n",
              "      display: none;\n",
              "      fill: #1967D2;\n",
              "      height: 32px;\n",
              "      padding: 0 0 0 0;\n",
              "      width: 32px;\n",
              "    }\n",
              "\n",
              "    .colab-df-convert:hover {\n",
              "      background-color: #E2EBFA;\n",
              "      box-shadow: 0px 1px 2px rgba(60, 64, 67, 0.3), 0px 1px 3px 1px rgba(60, 64, 67, 0.15);\n",
              "      fill: #174EA6;\n",
              "    }\n",
              "\n",
              "    [theme=dark] .colab-df-convert {\n",
              "      background-color: #3B4455;\n",
              "      fill: #D2E3FC;\n",
              "    }\n",
              "\n",
              "    [theme=dark] .colab-df-convert:hover {\n",
              "      background-color: #434B5C;\n",
              "      box-shadow: 0px 1px 3px 1px rgba(0, 0, 0, 0.15);\n",
              "      filter: drop-shadow(0px 1px 2px rgba(0, 0, 0, 0.3));\n",
              "      fill: #FFFFFF;\n",
              "    }\n",
              "  </style>\n",
              "\n",
              "      <script>\n",
              "        const buttonEl =\n",
              "          document.querySelector('#df-6de9fd14-9d60-48d8-90ca-1d2decd41a2a button.colab-df-convert');\n",
              "        buttonEl.style.display =\n",
              "          google.colab.kernel.accessAllowed ? 'block' : 'none';\n",
              "\n",
              "        async function convertToInteractive(key) {\n",
              "          const element = document.querySelector('#df-6de9fd14-9d60-48d8-90ca-1d2decd41a2a');\n",
              "          const dataTable =\n",
              "            await google.colab.kernel.invokeFunction('convertToInteractive',\n",
              "                                                     [key], {});\n",
              "          if (!dataTable) return;\n",
              "\n",
              "          const docLinkHtml = 'Like what you see? Visit the ' +\n",
              "            '<a target=\"_blank\" href=https://colab.research.google.com/notebooks/data_table.ipynb>data table notebook</a>'\n",
              "            + ' to learn more about interactive tables.';\n",
              "          element.innerHTML = '';\n",
              "          dataTable['output_type'] = 'display_data';\n",
              "          await google.colab.output.renderOutput(dataTable, element);\n",
              "          const docLink = document.createElement('div');\n",
              "          docLink.innerHTML = docLinkHtml;\n",
              "          element.appendChild(docLink);\n",
              "        }\n",
              "      </script>\n",
              "    </div>\n",
              "  </div>\n",
              "  "
            ],
            "text/plain": [
              "                Price\n",
              "Date                 \n",
              "2013-10-01  123.65499\n",
              "2013-10-02  125.45500\n",
              "2013-10-03  108.58483\n",
              "2013-10-04  118.67466\n",
              "2013-10-05  121.33866"
            ]
          },
          "metadata": {},
          "execution_count": 86
        }
      ]
    },
    {
      "cell_type": "code",
      "source": [
        "# add windowed columns\n",
        "bitcoin_prices_nbeats = bitcoin_prices.copy()\n",
        "for i in range(WINDOW_SIZE):\n",
        "  bitcoin_prices_nbeats[f\"Price+{i+1}\"] = bitcoin_prices_nbeats[\"Price\"].shift(periods=i+1)\n",
        "bitcoin_prices_nbeats.dropna().head()"
      ],
      "metadata": {
        "colab": {
          "base_uri": "https://localhost:8080/",
          "height": 238
        },
        "id": "y5PozU-UDkeR",
        "outputId": "7390c79f-baeb-474d-8881-0a96774914b0"
      },
      "execution_count": 87,
      "outputs": [
        {
          "output_type": "execute_result",
          "data": {
            "text/html": [
              "\n",
              "  <div id=\"df-ecd26ebd-f743-4160-9a5b-59d3a366bcba\">\n",
              "    <div class=\"colab-df-container\">\n",
              "      <div>\n",
              "<style scoped>\n",
              "    .dataframe tbody tr th:only-of-type {\n",
              "        vertical-align: middle;\n",
              "    }\n",
              "\n",
              "    .dataframe tbody tr th {\n",
              "        vertical-align: top;\n",
              "    }\n",
              "\n",
              "    .dataframe thead th {\n",
              "        text-align: right;\n",
              "    }\n",
              "</style>\n",
              "<table border=\"1\" class=\"dataframe\">\n",
              "  <thead>\n",
              "    <tr style=\"text-align: right;\">\n",
              "      <th></th>\n",
              "      <th>Price</th>\n",
              "      <th>Price+1</th>\n",
              "      <th>Price+2</th>\n",
              "      <th>Price+3</th>\n",
              "      <th>Price+4</th>\n",
              "      <th>Price+5</th>\n",
              "      <th>Price+6</th>\n",
              "      <th>Price+7</th>\n",
              "    </tr>\n",
              "    <tr>\n",
              "      <th>Date</th>\n",
              "      <th></th>\n",
              "      <th></th>\n",
              "      <th></th>\n",
              "      <th></th>\n",
              "      <th></th>\n",
              "      <th></th>\n",
              "      <th></th>\n",
              "      <th></th>\n",
              "    </tr>\n",
              "  </thead>\n",
              "  <tbody>\n",
              "    <tr>\n",
              "      <th>2013-10-08</th>\n",
              "      <td>123.03300</td>\n",
              "      <td>121.79500</td>\n",
              "      <td>120.65533</td>\n",
              "      <td>121.33866</td>\n",
              "      <td>118.67466</td>\n",
              "      <td>108.58483</td>\n",
              "      <td>125.45500</td>\n",
              "      <td>123.65499</td>\n",
              "    </tr>\n",
              "    <tr>\n",
              "      <th>2013-10-09</th>\n",
              "      <td>124.04900</td>\n",
              "      <td>123.03300</td>\n",
              "      <td>121.79500</td>\n",
              "      <td>120.65533</td>\n",
              "      <td>121.33866</td>\n",
              "      <td>118.67466</td>\n",
              "      <td>108.58483</td>\n",
              "      <td>125.45500</td>\n",
              "    </tr>\n",
              "    <tr>\n",
              "      <th>2013-10-10</th>\n",
              "      <td>125.96116</td>\n",
              "      <td>124.04900</td>\n",
              "      <td>123.03300</td>\n",
              "      <td>121.79500</td>\n",
              "      <td>120.65533</td>\n",
              "      <td>121.33866</td>\n",
              "      <td>118.67466</td>\n",
              "      <td>108.58483</td>\n",
              "    </tr>\n",
              "    <tr>\n",
              "      <th>2013-10-11</th>\n",
              "      <td>125.27966</td>\n",
              "      <td>125.96116</td>\n",
              "      <td>124.04900</td>\n",
              "      <td>123.03300</td>\n",
              "      <td>121.79500</td>\n",
              "      <td>120.65533</td>\n",
              "      <td>121.33866</td>\n",
              "      <td>118.67466</td>\n",
              "    </tr>\n",
              "    <tr>\n",
              "      <th>2013-10-12</th>\n",
              "      <td>125.92750</td>\n",
              "      <td>125.27966</td>\n",
              "      <td>125.96116</td>\n",
              "      <td>124.04900</td>\n",
              "      <td>123.03300</td>\n",
              "      <td>121.79500</td>\n",
              "      <td>120.65533</td>\n",
              "      <td>121.33866</td>\n",
              "    </tr>\n",
              "  </tbody>\n",
              "</table>\n",
              "</div>\n",
              "      <button class=\"colab-df-convert\" onclick=\"convertToInteractive('df-ecd26ebd-f743-4160-9a5b-59d3a366bcba')\"\n",
              "              title=\"Convert this dataframe to an interactive table.\"\n",
              "              style=\"display:none;\">\n",
              "        \n",
              "  <svg xmlns=\"http://www.w3.org/2000/svg\" height=\"24px\"viewBox=\"0 0 24 24\"\n",
              "       width=\"24px\">\n",
              "    <path d=\"M0 0h24v24H0V0z\" fill=\"none\"/>\n",
              "    <path d=\"M18.56 5.44l.94 2.06.94-2.06 2.06-.94-2.06-.94-.94-2.06-.94 2.06-2.06.94zm-11 1L8.5 8.5l.94-2.06 2.06-.94-2.06-.94L8.5 2.5l-.94 2.06-2.06.94zm10 10l.94 2.06.94-2.06 2.06-.94-2.06-.94-.94-2.06-.94 2.06-2.06.94z\"/><path d=\"M17.41 7.96l-1.37-1.37c-.4-.4-.92-.59-1.43-.59-.52 0-1.04.2-1.43.59L10.3 9.45l-7.72 7.72c-.78.78-.78 2.05 0 2.83L4 21.41c.39.39.9.59 1.41.59.51 0 1.02-.2 1.41-.59l7.78-7.78 2.81-2.81c.8-.78.8-2.07 0-2.86zM5.41 20L4 18.59l7.72-7.72 1.47 1.35L5.41 20z\"/>\n",
              "  </svg>\n",
              "      </button>\n",
              "      \n",
              "  <style>\n",
              "    .colab-df-container {\n",
              "      display:flex;\n",
              "      flex-wrap:wrap;\n",
              "      gap: 12px;\n",
              "    }\n",
              "\n",
              "    .colab-df-convert {\n",
              "      background-color: #E8F0FE;\n",
              "      border: none;\n",
              "      border-radius: 50%;\n",
              "      cursor: pointer;\n",
              "      display: none;\n",
              "      fill: #1967D2;\n",
              "      height: 32px;\n",
              "      padding: 0 0 0 0;\n",
              "      width: 32px;\n",
              "    }\n",
              "\n",
              "    .colab-df-convert:hover {\n",
              "      background-color: #E2EBFA;\n",
              "      box-shadow: 0px 1px 2px rgba(60, 64, 67, 0.3), 0px 1px 3px 1px rgba(60, 64, 67, 0.15);\n",
              "      fill: #174EA6;\n",
              "    }\n",
              "\n",
              "    [theme=dark] .colab-df-convert {\n",
              "      background-color: #3B4455;\n",
              "      fill: #D2E3FC;\n",
              "    }\n",
              "\n",
              "    [theme=dark] .colab-df-convert:hover {\n",
              "      background-color: #434B5C;\n",
              "      box-shadow: 0px 1px 3px 1px rgba(0, 0, 0, 0.15);\n",
              "      filter: drop-shadow(0px 1px 2px rgba(0, 0, 0, 0.3));\n",
              "      fill: #FFFFFF;\n",
              "    }\n",
              "  </style>\n",
              "\n",
              "      <script>\n",
              "        const buttonEl =\n",
              "          document.querySelector('#df-ecd26ebd-f743-4160-9a5b-59d3a366bcba button.colab-df-convert');\n",
              "        buttonEl.style.display =\n",
              "          google.colab.kernel.accessAllowed ? 'block' : 'none';\n",
              "\n",
              "        async function convertToInteractive(key) {\n",
              "          const element = document.querySelector('#df-ecd26ebd-f743-4160-9a5b-59d3a366bcba');\n",
              "          const dataTable =\n",
              "            await google.colab.kernel.invokeFunction('convertToInteractive',\n",
              "                                                     [key], {});\n",
              "          if (!dataTable) return;\n",
              "\n",
              "          const docLinkHtml = 'Like what you see? Visit the ' +\n",
              "            '<a target=\"_blank\" href=https://colab.research.google.com/notebooks/data_table.ipynb>data table notebook</a>'\n",
              "            + ' to learn more about interactive tables.';\n",
              "          element.innerHTML = '';\n",
              "          dataTable['output_type'] = 'display_data';\n",
              "          await google.colab.output.renderOutput(dataTable, element);\n",
              "          const docLink = document.createElement('div');\n",
              "          docLink.innerHTML = docLinkHtml;\n",
              "          element.appendChild(docLink);\n",
              "        }\n",
              "      </script>\n",
              "    </div>\n",
              "  </div>\n",
              "  "
            ],
            "text/plain": [
              "                Price    Price+1    Price+2  ...    Price+5    Price+6    Price+7\n",
              "Date                                         ...                                 \n",
              "2013-10-08  123.03300  121.79500  120.65533  ...  108.58483  125.45500  123.65499\n",
              "2013-10-09  124.04900  123.03300  121.79500  ...  118.67466  108.58483  125.45500\n",
              "2013-10-10  125.96116  124.04900  123.03300  ...  121.33866  118.67466  108.58483\n",
              "2013-10-11  125.27966  125.96116  124.04900  ...  120.65533  121.33866  118.67466\n",
              "2013-10-12  125.92750  125.27966  125.96116  ...  121.79500  120.65533  121.33866\n",
              "\n",
              "[5 rows x 8 columns]"
            ]
          },
          "metadata": {},
          "execution_count": 87
        }
      ]
    },
    {
      "cell_type": "code",
      "source": [
        "# make features and labels\n",
        "X = bitcoin_prices_nbeats.dropna().drop(\"Price\", axis=1)\n",
        "y = bitcoin_prices_nbeats.dropna()[\"Price\"]"
      ],
      "metadata": {
        "id": "WRd0es3eDpSC"
      },
      "execution_count": 88,
      "outputs": []
    },
    {
      "cell_type": "code",
      "source": [
        "# make train and test sets\n",
        "split_size = int(len(X) * 0.8)\n",
        "X_train, y_train = X[:split_size], y[:split_size]\n",
        "X_test, y_test = X[split_size:], y[split_size:]\n",
        "len(X_train), len(y_train), len(X_test), len(y_test)"
      ],
      "metadata": {
        "colab": {
          "base_uri": "https://localhost:8080/"
        },
        "id": "GqMsKr4EDtvg",
        "outputId": "8593f964-1680-4500-cb73-e78b79d54472"
      },
      "execution_count": 89,
      "outputs": [
        {
          "output_type": "execute_result",
          "data": {
            "text/plain": [
              "(2224, 2224, 556, 556)"
            ]
          },
          "metadata": {},
          "execution_count": 89
        }
      ]
    },
    {
      "cell_type": "code",
      "source": [
        "# 1. Turn train and test arrays into tensor Datasets\n",
        "train_features_dataset = tf.data.Dataset.from_tensor_slices(X_train)\n",
        "train_labels_dataset = tf.data.Dataset.from_tensor_slices(y_train)\n",
        "\n",
        "test_features_dataset = tf.data.Dataset.from_tensor_slices(X_test)\n",
        "test_labels_dataset = tf.data.Dataset.from_tensor_slices(y_test)\n",
        "\n",
        "# 2. Combine features & labels\n",
        "train_dataset = tf.data.Dataset.zip((train_features_dataset, train_labels_dataset))\n",
        "test_dataset = tf.data.Dataset.zip((test_features_dataset, test_labels_dataset))\n",
        "\n",
        "# 3. Batch and prefetch for optimal performance\n",
        "BATCH_SIZE = 1024 # taken from Appendix D in N-BEATS paper\n",
        "train_dataset = train_dataset.batch(BATCH_SIZE).prefetch(tf.data.AUTOTUNE)\n",
        "test_dataset = test_dataset.batch(BATCH_SIZE).prefetch(tf.data.AUTOTUNE)\n",
        "\n",
        "train_dataset, test_dataset"
      ],
      "metadata": {
        "colab": {
          "base_uri": "https://localhost:8080/"
        },
        "id": "ZKElQ3j8D0If",
        "outputId": "147642a7-1854-4f4e-f2f1-a3e0ea8565df"
      },
      "execution_count": 90,
      "outputs": [
        {
          "output_type": "execute_result",
          "data": {
            "text/plain": [
              "(<PrefetchDataset shapes: ((None, 7), (None,)), types: (tf.float64, tf.float64)>,\n",
              " <PrefetchDataset shapes: ((None, 7), (None,)), types: (tf.float64, tf.float64)>)"
            ]
          },
          "metadata": {},
          "execution_count": 90
        }
      ]
    },
    {
      "cell_type": "markdown",
      "source": [
        "### Set up hyperparameters for N-BEATS algorithm"
      ],
      "metadata": {
        "id": "HscNnxjnEL-H"
      }
    },
    {
      "cell_type": "code",
      "source": [
        "# Values from N-BEATS paper Figure 1 and Table 18/Appendix D\n",
        "N_EPOCHS = 5000 # called \"Iterations\" in Table 18\n",
        "N_NEURONS = 512 # called \"Width\" in Table 18\n",
        "N_LAYERS = 4\n",
        "N_STACKS = 30\n",
        "\n",
        "INPUT_SIZE = WINDOW_SIZE * HORIZON # called \"Lookback\" in Table 18\n",
        "THETA_SIZE = INPUT_SIZE + HORIZON\n",
        "\n",
        "INPUT_SIZE, THETA_SIZE"
      ],
      "metadata": {
        "colab": {
          "base_uri": "https://localhost:8080/"
        },
        "id": "bVHoHNL2EN_P",
        "outputId": "f0f0c203-5701-46ac-b40d-6adbb6d6c154"
      },
      "execution_count": 91,
      "outputs": [
        {
          "output_type": "execute_result",
          "data": {
            "text/plain": [
              "(7, 8)"
            ]
          },
          "metadata": {},
          "execution_count": 91
        }
      ]
    },
    {
      "cell_type": "markdown",
      "source": [
        "### Get ready for residual connections"
      ],
      "metadata": {
        "id": "-JzF5KspE2Bi"
      }
    },
    {
      "cell_type": "code",
      "source": [
        "# Make tensors\n",
        "tensor_1 = tf.range(10) + 10\n",
        "tensor_2 = tf.range(10)\n",
        "\n",
        "# Subtract\n",
        "subtracted = layers.subtract([tensor_1, tensor_2])\n",
        "\n",
        "# Add\n",
        "added = layers.add([tensor_1, tensor_2])\n",
        "\n",
        "print(f\"Input tensors: {tensor_1.numpy()} & {tensor_2.numpy()}\")\n",
        "print(f\"Subtracted: {subtracted.numpy()}\")\n",
        "print(f\"Added: {added.numpy()}\")"
      ],
      "metadata": {
        "colab": {
          "base_uri": "https://localhost:8080/"
        },
        "id": "bsX6r25tE4Hb",
        "outputId": "72b184e8-49c6-42a8-db11-4aab700f5b7e"
      },
      "execution_count": 92,
      "outputs": [
        {
          "output_type": "stream",
          "name": "stdout",
          "text": [
            "Input tensors: [10 11 12 13 14 15 16 17 18 19] & [0 1 2 3 4 5 6 7 8 9]\n",
            "Subtracted: [10 10 10 10 10 10 10 10 10 10]\n",
            "Added: [10 12 14 16 18 20 22 24 26 28]\n"
          ]
        }
      ]
    },
    {
      "cell_type": "markdown",
      "source": [
        "### Build, compile and fit the N-BEATS algorithm"
      ],
      "metadata": {
        "id": "yDF1vi3rE9ZD"
      }
    },
    {
      "cell_type": "code",
      "source": [
        "tf.random.set_seed(42)\n",
        "\n",
        "# setup N-Beats Block layer\n",
        "n_beats_block_layer = NBeatsBlock(input_size=INPUT_SIZE,\n",
        "                                  theta_size=THETA_SIZE,\n",
        "                                  horizon=HORIZON,\n",
        "                                  n_neurons=N_NEURONS,\n",
        "                                  n_layers=N_LAYERS,\n",
        "                                  name=\"InitialBlock\")\n",
        "\n",
        "# create input to stacks\n",
        "stack_input = layers.Input(shape=(INPUT_SIZE), name=\"stack_input\")\n",
        "\n",
        "# create initial backcast and forecast input\n",
        "backcast, forcast = n_beats_block_layer(stack_input)\n",
        "residuals = layers.subtract([stack_input, backcast], name=f\"subtract_00\") \n",
        "\n",
        "# create stacks of blocks\n",
        "for i, _ in enumerate(range(N_STACKS-1)):\n",
        "  backcast, block_forecast = NBeatsBlock(\n",
        "      input_size=INPUT_SIZE,\n",
        "      theta_size=THETA_SIZE,\n",
        "      horizon=HORIZON,\n",
        "      n_neurons=N_NEURONS,\n",
        "      n_layers=N_LAYERS,\n",
        "      name=f\"NBeatsBlock_{i}\"\n",
        "  )(residuals)\n",
        "\n",
        "  residuals = layers.subtract([residuals, backcast], name=f\"subtract_{i}\") \n",
        "  forecast = layers.add([forecast, block_forecast], name=f\"add_{i}\")\n",
        "\n",
        "# put the stack model together\n",
        "model_7 = tf.keras.Model(inputs=stack_input,\n",
        "                         outputs=forecast,\n",
        "                         name=\"model_7_N-BEATS\")\n",
        "\n",
        "# compile with MAE loss and Adam optimizer\n",
        "model_7.compile(loss=\"mae\",\n",
        "                optimizer=tf.keras.optimizers.Adam(0.01),\n",
        "                metrics=['mae', 'mse'])\n",
        "\n",
        "# fit the model\n",
        "model_7.fit(train_dataset,\n",
        "            epochs=N_EPOCHS,\n",
        "            validation_data=test_dataset,\n",
        "            verbose=0,\n",
        "            callbacks=[tf.keras.callbacks.EarlyStopping(monitor=\"val_loss\", patience=200, restore_best_weights=True),\n",
        "                      tf.keras.callbacks.ReduceLROnPlateau(monitor=\"val_loss\", patience=100, verbose=1)])"
      ],
      "metadata": {
        "colab": {
          "base_uri": "https://localhost:8080/"
        },
        "id": "nsE4s2Q9FAyJ",
        "outputId": "94bb15ad-ee06-44ba-c64d-51d85f7fc83c"
      },
      "execution_count": 93,
      "outputs": [
        {
          "output_type": "stream",
          "name": "stdout",
          "text": [
            "\n",
            "Epoch 00101: ReduceLROnPlateau reducing learning rate to 0.0009999999776482583.\n",
            "\n",
            "Epoch 00201: ReduceLROnPlateau reducing learning rate to 9.999999310821295e-05.\n"
          ]
        },
        {
          "output_type": "execute_result",
          "data": {
            "text/plain": [
              "<keras.callbacks.History at 0x7fd33a996cd0>"
            ]
          },
          "metadata": {},
          "execution_count": 93
        }
      ]
    },
    {
      "cell_type": "code",
      "source": [
        "# Evaluate N-BEATS model on the test dataset\n",
        "model_7.evaluate(test_dataset)"
      ],
      "metadata": {
        "colab": {
          "base_uri": "https://localhost:8080/"
        },
        "id": "Ztpp7oPdJZD5",
        "outputId": "ee6a28ab-60a9-4970-d266-22d5e66016a7"
      },
      "execution_count": 94,
      "outputs": [
        {
          "output_type": "stream",
          "name": "stdout",
          "text": [
            "1/1 [==============================] - 0s 24ms/step - loss: 979368.0625 - mae: 979368.0625 - mse: 1693616963584.0000\n"
          ]
        },
        {
          "output_type": "execute_result",
          "data": {
            "text/plain": [
              "[979368.0625, 979368.0625, 1693616963584.0]"
            ]
          },
          "metadata": {},
          "execution_count": 94
        }
      ]
    },
    {
      "cell_type": "code",
      "source": [
        "# Make predictions with N-BEATS model\n",
        "model_7_preds = make_preds(model_7, test_dataset)\n",
        "model_7_preds[:10]"
      ],
      "metadata": {
        "colab": {
          "base_uri": "https://localhost:8080/"
        },
        "id": "ASbAqjS-JgiD",
        "outputId": "f772f382-02ca-4706-f82e-200fb80a7774"
      },
      "execution_count": 95,
      "outputs": [
        {
          "output_type": "execute_result",
          "data": {
            "text/plain": [
              "<tf.Tensor: shape=(10,), dtype=float32, numpy=\n",
              "array([-442245., -434052., -429180., -434520., -427207., -414812.,\n",
              "       -426345., -417065., -411583., -410959.], dtype=float32)>"
            ]
          },
          "metadata": {},
          "execution_count": 95
        }
      ]
    },
    {
      "cell_type": "code",
      "source": [
        "# Evaluate N-BEATS model predictions\n",
        "model_7_results = evaluate_preds(y_true=y_test,\n",
        "                                 y_pred=model_7_preds)\n",
        "model_7_results"
      ],
      "metadata": {
        "colab": {
          "base_uri": "https://localhost:8080/"
        },
        "id": "0oH4zmk-JiMM",
        "outputId": "ab38293d-8860-4f0e-d62f-6ab09a7a37e7"
      },
      "execution_count": 96,
      "outputs": [
        {
          "output_type": "execute_result",
          "data": {
            "text/plain": [
              "{'mae': 979368.06,\n",
              " 'mape': 4887.2837,\n",
              " 'mase': 1720.4784,\n",
              " 'mse': 1693617000000.0,\n",
              " 'rmse': 1301390.4}"
            ]
          },
          "metadata": {},
          "execution_count": 96
        }
      ]
    },
    {
      "cell_type": "markdown",
      "source": [
        "## Model 8: Creating an ensemble"
      ],
      "metadata": {
        "id": "pRct2uSbJmj8"
      }
    },
    {
      "cell_type": "code",
      "source": [
        "HORIZON, WINDOW_SIZE"
      ],
      "metadata": {
        "colab": {
          "base_uri": "https://localhost:8080/"
        },
        "id": "eNB0vVkrJ7Mx",
        "outputId": "a8df8c91-4c9d-4d9a-d6cb-250501eb9d98"
      },
      "execution_count": 97,
      "outputs": [
        {
          "output_type": "execute_result",
          "data": {
            "text/plain": [
              "(1, 7)"
            ]
          },
          "metadata": {},
          "execution_count": 97
        }
      ]
    },
    {
      "cell_type": "markdown",
      "source": [
        "### Construct and fit and ensemble of models"
      ],
      "metadata": {
        "id": "x7q1-V_RvCeC"
      }
    },
    {
      "cell_type": "code",
      "source": [
        "def get_ensemble_models(horizon=HORIZON,\n",
        "                        train_data=train_dataset,\n",
        "                        test_data=test_dataset,\n",
        "                        num_iter=10,\n",
        "                        num_epochs=100,\n",
        "                        loss_fns=['mae','mse','mape']):\n",
        "  \"\"\"\n",
        "  retrun a list of num_iter models each trained on MAE, MSE, MAPE loss\n",
        "  \"\"\"\n",
        "  # make an empty list of trained ensemble models\n",
        "  ensemble_models = []\n",
        "\n",
        "  # create num_iter number of models per loss function\n",
        "  for i in range(num_iter):\n",
        "    # build and fit a new model with a different loss function\n",
        "    for loss_function in loss_fns:\n",
        "      print(f\"Optimizing model by reducing: {loss_function} for {num_epochs} epochs, model number: {i}\")\n",
        "\n",
        "      # construct a simple model\n",
        "      model = tf.keras.Sequential([\n",
        "        layers.Dense(128, kernel_initializer=\"he_normal\", activation=\"relu\"),\n",
        "        layers.Dense(128, kernel_initializer=\"he_normal\", activation=\"relu\"),\n",
        "        layers.Dense(HORIZON)                             \n",
        "      ])\n",
        "\n",
        "      # compile the simple model\n",
        "      model.compile(loss=loss_function,\n",
        "                    optimizer=tf.keras.optimizers.Adam(),\n",
        "                    metrics=[\"mae\", \"mse\"])\n",
        "      \n",
        "      # fit the model\n",
        "      model.fit(train_data,\n",
        "                epochs=num_epochs,\n",
        "                verbose=0,\n",
        "                validation_data=test_data,\n",
        "                callbacks=[tf.keras.callbacks.EarlyStopping(monitor=\"val_loss\",\n",
        "                                                            patience=200,\n",
        "                                                            restore_best_weights=True),\n",
        "                           tf.keras.callbacks.ReduceLROnPlateau(monitor=\"val_loss\",\n",
        "                                                                patience=100,\n",
        "                                                                verbose=1)])\n",
        "      # append fitted model to list of ensemble models\n",
        "      ensemble_models.append(model)\n",
        "  \n",
        "  return ensemble_models\n",
        "\n"
      ],
      "metadata": {
        "id": "k6CMerWUuzz1"
      },
      "execution_count": 103,
      "outputs": []
    },
    {
      "cell_type": "code",
      "source": [
        "# Get list of trained ensemble models\n",
        "ensemble_models = get_ensemble_models(num_iter=5,\n",
        "                                      num_epochs=1000)"
      ],
      "metadata": {
        "colab": {
          "base_uri": "https://localhost:8080/"
        },
        "id": "hGQoIwm30GFx",
        "outputId": "7ca4a678-1b0a-4a94-f016-9249c97138ef"
      },
      "execution_count": 104,
      "outputs": [
        {
          "output_type": "stream",
          "name": "stdout",
          "text": [
            "Optimizing model by reducing: mae for 1000 epochs, model number: 0\n",
            "\n",
            "Epoch 00987: ReduceLROnPlateau reducing learning rate to 0.00010000000474974513.\n",
            "Optimizing model by reducing: mse for 1000 epochs, model number: 0\n",
            "\n",
            "Epoch 00640: ReduceLROnPlateau reducing learning rate to 0.00010000000474974513.\n",
            "\n",
            "Epoch 00756: ReduceLROnPlateau reducing learning rate to 1.0000000474974514e-05.\n",
            "\n",
            "Epoch 00856: ReduceLROnPlateau reducing learning rate to 1.0000000656873453e-06.\n",
            "Optimizing model by reducing: mape for 1000 epochs, model number: 0\n",
            "\n",
            "Epoch 00168: ReduceLROnPlateau reducing learning rate to 0.00010000000474974513.\n",
            "\n",
            "Epoch 00268: ReduceLROnPlateau reducing learning rate to 1.0000000474974514e-05.\n",
            "Optimizing model by reducing: mae for 1000 epochs, model number: 1\n",
            "\n",
            "Epoch 00999: ReduceLROnPlateau reducing learning rate to 0.00010000000474974513.\n",
            "Optimizing model by reducing: mse for 1000 epochs, model number: 1\n",
            "\n",
            "Epoch 00425: ReduceLROnPlateau reducing learning rate to 0.00010000000474974513.\n",
            "\n",
            "Epoch 00525: ReduceLROnPlateau reducing learning rate to 1.0000000474974514e-05.\n",
            "Optimizing model by reducing: mape for 1000 epochs, model number: 1\n",
            "\n",
            "Epoch 00177: ReduceLROnPlateau reducing learning rate to 0.00010000000474974513.\n",
            "Optimizing model by reducing: mae for 1000 epochs, model number: 2\n",
            "\n",
            "Epoch 00889: ReduceLROnPlateau reducing learning rate to 0.00010000000474974513.\n",
            "Optimizing model by reducing: mse for 1000 epochs, model number: 2\n",
            "Optimizing model by reducing: mape for 1000 epochs, model number: 2\n",
            "\n",
            "Epoch 00296: ReduceLROnPlateau reducing learning rate to 0.00010000000474974513.\n",
            "\n",
            "Epoch 00396: ReduceLROnPlateau reducing learning rate to 1.0000000474974514e-05.\n",
            "Optimizing model by reducing: mae for 1000 epochs, model number: 3\n",
            "\n",
            "Epoch 00580: ReduceLROnPlateau reducing learning rate to 0.00010000000474974513.\n",
            "Optimizing model by reducing: mse for 1000 epochs, model number: 3\n",
            "\n",
            "Epoch 00391: ReduceLROnPlateau reducing learning rate to 0.00010000000474974513.\n",
            "\n",
            "Epoch 00491: ReduceLROnPlateau reducing learning rate to 1.0000000474974514e-05.\n",
            "Optimizing model by reducing: mape for 1000 epochs, model number: 3\n",
            "\n",
            "Epoch 00274: ReduceLROnPlateau reducing learning rate to 0.00010000000474974513.\n",
            "\n",
            "Epoch 00374: ReduceLROnPlateau reducing learning rate to 1.0000000474974514e-05.\n",
            "Optimizing model by reducing: mae for 1000 epochs, model number: 4\n",
            "Optimizing model by reducing: mse for 1000 epochs, model number: 4\n",
            "\n",
            "Epoch 00693: ReduceLROnPlateau reducing learning rate to 0.00010000000474974513.\n",
            "\n",
            "Epoch 00793: ReduceLROnPlateau reducing learning rate to 1.0000000474974514e-05.\n",
            "Optimizing model by reducing: mape for 1000 epochs, model number: 4\n",
            "\n",
            "Epoch 00132: ReduceLROnPlateau reducing learning rate to 0.00010000000474974513.\n",
            "\n",
            "Epoch 00563: ReduceLROnPlateau reducing learning rate to 1.0000000474974514e-05.\n",
            "\n",
            "Epoch 00663: ReduceLROnPlateau reducing learning rate to 1.0000000656873453e-06.\n",
            "\n",
            "Epoch 00763: ReduceLROnPlateau reducing learning rate to 1.0000001111620805e-07.\n"
          ]
        }
      ]
    },
    {
      "cell_type": "markdown",
      "source": [
        "### Make predictions with an ensemble model"
      ],
      "metadata": {
        "id": "IECq5UWN2AOj"
      }
    },
    {
      "cell_type": "code",
      "source": [
        "# Create a function which uses a list of trained models to make and return a list of predictions\n",
        "def make_ensemble_preds(ensemble_models, data):\n",
        "  ensemble_preds = []\n",
        "  for model in ensemble_models:\n",
        "    preds = model.predict(data) # make predictions with current ensemble model\n",
        "    ensemble_preds.append(preds)\n",
        "  return tf.constant(tf.squeeze(ensemble_preds))"
      ],
      "metadata": {
        "id": "aJfv7lUy2D3Q"
      },
      "execution_count": 105,
      "outputs": []
    },
    {
      "cell_type": "code",
      "source": [
        "# Create a list of ensemble predictions\n",
        "ensemble_preds = make_ensemble_preds(ensemble_models=ensemble_models,\n",
        "                                     data=test_dataset)\n",
        "ensemble_preds"
      ],
      "metadata": {
        "colab": {
          "base_uri": "https://localhost:8080/"
        },
        "id": "K9WQ8hH82Jgp",
        "outputId": "9d81ed2d-5ca3-4cf4-a147-2bd3b6c93a17"
      },
      "execution_count": 106,
      "outputs": [
        {
          "output_type": "stream",
          "name": "stdout",
          "text": [
            "WARNING:tensorflow:5 out of the last 22 calls to <function Model.make_predict_function.<locals>.predict_function at 0x7fd2b9cfdcb0> triggered tf.function retracing. Tracing is expensive and the excessive number of tracings could be due to (1) creating @tf.function repeatedly in a loop, (2) passing tensors with different shapes, (3) passing Python objects instead of tensors. For (1), please define your @tf.function outside of the loop. For (2), @tf.function has experimental_relax_shapes=True option that relaxes argument shapes that can avoid unnecessary retracing. For (3), please refer to https://www.tensorflow.org/guide/function#controlling_retracing and https://www.tensorflow.org/api_docs/python/tf/function for  more details.\n"
          ]
        },
        {
          "output_type": "stream",
          "name": "stderr",
          "text": [
            "WARNING:tensorflow:5 out of the last 22 calls to <function Model.make_predict_function.<locals>.predict_function at 0x7fd2b9cfdcb0> triggered tf.function retracing. Tracing is expensive and the excessive number of tracings could be due to (1) creating @tf.function repeatedly in a loop, (2) passing tensors with different shapes, (3) passing Python objects instead of tensors. For (1), please define your @tf.function outside of the loop. For (2), @tf.function has experimental_relax_shapes=True option that relaxes argument shapes that can avoid unnecessary retracing. For (3), please refer to https://www.tensorflow.org/guide/function#controlling_retracing and https://www.tensorflow.org/api_docs/python/tf/function for  more details.\n"
          ]
        },
        {
          "output_type": "stream",
          "name": "stdout",
          "text": [
            "WARNING:tensorflow:6 out of the last 23 calls to <function Model.make_predict_function.<locals>.predict_function at 0x7fd27bfdbcb0> triggered tf.function retracing. Tracing is expensive and the excessive number of tracings could be due to (1) creating @tf.function repeatedly in a loop, (2) passing tensors with different shapes, (3) passing Python objects instead of tensors. For (1), please define your @tf.function outside of the loop. For (2), @tf.function has experimental_relax_shapes=True option that relaxes argument shapes that can avoid unnecessary retracing. For (3), please refer to https://www.tensorflow.org/guide/function#controlling_retracing and https://www.tensorflow.org/api_docs/python/tf/function for  more details.\n"
          ]
        },
        {
          "output_type": "stream",
          "name": "stderr",
          "text": [
            "WARNING:tensorflow:6 out of the last 23 calls to <function Model.make_predict_function.<locals>.predict_function at 0x7fd27bfdbcb0> triggered tf.function retracing. Tracing is expensive and the excessive number of tracings could be due to (1) creating @tf.function repeatedly in a loop, (2) passing tensors with different shapes, (3) passing Python objects instead of tensors. For (1), please define your @tf.function outside of the loop. For (2), @tf.function has experimental_relax_shapes=True option that relaxes argument shapes that can avoid unnecessary retracing. For (3), please refer to https://www.tensorflow.org/guide/function#controlling_retracing and https://www.tensorflow.org/api_docs/python/tf/function for  more details.\n"
          ]
        },
        {
          "output_type": "execute_result",
          "data": {
            "text/plain": [
              "<tf.Tensor: shape=(15, 556), dtype=float32, numpy=\n",
              "array([[ 8778.355,  8773.731,  9047.666, ..., 50317.797, 49524.207,\n",
              "        46493.65 ],\n",
              "       [ 8766.593,  8744.877,  9057.469, ..., 49413.38 , 48507.145,\n",
              "        45347.375],\n",
              "       [ 8745.423,  8733.032,  9101.387, ..., 49267.17 , 47660.42 ,\n",
              "        45370.055],\n",
              "       ...,\n",
              "       [ 8896.456,  8757.007,  9032.771, ..., 49539.234, 49301.14 ,\n",
              "        46366.22 ],\n",
              "       [ 8723.885,  8800.434,  9099.885, ..., 49565.8  , 48506.27 ,\n",
              "        45015.38 ],\n",
              "       [ 8819.857,  8765.874,  9047.748, ..., 49759.977, 48066.59 ,\n",
              "        45878.656]], dtype=float32)>"
            ]
          },
          "metadata": {},
          "execution_count": 106
        }
      ]
    },
    {
      "cell_type": "code",
      "source": [
        "# Evaluate ensemble model(s) predictions\n",
        "ensemble_results = evaluate_preds(y_true=y_test,\n",
        "                                  y_pred=np.median(ensemble_preds, axis=0)) # take the median across all ensemble predictions\n",
        "ensemble_results"
      ],
      "metadata": {
        "colab": {
          "base_uri": "https://localhost:8080/"
        },
        "id": "PgBtg56P2NJL",
        "outputId": "4dafd4e1-1b7d-4c92-9bda-e74e091c3ea0"
      },
      "execution_count": 107,
      "outputs": [
        {
          "output_type": "execute_result",
          "data": {
            "text/plain": [
              "{'mae': 566.5914,\n",
              " 'mape': 2.5758984,\n",
              " 'mase': 0.9953441,\n",
              " 'mse': 1141066.6,\n",
              " 'rmse': 1068.2072}"
            ]
          },
          "metadata": {},
          "execution_count": 107
        }
      ]
    },
    {
      "cell_type": "markdown",
      "source": [
        "### Plotting the prediction intervals (uncertainty estimates) of our ensemble"
      ],
      "metadata": {
        "id": "ts6SMZWi2eB1"
      }
    },
    {
      "cell_type": "code",
      "source": [
        "# Find upper and lower bounds of ensemble predictions\n",
        "def get_upper_lower(preds): # 1. Take the predictions of multiple randomly initialized deep learning neural networks\n",
        "  \n",
        "  # 2. Measure the standard deviation of the predictions\n",
        "  std = tf.math.reduce_std(preds, axis=0)\n",
        "  \n",
        "  # 3. Multiply the standard deviation by 1.96\n",
        "  interval = 1.96 * std # https://en.wikipedia.org/wiki/1.96 \n",
        "\n",
        "  # 4. Get the prediction interval upper and lower bounds\n",
        "  preds_mean = tf.reduce_mean(preds, axis=0)\n",
        "  lower, upper = preds_mean - interval, preds_mean + interval\n",
        "  return lower, upper\n",
        "\n",
        "# Get the upper and lower bounds of the 95% \n",
        "lower, upper = get_upper_lower(preds=ensemble_preds)"
      ],
      "metadata": {
        "id": "4yyrRHAS2fMs"
      },
      "execution_count": 108,
      "outputs": []
    },
    {
      "cell_type": "code",
      "source": [
        "# Get the median values of our ensemble preds\n",
        "ensemble_median = np.median(ensemble_preds, axis=0)\n",
        "\n",
        "# Plot the median of our ensemble preds along with the prediction intervals (where the predictions fall between)\n",
        "offset=500\n",
        "plt.figure(figsize=(10, 7))\n",
        "plt.plot(X_test.index[offset:], y_test[offset:], \"g\", label=\"Test Data\")\n",
        "plt.plot(X_test.index[offset:], ensemble_median[offset:], \"k-\", label=\"Ensemble Median\")\n",
        "plt.xlabel(\"Date\")\n",
        "plt.ylabel(\"BTC Price\")\n",
        "plt.fill_between(X_test.index[offset:], \n",
        "                 (lower)[offset:], \n",
        "                 (upper)[offset:], label=\"Prediction Intervals\")\n",
        "plt.legend(loc=\"upper left\", fontsize=14);"
      ],
      "metadata": {
        "colab": {
          "base_uri": "https://localhost:8080/",
          "height": 442
        },
        "id": "lyjYBx9C2jda",
        "outputId": "2f821695-c19d-4285-f7ed-cf3ab1b5c19d"
      },
      "execution_count": 109,
      "outputs": [
        {
          "output_type": "display_data",
          "data": {
            "image/png": "[encoded data removed]",
            "text/plain": [
              "<Figure size 720x504 with 1 Axes>"
            ]
          },
          "metadata": {
            "needs_background": "light"
          }
        }
      ]
    },
    {
      "cell_type": "markdown",
      "source": [
        "## Model 9: Train a model on the full historical data to make predictions into future"
      ],
      "metadata": {
        "id": "Qi1_2s9w2qna"
      }
    },
    {
      "cell_type": "code",
      "source": [
        "bitcoin_prices_windowed.head()"
      ],
      "metadata": {
        "colab": {
          "base_uri": "https://localhost:8080/",
          "height": 238
        },
        "id": "gr6Iy1QX2ryF",
        "outputId": "84831bba-a6bd-479a-937b-a1198d6d7eb6"
      },
      "execution_count": 111,
      "outputs": [
        {
          "output_type": "execute_result",
          "data": {
            "text/html": [
              "\n",
              "  <div id=\"df-b8d2dd97-b6e6-446c-b2bc-f14013509606\">\n",
              "    <div class=\"colab-df-container\">\n",
              "      <div>\n",
              "<style scoped>\n",
              "    .dataframe tbody tr th:only-of-type {\n",
              "        vertical-align: middle;\n",
              "    }\n",
              "\n",
              "    .dataframe tbody tr th {\n",
              "        vertical-align: top;\n",
              "    }\n",
              "\n",
              "    .dataframe thead th {\n",
              "        text-align: right;\n",
              "    }\n",
              "</style>\n",
              "<table border=\"1\" class=\"dataframe\">\n",
              "  <thead>\n",
              "    <tr style=\"text-align: right;\">\n",
              "      <th></th>\n",
              "      <th>Price</th>\n",
              "      <th>block_reward</th>\n",
              "      <th>Price+1</th>\n",
              "      <th>Price+2</th>\n",
              "      <th>Price+3</th>\n",
              "      <th>Price+4</th>\n",
              "      <th>Price+5</th>\n",
              "      <th>Price+6</th>\n",
              "      <th>Price+7</th>\n",
              "    </tr>\n",
              "    <tr>\n",
              "      <th>Date</th>\n",
              "      <th></th>\n",
              "      <th></th>\n",
              "      <th></th>\n",
              "      <th></th>\n",
              "      <th></th>\n",
              "      <th></th>\n",
              "      <th></th>\n",
              "      <th></th>\n",
              "      <th></th>\n",
              "    </tr>\n",
              "  </thead>\n",
              "  <tbody>\n",
              "    <tr>\n",
              "      <th>2013-10-01</th>\n",
              "      <td>123.65499</td>\n",
              "      <td>25</td>\n",
              "      <td>NaN</td>\n",
              "      <td>NaN</td>\n",
              "      <td>NaN</td>\n",
              "      <td>NaN</td>\n",
              "      <td>NaN</td>\n",
              "      <td>NaN</td>\n",
              "      <td>NaN</td>\n",
              "    </tr>\n",
              "    <tr>\n",
              "      <th>2013-10-02</th>\n",
              "      <td>125.45500</td>\n",
              "      <td>25</td>\n",
              "      <td>123.65499</td>\n",
              "      <td>NaN</td>\n",
              "      <td>NaN</td>\n",
              "      <td>NaN</td>\n",
              "      <td>NaN</td>\n",
              "      <td>NaN</td>\n",
              "      <td>NaN</td>\n",
              "    </tr>\n",
              "    <tr>\n",
              "      <th>2013-10-03</th>\n",
              "      <td>108.58483</td>\n",
              "      <td>25</td>\n",
              "      <td>125.45500</td>\n",
              "      <td>123.65499</td>\n",
              "      <td>NaN</td>\n",
              "      <td>NaN</td>\n",
              "      <td>NaN</td>\n",
              "      <td>NaN</td>\n",
              "      <td>NaN</td>\n",
              "    </tr>\n",
              "    <tr>\n",
              "      <th>2013-10-04</th>\n",
              "      <td>118.67466</td>\n",
              "      <td>25</td>\n",
              "      <td>108.58483</td>\n",
              "      <td>125.45500</td>\n",
              "      <td>123.65499</td>\n",
              "      <td>NaN</td>\n",
              "      <td>NaN</td>\n",
              "      <td>NaN</td>\n",
              "      <td>NaN</td>\n",
              "    </tr>\n",
              "    <tr>\n",
              "      <th>2013-10-05</th>\n",
              "      <td>121.33866</td>\n",
              "      <td>25</td>\n",
              "      <td>118.67466</td>\n",
              "      <td>108.58483</td>\n",
              "      <td>125.45500</td>\n",
              "      <td>123.65499</td>\n",
              "      <td>NaN</td>\n",
              "      <td>NaN</td>\n",
              "      <td>NaN</td>\n",
              "    </tr>\n",
              "  </tbody>\n",
              "</table>\n",
              "</div>\n",
              "      <button class=\"colab-df-convert\" onclick=\"convertToInteractive('df-b8d2dd97-b6e6-446c-b2bc-f14013509606')\"\n",
              "              title=\"Convert this dataframe to an interactive table.\"\n",
              "              style=\"display:none;\">\n",
              "        \n",
              "  <svg xmlns=\"http://www.w3.org/2000/svg\" height=\"24px\"viewBox=\"0 0 24 24\"\n",
              "       width=\"24px\">\n",
              "    <path d=\"M0 0h24v24H0V0z\" fill=\"none\"/>\n",
              "    <path d=\"M18.56 5.44l.94 2.06.94-2.06 2.06-.94-2.06-.94-.94-2.06-.94 2.06-2.06.94zm-11 1L8.5 8.5l.94-2.06 2.06-.94-2.06-.94L8.5 2.5l-.94 2.06-2.06.94zm10 10l.94 2.06.94-2.06 2.06-.94-2.06-.94-.94-2.06-.94 2.06-2.06.94z\"/><path d=\"M17.41 7.96l-1.37-1.37c-.4-.4-.92-.59-1.43-.59-.52 0-1.04.2-1.43.59L10.3 9.45l-7.72 7.72c-.78.78-.78 2.05 0 2.83L4 21.41c.39.39.9.59 1.41.59.51 0 1.02-.2 1.41-.59l7.78-7.78 2.81-2.81c.8-.78.8-2.07 0-2.86zM5.41 20L4 18.59l7.72-7.72 1.47 1.35L5.41 20z\"/>\n",
              "  </svg>\n",
              "      </button>\n",
              "      \n",
              "  <style>\n",
              "    .colab-df-container {\n",
              "      display:flex;\n",
              "      flex-wrap:wrap;\n",
              "      gap: 12px;\n",
              "    }\n",
              "\n",
              "    .colab-df-convert {\n",
              "      background-color: #E8F0FE;\n",
              "      border: none;\n",
              "      border-radius: 50%;\n",
              "      cursor: pointer;\n",
              "      display: none;\n",
              "      fill: #1967D2;\n",
              "      height: 32px;\n",
              "      padding: 0 0 0 0;\n",
              "      width: 32px;\n",
              "    }\n",
              "\n",
              "    .colab-df-convert:hover {\n",
              "      background-color: #E2EBFA;\n",
              "      box-shadow: 0px 1px 2px rgba(60, 64, 67, 0.3), 0px 1px 3px 1px rgba(60, 64, 67, 0.15);\n",
              "      fill: #174EA6;\n",
              "    }\n",
              "\n",
              "    [theme=dark] .colab-df-convert {\n",
              "      background-color: #3B4455;\n",
              "      fill: #D2E3FC;\n",
              "    }\n",
              "\n",
              "    [theme=dark] .colab-df-convert:hover {\n",
              "      background-color: #434B5C;\n",
              "      box-shadow: 0px 1px 3px 1px rgba(0, 0, 0, 0.15);\n",
              "      filter: drop-shadow(0px 1px 2px rgba(0, 0, 0, 0.3));\n",
              "      fill: #FFFFFF;\n",
              "    }\n",
              "  </style>\n",
              "\n",
              "      <script>\n",
              "        const buttonEl =\n",
              "          document.querySelector('#df-b8d2dd97-b6e6-446c-b2bc-f14013509606 button.colab-df-convert');\n",
              "        buttonEl.style.display =\n",
              "          google.colab.kernel.accessAllowed ? 'block' : 'none';\n",
              "\n",
              "        async function convertToInteractive(key) {\n",
              "          const element = document.querySelector('#df-b8d2dd97-b6e6-446c-b2bc-f14013509606');\n",
              "          const dataTable =\n",
              "            await google.colab.kernel.invokeFunction('convertToInteractive',\n",
              "                                                     [key], {});\n",
              "          if (!dataTable) return;\n",
              "\n",
              "          const docLinkHtml = 'Like what you see? Visit the ' +\n",
              "            '<a target=\"_blank\" href=https://colab.research.google.com/notebooks/data_table.ipynb>data table notebook</a>'\n",
              "            + ' to learn more about interactive tables.';\n",
              "          element.innerHTML = '';\n",
              "          dataTable['output_type'] = 'display_data';\n",
              "          await google.colab.output.renderOutput(dataTable, element);\n",
              "          const docLink = document.createElement('div');\n",
              "          docLink.innerHTML = docLinkHtml;\n",
              "          element.appendChild(docLink);\n",
              "        }\n",
              "      </script>\n",
              "    </div>\n",
              "  </div>\n",
              "  "
            ],
            "text/plain": [
              "                Price block_reward    Price+1  ...  Price+5  Price+6  Price+7\n",
              "Date                                           ...                           \n",
              "2013-10-01  123.65499           25        NaN  ...      NaN      NaN      NaN\n",
              "2013-10-02  125.45500           25  123.65499  ...      NaN      NaN      NaN\n",
              "2013-10-03  108.58483           25  125.45500  ...      NaN      NaN      NaN\n",
              "2013-10-04  118.67466           25  108.58483  ...      NaN      NaN      NaN\n",
              "2013-10-05  121.33866           25  118.67466  ...      NaN      NaN      NaN\n",
              "\n",
              "[5 rows x 9 columns]"
            ]
          },
          "metadata": {},
          "execution_count": 111
        }
      ]
    },
    {
      "cell_type": "code",
      "source": [
        "# Train model on entire data to make prediction for the next day \n",
        "X_all = bitcoin_prices_windowed.drop([\"Price\", \"block_reward\"], axis=1).dropna().to_numpy() \n",
        "y_all = bitcoin_prices_windowed.dropna()[\"Price\"].to_numpy()"
      ],
      "metadata": {
        "id": "ZStTMY5FFST9"
      },
      "execution_count": 112,
      "outputs": []
    },
    {
      "cell_type": "code",
      "source": [
        "# 1. Turn X and y into tensor Datasets\n",
        "features_dataset_all = tf.data.Dataset.from_tensor_slices(X_all)\n",
        "labels_dataset_all = tf.data.Dataset.from_tensor_slices(y_all)\n",
        "\n",
        "# 2. Combine features & labels\n",
        "dataset_all = tf.data.Dataset.zip((features_dataset_all, labels_dataset_all))\n",
        "\n",
        "# 3. Batch and prefetch for optimal performance\n",
        "BATCH_SIZE = 1024 # taken from Appendix D in N-BEATS paper\n",
        "dataset_all = dataset_all.batch(BATCH_SIZE).prefetch(tf.data.AUTOTUNE)\n",
        "\n",
        "dataset_all"
      ],
      "metadata": {
        "colab": {
          "base_uri": "https://localhost:8080/"
        },
        "id": "EQ-9E33oFeEj",
        "outputId": "95ccf48a-1034-4122-c136-b1bf04175e8a"
      },
      "execution_count": 113,
      "outputs": [
        {
          "output_type": "execute_result",
          "data": {
            "text/plain": [
              "<PrefetchDataset shapes: ((None, 7), (None,)), types: (tf.float64, tf.float64)>"
            ]
          },
          "metadata": {},
          "execution_count": 113
        }
      ]
    },
    {
      "cell_type": "code",
      "source": [
        "tf.random.set_seed(42)\n",
        "\n",
        "# Create model (nice and simple, just to test)\n",
        "model_9 = tf.keras.Sequential([\n",
        "  layers.Dense(128, activation=\"relu\"),\n",
        "  layers.Dense(128, activation=\"relu\"),\n",
        "  layers.Dense(HORIZON)\n",
        "])\n",
        "\n",
        "# Compile\n",
        "model_9.compile(loss=tf.keras.losses.mae,\n",
        "                optimizer=tf.keras.optimizers.Adam())\n",
        "\n",
        "# Fit model on all of the data to make future forecasts\n",
        "model_9.fit(dataset_all,\n",
        "            epochs=100,\n",
        "            verbose=0) "
      ],
      "metadata": {
        "colab": {
          "base_uri": "https://localhost:8080/"
        },
        "id": "qKDYYe6wFfZC",
        "outputId": "17e657cc-8fd9-44c1-ca67-92d0592e3d16"
      },
      "execution_count": 114,
      "outputs": [
        {
          "output_type": "execute_result",
          "data": {
            "text/plain": [
              "<keras.callbacks.History at 0x7fd27b199350>"
            ]
          },
          "metadata": {},
          "execution_count": 114
        }
      ]
    },
    {
      "cell_type": "markdown",
      "source": [
        "### Make prediction into the future"
      ],
      "metadata": {
        "id": "dYN6nHpXFrT6"
      }
    },
    {
      "cell_type": "code",
      "source": [
        "INTO_FUTURE = 14 "
      ],
      "metadata": {
        "id": "eyVoT1ZoFuV0"
      },
      "execution_count": 115,
      "outputs": []
    },
    {
      "cell_type": "code",
      "source": [
        "# Create function to make predictions into the future\n",
        "def make_future_forecast(values, model, into_future, window_size=WINDOW_SIZE) -> list:\n",
        "  \"\"\"\n",
        "  Makes future forecasts into_future steps after values ends.\n",
        "\n",
        "  Returns future forecasts as list of floats.  \n",
        "  \"\"\"\n",
        "  # make an empty list for future forecasts/prepare data to forecast on\n",
        "  future_forecast = []\n",
        "  last_window = values[-WINDOW_SIZE:]\n",
        "\n",
        "  # Make INTO_FUTURE number of predictions, altering the data which gets predicted on each time \n",
        "  for _ in range(into_future):\n",
        "    # predict on last window then append it again\n",
        "    future_pred = model.predict(tf.expand_dims(last_window, axis=0))\n",
        "    print(f\"Predicting on: \\n {last_window} -> Prediction: {tf.squeeze(future_pred).numpy()}\\n\")\n",
        "\n",
        "    # append predictions to future forecast\n",
        "    future_forecast.append(tf.squeeze(future_pred).numpy())\n",
        "\n",
        "    # update last window with new pred and get WINDOW_SIZE most recent preds (model was trained on WINDOW_SIZE windows)\n",
        "    last_window = np.append(last_window, future_pred)[-WINDOW_SIZE:]\n",
        "  \n",
        "  return future_forecast"
      ],
      "metadata": {
        "id": "BN5vK3gnGBrG"
      },
      "execution_count": 116,
      "outputs": []
    },
    {
      "cell_type": "code",
      "source": [
        "future_forecast = make_future_forecast(values=y_all,\n",
        "                                       model=model_9,\n",
        "                                       into_future=INTO_FUTURE,\n",
        "                                       window_size=WINDOW_SIZE)"
      ],
      "metadata": {
        "colab": {
          "base_uri": "https://localhost:8080/"
        },
        "id": "JEJWn02aHE8u",
        "outputId": "3c4649e9-26c0-4584-fb4b-be62669e93e9"
      },
      "execution_count": 147,
      "outputs": [
        {
          "output_type": "stream",
          "name": "stdout",
          "text": [
            "Predicting on: \n",
            " [56573.5554719  52147.82118698 49764.1320816  50032.69313676\n",
            " 47885.62525472 45604.61575361 43144.47129086] -> Prediction: 55764.46484375\n",
            "\n",
            "Predicting on: \n",
            " [52147.82118698 49764.1320816  50032.69313676 47885.62525472\n",
            " 45604.61575361 43144.47129086 55764.46484375] -> Prediction: 50985.9453125\n",
            "\n",
            "Predicting on: \n",
            " [49764.1320816  50032.69313676 47885.62525472 45604.61575361\n",
            " 43144.47129086 55764.46484375 50985.9453125 ] -> Prediction: 48522.96875\n",
            "\n",
            "Predicting on: \n",
            " [50032.69313676 47885.62525472 45604.61575361 43144.47129086\n",
            " 55764.46484375 50985.9453125  48522.96875   ] -> Prediction: 48137.203125\n",
            "\n",
            "Predicting on: \n",
            " [47885.62525472 45604.61575361 43144.47129086 55764.46484375\n",
            " 50985.9453125  48522.96875    48137.203125  ] -> Prediction: 47880.6328125\n",
            "\n",
            "Predicting on: \n",
            " [45604.61575361 43144.47129086 55764.46484375 50985.9453125\n",
            " 48522.96875    48137.203125   47880.6328125 ] -> Prediction: 46879.71484375\n",
            "\n",
            "Predicting on: \n",
            " [43144.47129086 55764.46484375 50985.9453125  48522.96875\n",
            " 48137.203125   47880.6328125  46879.71484375] -> Prediction: 48227.59765625\n",
            "\n",
            "Predicting on: \n",
            " [55764.46484375 50985.9453125  48522.96875    48137.203125\n",
            " 47880.6328125  46879.71484375 48227.59765625] -> Prediction: 53963.69140625\n",
            "\n",
            "Predicting on: \n",
            " [50985.9453125  48522.96875    48137.203125   47880.6328125\n",
            " 46879.71484375 48227.59765625 53963.69140625] -> Prediction: 49685.55859375\n",
            "\n",
            "Predicting on: \n",
            " [48522.96875    48137.203125   47880.6328125  46879.71484375\n",
            " 48227.59765625 53963.69140625 49685.55859375] -> Prediction: 47596.17578125\n",
            "\n",
            "Predicting on: \n",
            " [48137.203125   47880.6328125  46879.71484375 48227.59765625\n",
            " 53963.69140625 49685.55859375 47596.17578125] -> Prediction: 48114.42578125\n",
            "\n",
            "Predicting on: \n",
            " [47880.6328125  46879.71484375 48227.59765625 53963.69140625\n",
            " 49685.55859375 47596.17578125 48114.42578125] -> Prediction: 48808.00390625\n",
            "\n",
            "Predicting on: \n",
            " [46879.71484375 48227.59765625 53963.69140625 49685.55859375\n",
            " 47596.17578125 48114.42578125 48808.00390625] -> Prediction: 48623.84765625\n",
            "\n",
            "Predicting on: \n",
            " [48227.59765625 53963.69140625 49685.55859375 47596.17578125\n",
            " 48114.42578125 48808.00390625 48623.84765625] -> Prediction: 50178.72265625\n",
            "\n"
          ]
        }
      ]
    },
    {
      "cell_type": "code",
      "source": [
        "future_forecast[:10]"
      ],
      "metadata": {
        "colab": {
          "base_uri": "https://localhost:8080/"
        },
        "id": "b2xPN1MtHH92",
        "outputId": "28a08d05-8976-41ed-a026-be53aadc7b71"
      },
      "execution_count": 148,
      "outputs": [
        {
          "output_type": "execute_result",
          "data": {
            "text/plain": [
              "[55764.465,\n",
              " 50985.945,\n",
              " 48522.97,\n",
              " 48137.203,\n",
              " 47880.633,\n",
              " 46879.715,\n",
              " 48227.598,\n",
              " 53963.69,\n",
              " 49685.56,\n",
              " 47596.176]"
            ]
          },
          "metadata": {},
          "execution_count": 148
        }
      ]
    },
    {
      "cell_type": "markdown",
      "source": [
        "### Plot future forecasts"
      ],
      "metadata": {
        "id": "sgOJcdi8HKpq"
      }
    },
    {
      "cell_type": "code",
      "source": [
        "def get_future_dates(start_date, into_future, offset=1):\n",
        "  \"\"\"\n",
        "  Returns array of datetime values from ranging from start_date to start_date+horizon.\n",
        "\n",
        "  start_date: date to start range (np.datetime64)\n",
        "  into_future: number of days to add onto start date for range (int)\n",
        "  offset: number of days to offset start_date by (default 1)\n",
        "  \"\"\"\n",
        "  start_date = start_date + np.timedelta64(offset, \"D\")\n",
        "  end_date = start_date + np.timedelta64(into_future, \"D\")\n",
        "  return np.arange(start_date, end_date, dtype=\"datetime64[D]\")  "
      ],
      "metadata": {
        "id": "TxBn198QHLxe"
      },
      "execution_count": 149,
      "outputs": []
    },
    {
      "cell_type": "code",
      "source": [
        "# last timestep of timesteps (currently in np.datetime64 format)\n",
        "last_timestep = bitcoin_prices.index[-1]\n",
        "last_timestep"
      ],
      "metadata": {
        "colab": {
          "base_uri": "https://localhost:8080/"
        },
        "id": "1lCB4ykrHulz",
        "outputId": "7773a4eb-772d-4e22-a436-4d3561a279be"
      },
      "execution_count": 150,
      "outputs": [
        {
          "output_type": "execute_result",
          "data": {
            "text/plain": [
              "Timestamp('2021-05-18 00:00:00')"
            ]
          },
          "metadata": {},
          "execution_count": 150
        }
      ]
    },
    {
      "cell_type": "code",
      "source": [
        "# get next two weeks of timesteps\n",
        "next_time_steps = get_future_dates(start_date=last_timestep, \n",
        "                                   into_future=INTO_FUTURE)\n",
        "next_time_steps"
      ],
      "metadata": {
        "colab": {
          "base_uri": "https://localhost:8080/"
        },
        "id": "4puwCiznHyRg",
        "outputId": "71297b3e-031e-4bf8-fac7-1859c3384b77"
      },
      "execution_count": 151,
      "outputs": [
        {
          "output_type": "execute_result",
          "data": {
            "text/plain": [
              "array(['2021-05-19', '2021-05-20', '2021-05-21', '2021-05-22',\n",
              "       '2021-05-23', '2021-05-24', '2021-05-25', '2021-05-26',\n",
              "       '2021-05-27', '2021-05-28', '2021-05-29', '2021-05-30',\n",
              "       '2021-05-31', '2021-06-01'], dtype='datetime64[D]')"
            ]
          },
          "metadata": {},
          "execution_count": 151
        }
      ]
    },
    {
      "cell_type": "code",
      "source": [
        "# insert last timestep/final price so the graph doesn't look messed\n",
        "next_time_steps = np.insert(next_time_steps, 0, last_timestep)\n",
        "future_forecast = np.insert(future_forecast, 0, bitcoin_prices['Price'].to_list()[-1])\n",
        "next_time_steps, future_forecast"
      ],
      "metadata": {
        "colab": {
          "base_uri": "https://localhost:8080/"
        },
        "id": "hsJlFBYtH8Zl",
        "outputId": "43a03fdd-499f-4dc4-dcc4-84e78548e254"
      },
      "execution_count": 152,
      "outputs": [
        {
          "output_type": "execute_result",
          "data": {
            "text/plain": [
              "(array(['2021-05-18', '2021-05-19', '2021-05-20', '2021-05-21',\n",
              "        '2021-05-22', '2021-05-23', '2021-05-24', '2021-05-25',\n",
              "        '2021-05-26', '2021-05-27', '2021-05-28', '2021-05-29',\n",
              "        '2021-05-30', '2021-05-31', '2021-06-01'], dtype='datetime64[D]'),\n",
              " array([43144.473, 55764.465, 50985.945, 48522.97 , 48137.203, 47880.633,\n",
              "        46879.715, 48227.598, 53963.69 , 49685.56 , 47596.176, 48114.426,\n",
              "        48808.004, 48623.848, 50178.723], dtype=float32))"
            ]
          },
          "metadata": {},
          "execution_count": 152
        }
      ]
    },
    {
      "cell_type": "code",
      "source": [
        "# Plot future price predictions of Bitcoin\n",
        "plt.figure(figsize=(10, 7))\n",
        "plot_time_series(bitcoin_prices.index, bitcoin_prices['Price'].to_list(), start=2500, format=\"-\", label=\"Actual BTC Price\")\n",
        "plot_time_series(next_time_steps, future_forecast, format=\"-\", label=\"Predicted BTC Price\")"
      ],
      "metadata": {
        "colab": {
          "base_uri": "https://localhost:8080/",
          "height": 442
        },
        "id": "MOlHmoTNICvc",
        "outputId": "f4d2e7da-9e21-4c0a-ee96-2ade23f35958"
      },
      "execution_count": 153,
      "outputs": [
        {
          "output_type": "display_data",
          "data": {
            "image/png": "[encoded data removed]",
            "text/plain": [
              "<Figure size 720x504 with 1 Axes>"
            ]
          },
          "metadata": {
            "needs_background": "light"
          }
        }
      ]
    },
    {
      "cell_type": "markdown",
      "source": [
        "## Compare all model results"
      ],
      "metadata": {
        "id": "g7cPOjyJL4ls"
      }
    },
    {
      "cell_type": "code",
      "source": [
        "# Compare different model results (w = window, h = horizon, e.g. w=7 means a window size of 7)\n",
        "model_results = pd.DataFrame({\"naive_model\": model_0_results,\n",
        "                              \"model_1_dense_w7_h1\": model_1_results,\n",
        "                              \"model_2_dense_w30_h1\": model_2_results,\n",
        "                              \"model_3_dense_w30_h7\": model_3_results,\n",
        "                              \"model_4_CONV1D\": model_4_results,\n",
        "                              \"model_5_LSTM\": model_5_results,\n",
        "                              \"model_6_multivariate\": model_6_results,\n",
        "                              \"model_8_NBEATs\": model_7_results,\n",
        "                              \"model_9_ensemble\": ensemble_results}).T\n",
        "model_results.head(10)"
      ],
      "metadata": {
        "colab": {
          "base_uri": "https://localhost:8080/",
          "height": 332
        },
        "id": "7zbrMQvFL7Gu",
        "outputId": "587e1d9b-64ef-4daa-c676-763a88afa0df"
      },
      "execution_count": 159,
      "outputs": [
        {
          "output_type": "execute_result",
          "data": {
            "text/html": [
              "\n",
              "  <div id=\"df-8968359d-0851-4bf0-88d0-24a395440441\">\n",
              "    <div class=\"colab-df-container\">\n",
              "      <div>\n",
              "<style scoped>\n",
              "    .dataframe tbody tr th:only-of-type {\n",
              "        vertical-align: middle;\n",
              "    }\n",
              "\n",
              "    .dataframe tbody tr th {\n",
              "        vertical-align: top;\n",
              "    }\n",
              "\n",
              "    .dataframe thead th {\n",
              "        text-align: right;\n",
              "    }\n",
              "</style>\n",
              "<table border=\"1\" class=\"dataframe\">\n",
              "  <thead>\n",
              "    <tr style=\"text-align: right;\">\n",
              "      <th></th>\n",
              "      <th>mae</th>\n",
              "      <th>mse</th>\n",
              "      <th>rmse</th>\n",
              "      <th>mape</th>\n",
              "      <th>mase</th>\n",
              "    </tr>\n",
              "  </thead>\n",
              "  <tbody>\n",
              "    <tr>\n",
              "      <th>naive_model</th>\n",
              "      <td>567.980225</td>\n",
              "      <td>5.679802e+02</td>\n",
              "      <td>2.383234e+01</td>\n",
              "      <td>2.516525</td>\n",
              "      <td>0.999570</td>\n",
              "    </tr>\n",
              "    <tr>\n",
              "      <th>model_1_dense_w7_h1</th>\n",
              "      <td>585.975281</td>\n",
              "      <td>5.859753e+02</td>\n",
              "      <td>2.420693e+01</td>\n",
              "      <td>2.614908</td>\n",
              "      <td>1.029396</td>\n",
              "    </tr>\n",
              "    <tr>\n",
              "      <th>model_2_dense_w30_h1</th>\n",
              "      <td>608.961975</td>\n",
              "      <td>6.089620e+02</td>\n",
              "      <td>2.467715e+01</td>\n",
              "      <td>2.769341</td>\n",
              "      <td>1.064471</td>\n",
              "    </tr>\n",
              "    <tr>\n",
              "      <th>model_3_dense_w30_h7</th>\n",
              "      <td>1234.883667</td>\n",
              "      <td>5.393734e+06</td>\n",
              "      <td>1.419136e+03</td>\n",
              "      <td>5.487498</td>\n",
              "      <td>2.197406</td>\n",
              "    </tr>\n",
              "    <tr>\n",
              "      <th>model_4_CONV1D</th>\n",
              "      <td>570.828430</td>\n",
              "      <td>1.176672e+06</td>\n",
              "      <td>1.084745e+03</td>\n",
              "      <td>2.559335</td>\n",
              "      <td>1.002787</td>\n",
              "    </tr>\n",
              "    <tr>\n",
              "      <th>model_5_LSTM</th>\n",
              "      <td>597.462341</td>\n",
              "      <td>1.275416e+06</td>\n",
              "      <td>1.129343e+03</td>\n",
              "      <td>2.691097</td>\n",
              "      <td>1.049576</td>\n",
              "    </tr>\n",
              "    <tr>\n",
              "      <th>model_6_multivariate</th>\n",
              "      <td>568.449219</td>\n",
              "      <td>1.162442e+06</td>\n",
              "      <td>1.078166e+03</td>\n",
              "      <td>2.555887</td>\n",
              "      <td>0.998608</td>\n",
              "    </tr>\n",
              "    <tr>\n",
              "      <th>model_8_NBEATs</th>\n",
              "      <td>979368.062500</td>\n",
              "      <td>1.693617e+12</td>\n",
              "      <td>1.301390e+06</td>\n",
              "      <td>4887.283691</td>\n",
              "      <td>1720.478394</td>\n",
              "    </tr>\n",
              "    <tr>\n",
              "      <th>model_9_ensemble</th>\n",
              "      <td>566.591370</td>\n",
              "      <td>1.141067e+06</td>\n",
              "      <td>1.068207e+03</td>\n",
              "      <td>2.575898</td>\n",
              "      <td>0.995344</td>\n",
              "    </tr>\n",
              "  </tbody>\n",
              "</table>\n",
              "</div>\n",
              "      <button class=\"colab-df-convert\" onclick=\"convertToInteractive('df-8968359d-0851-4bf0-88d0-24a395440441')\"\n",
              "              title=\"Convert this dataframe to an interactive table.\"\n",
              "              style=\"display:none;\">\n",
              "        \n",
              "  <svg xmlns=\"http://www.w3.org/2000/svg\" height=\"24px\"viewBox=\"0 0 24 24\"\n",
              "       width=\"24px\">\n",
              "    <path d=\"M0 0h24v24H0V0z\" fill=\"none\"/>\n",
              "    <path d=\"M18.56 5.44l.94 2.06.94-2.06 2.06-.94-2.06-.94-.94-2.06-.94 2.06-2.06.94zm-11 1L8.5 8.5l.94-2.06 2.06-.94-2.06-.94L8.5 2.5l-.94 2.06-2.06.94zm10 10l.94 2.06.94-2.06 2.06-.94-2.06-.94-.94-2.06-.94 2.06-2.06.94z\"/><path d=\"M17.41 7.96l-1.37-1.37c-.4-.4-.92-.59-1.43-.59-.52 0-1.04.2-1.43.59L10.3 9.45l-7.72 7.72c-.78.78-.78 2.05 0 2.83L4 21.41c.39.39.9.59 1.41.59.51 0 1.02-.2 1.41-.59l7.78-7.78 2.81-2.81c.8-.78.8-2.07 0-2.86zM5.41 20L4 18.59l7.72-7.72 1.47 1.35L5.41 20z\"/>\n",
              "  </svg>\n",
              "      </button>\n",
              "      \n",
              "  <style>\n",
              "    .colab-df-container {\n",
              "      display:flex;\n",
              "      flex-wrap:wrap;\n",
              "      gap: 12px;\n",
              "    }\n",
              "\n",
              "    .colab-df-convert {\n",
              "      background-color: #E8F0FE;\n",
              "      border: none;\n",
              "      border-radius: 50%;\n",
              "      cursor: pointer;\n",
              "      display: none;\n",
              "      fill: #1967D2;\n",
              "      height: 32px;\n",
              "      padding: 0 0 0 0;\n",
              "      width: 32px;\n",
              "    }\n",
              "\n",
              "    .colab-df-convert:hover {\n",
              "      background-color: #E2EBFA;\n",
              "      box-shadow: 0px 1px 2px rgba(60, 64, 67, 0.3), 0px 1px 3px 1px rgba(60, 64, 67, 0.15);\n",
              "      fill: #174EA6;\n",
              "    }\n",
              "\n",
              "    [theme=dark] .colab-df-convert {\n",
              "      background-color: #3B4455;\n",
              "      fill: #D2E3FC;\n",
              "    }\n",
              "\n",
              "    [theme=dark] .colab-df-convert:hover {\n",
              "      background-color: #434B5C;\n",
              "      box-shadow: 0px 1px 3px 1px rgba(0, 0, 0, 0.15);\n",
              "      filter: drop-shadow(0px 1px 2px rgba(0, 0, 0, 0.3));\n",
              "      fill: #FFFFFF;\n",
              "    }\n",
              "  </style>\n",
              "\n",
              "      <script>\n",
              "        const buttonEl =\n",
              "          document.querySelector('#df-8968359d-0851-4bf0-88d0-24a395440441 button.colab-df-convert');\n",
              "        buttonEl.style.display =\n",
              "          google.colab.kernel.accessAllowed ? 'block' : 'none';\n",
              "\n",
              "        async function convertToInteractive(key) {\n",
              "          const element = document.querySelector('#df-8968359d-0851-4bf0-88d0-24a395440441');\n",
              "          const dataTable =\n",
              "            await google.colab.kernel.invokeFunction('convertToInteractive',\n",
              "                                                     [key], {});\n",
              "          if (!dataTable) return;\n",
              "\n",
              "          const docLinkHtml = 'Like what you see? Visit the ' +\n",
              "            '<a target=\"_blank\" href=https://colab.research.google.com/notebooks/data_table.ipynb>data table notebook</a>'\n",
              "            + ' to learn more about interactive tables.';\n",
              "          element.innerHTML = '';\n",
              "          dataTable['output_type'] = 'display_data';\n",
              "          await google.colab.output.renderOutput(dataTable, element);\n",
              "          const docLink = document.createElement('div');\n",
              "          docLink.innerHTML = docLinkHtml;\n",
              "          element.appendChild(docLink);\n",
              "        }\n",
              "      </script>\n",
              "    </div>\n",
              "  </div>\n",
              "  "
            ],
            "text/plain": [
              "                                mae           mse  ...         mape         mase\n",
              "naive_model              567.980225  5.679802e+02  ...     2.516525     0.999570\n",
              "model_1_dense_w7_h1      585.975281  5.859753e+02  ...     2.614908     1.029396\n",
              "model_2_dense_w30_h1     608.961975  6.089620e+02  ...     2.769341     1.064471\n",
              "model_3_dense_w30_h7    1234.883667  5.393734e+06  ...     5.487498     2.197406\n",
              "model_4_CONV1D           570.828430  1.176672e+06  ...     2.559335     1.002787\n",
              "model_5_LSTM             597.462341  1.275416e+06  ...     2.691097     1.049576\n",
              "model_6_multivariate     568.449219  1.162442e+06  ...     2.555887     0.998608\n",
              "model_8_NBEATs        979368.062500  1.693617e+12  ...  4887.283691  1720.478394\n",
              "model_9_ensemble         566.591370  1.141067e+06  ...     2.575898     0.995344\n",
              "\n",
              "[9 rows x 5 columns]"
            ]
          },
          "metadata": {},
          "execution_count": 159
        }
      ]
    }
  ]
}